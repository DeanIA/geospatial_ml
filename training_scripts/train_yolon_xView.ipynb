{
 "cells": [
  {
   "cell_type": "code",
   "execution_count": 2,
   "id": "e14823d4",
   "metadata": {},
   "outputs": [
    {
     "name": "stdout",
     "output_type": "stream",
     "text": [
      "True\n",
      "2\n"
     ]
    },
    {
     "name": "stderr",
     "output_type": "stream",
     "text": [
      "/home/jupyter-dai7591/.conda/envs/yolo/lib/python3.10/site-packages/torch/cuda/__init__.py:716: UserWarning: Can't initialize NVML\n",
      "  warnings.warn(\"Can't initialize NVML\")\n"
     ]
    }
   ],
   "source": [
    "import torch\n",
    "print(torch.cuda.is_available())      \n",
    "print(torch.cuda.device_count())  "
   ]
  },
  {
   "cell_type": "markdown",
   "id": "3ee4c7ba",
   "metadata": {},
   "source": [
    "### Load dataset\n",
    "\n",
    "Dataset from: https://xviewdataset.org/\n",
    "Full list of albumations functions in ultralytics: https://docs.ultralytics.com/reference/data/augment/h=albumentation#ultralyticsdataaugmentBaseTransform\n",
    "\n",
    "`convert_xView.py`\n",
    "Custom script that does the train/val split and converts geojson to labels.\n",
    "\n",
    "`sanity_check`\n",
    "Custom script that ensures each image and label pair exists."
   ]
  },
  {
   "cell_type": "markdown",
   "id": "473eeef5",
   "metadata": {},
   "source": [
    "### Inspect dataset"
   ]
  },
  {
   "cell_type": "code",
   "execution_count": 2,
   "id": "1d261a55",
   "metadata": {},
   "outputs": [
    {
     "name": "stdout",
     "output_type": "stream",
     "text": [
      "xView\n",
      "Image counts:\n",
      "  train: 846\n",
      "  val: 281\n",
      "\n",
      "Label counts:\n",
      "  train: 846\n",
      "  val: path not found (/home/jupyter-dai7591/yolo/datasets/xView/labels/val)\n"
     ]
    }
   ],
   "source": [
    "from pathlib import Path\n",
    "\n",
    "# 1) explicitly point at your xView folder\n",
    "root = Path(\"/home/jupyter-dai7591/yolo/datasets/xView\")\n",
    "\n",
    "image_exts = {\".png\", \".tif\"}\n",
    "label_exts = {\".txt\"}\n",
    "\n",
    "print(\"xView\")\n",
    "print(\"Image counts:\")\n",
    "for split in (\"train\", \"val\"):\n",
    "    img_dir = root / \"images\" / split\n",
    "    if not img_dir.exists():\n",
    "        print(f\"  {split}: path not found ({img_dir})\")\n",
    "    else:\n",
    "        cnt = sum(1 for f in img_dir.rglob(\"*\") if f.suffix.lower() in image_exts)\n",
    "        print(f\"  {split}: {cnt}\")\n",
    "\n",
    "print(\"\\nLabel counts:\")\n",
    "for split in (\"train\", \"val\"):\n",
    "    lbl_dir = root / \"labels\" / split\n",
    "    if not lbl_dir.exists():\n",
    "        print(f\"  {split}: path not found ({lbl_dir})\")\n",
    "    else:\n",
    "        cnt = sum(1 for f in lbl_dir.rglob(\"*\") if f.suffix.lower() in label_exts)\n",
    "        print(f\"  {split}: {cnt}\")"
   ]
  },
  {
   "cell_type": "markdown",
   "id": "d104b903",
   "metadata": {},
   "source": [
    "### Load model"
   ]
  },
  {
   "cell_type": "code",
   "execution_count": 3,
   "id": "2e0ee99c",
   "metadata": {},
   "outputs": [],
   "source": [
    "from ultralytics import YOLO\n",
    "\n",
    "# Load a pretrained model\n",
    "model = YOLO(\"test_yolo/experiment_14/weights/best.pt\") # n for nano, x for huge"
   ]
  },
  {
   "cell_type": "markdown",
   "id": "ae80f71f",
   "metadata": {},
   "source": [
    "### Train model\n",
    "Includes list of augmentations to apply to each batch before training loop. Doesn't create more images, just augments the existing ones (and labels accordingly) to enrich dataset. "
   ]
  },
  {
   "cell_type": "code",
   "execution_count": null,
   "id": "52761c9c",
   "metadata": {},
   "outputs": [
    {
     "name": "stdout",
     "output_type": "stream",
     "text": [
      "New https://pypi.org/project/ultralytics/8.3.123 available 😃 Update with 'pip install -U ultralytics'\n",
      "Ultralytics 8.3.122 🚀 Python-3.10.17 torch-2.7.0+cu126 CUDA:0 (NVIDIA RTX 6000 Ada Generation, 48625MiB)\n"
     ]
    },
    {
     "name": "stdout",
     "output_type": "stream",
     "text": [
      "\u001b[34m\u001b[1mengine/trainer: \u001b[0mtask=obb, mode=train, model=test_yolo/experiment_14/weights/best.pt, data=datasets/xView/xView.yaml, epochs=100, time=None, patience=15, batch=8, imgsz=640, save=True, save_period=8, cache=False, device=0, workers=8, project=test_yolo, name=xView fine tune40, exist_ok=False, pretrained=False, optimizer=auto, verbose=True, seed=18, deterministic=True, single_cls=False, rect=False, cos_lr=False, close_mosaic=10, resume=False, amp=True, fraction=1.0, profile=False, freeze=None, multi_scale=True, overlap_mask=True, mask_ratio=4, dropout=0.0, val=True, split=0.2, save_json=False, conf=None, iou=0.7, max_det=300, half=False, dnn=False, plots=True, source=None, vid_stride=1, stream_buffer=False, visualize=False, augment=False, agnostic_nms=False, classes=None, retina_masks=False, embed=None, show=False, save_frames=False, save_txt=False, save_conf=False, save_crop=False, show_labels=True, show_conf=True, show_boxes=True, line_width=None, format=torchscript, keras=False, optimize=False, int8=False, dynamic=False, simplify=True, opset=None, workspace=None, nms=False, lr0=0.01, lrf=0.001, momentum=0.937, weight_decay=0.0005, warmup_epochs=3.0, warmup_momentum=0.8, warmup_bias_lr=0.1, box=7.5, cls=0.5, dfl=1.5, pose=12.0, kobj=1.0, nbs=64, hsv_h=0.015, hsv_s=0.7, hsv_v=0.4, degrees=0.0, translate=0.1, scale=0.5, shear=0.0, perspective=0.0, flipud=0.0, fliplr=0.5, bgr=0.0, mosaic=1.0, mixup=0.0, cutmix=0.0, copy_paste=0.0, copy_paste_mode=flip, auto_augment=randaugment, erasing=0.4, cfg=None, tracker=botsort.yaml, save_dir=test_yolo/xView fine tune40\n",
      "Overriding model.yaml nc=16 with nc=60\n",
      "\n",
      "                   from  n    params  module                                       arguments                     \n",
      "  0                  -1  1       464  ultralytics.nn.modules.conv.Conv             [3, 16, 3, 2]                 \n",
      "  1                  -1  1      4672  ultralytics.nn.modules.conv.Conv             [16, 32, 3, 2]                \n",
      "  2                  -1  1      6640  ultralytics.nn.modules.block.C3k2            [32, 64, 1, False, 0.25]      \n",
      "  3                  -1  1     36992  ultralytics.nn.modules.conv.Conv             [64, 64, 3, 2]                \n",
      "  4                  -1  1     26080  ultralytics.nn.modules.block.C3k2            [64, 128, 1, False, 0.25]     \n",
      "  5                  -1  1    147712  ultralytics.nn.modules.conv.Conv             [128, 128, 3, 2]              \n",
      "  6                  -1  1     87040  ultralytics.nn.modules.block.C3k2            [128, 128, 1, True]           \n",
      "  7                  -1  1    295424  ultralytics.nn.modules.conv.Conv             [128, 256, 3, 2]              \n",
      "  8                  -1  1    346112  ultralytics.nn.modules.block.C3k2            [256, 256, 1, True]           \n",
      "  9                  -1  1    164608  ultralytics.nn.modules.block.SPPF            [256, 256, 5]                 \n",
      " 10                  -1  1    249728  ultralytics.nn.modules.block.C2PSA           [256, 256, 1]                 \n",
      " 11                  -1  1         0  torch.nn.modules.upsampling.Upsample         [None, 2, 'nearest']          \n",
      " 12             [-1, 6]  1         0  ultralytics.nn.modules.conv.Concat           [1]                           \n",
      " 13                  -1  1    111296  ultralytics.nn.modules.block.C3k2            [384, 128, 1, False]          \n",
      " 14                  -1  1         0  torch.nn.modules.upsampling.Upsample         [None, 2, 'nearest']          \n",
      " 15             [-1, 4]  1         0  ultralytics.nn.modules.conv.Concat           [1]                           \n",
      " 16                  -1  1     32096  ultralytics.nn.modules.block.C3k2            [256, 64, 1, False]           \n",
      " 17                  -1  1     36992  ultralytics.nn.modules.conv.Conv             [64, 64, 3, 2]                \n",
      " 18            [-1, 13]  1         0  ultralytics.nn.modules.conv.Concat           [1]                           \n",
      " 19                  -1  1     86720  ultralytics.nn.modules.block.C3k2            [192, 128, 1, False]          \n",
      " 20                  -1  1    147712  ultralytics.nn.modules.conv.Conv             [128, 128, 3, 2]              \n",
      " 21            [-1, 10]  1         0  ultralytics.nn.modules.conv.Concat           [1]                           \n",
      " 22                  -1  1    378880  ultralytics.nn.modules.block.C3k2            [384, 256, 1, True]           \n",
      " 23        [16, 19, 22]  1    514039  ultralytics.nn.modules.head.OBB              [60, 1, [64, 128, 256]]       \n",
      "YOLO11n-obb summary: 196 layers, 2,673,207 parameters, 2,673,191 gradients, 6.8 GFLOPs\n",
      "\n",
      "Transferred 535/541 items from pretrained weights\n",
      "Freezing layer 'model.23.dfl.conv.weight'\n",
      "\u001b[34m\u001b[1mAMP: \u001b[0mrunning Automatic Mixed Precision (AMP) checks...\n",
      "\u001b[34m\u001b[1mAMP: \u001b[0mchecks passed ✅\n",
      "\u001b[34m\u001b[1mtrain: \u001b[0mFast image access ✅ (ping: 0.0±0.0 ms, read: 2265.1±308.7 MB/s, size: 12424.5 KB)\n"
     ]
    },
    {
     "name": "stderr",
     "output_type": "stream",
     "text": [
      "\u001b[34m\u001b[1mtrain: \u001b[0mScanning /home/jupyter-dai7591/yolo/datasets/xView/labels/train.cache... 846 images, 0 backgrounds, 0 corrupt: 100%|██████████| 846/846 [00:00<?, ?it/s]\n"
     ]
    },
    {
     "name": "stdout",
     "output_type": "stream",
     "text": [
      "\u001b[34m\u001b[1mval: \u001b[0mFast image access ✅ (ping: 0.0±0.0 ms, read: 3402.6±1931.5 MB/s, size: 10958.9 KB)\n"
     ]
    },
    {
     "name": "stderr",
     "output_type": "stream",
     "text": [
      "\u001b[34m\u001b[1mval: \u001b[0mScanning /home/jupyter-dai7591/yolo/datasets/xView/labels/train.cache... 846 images, 0 backgrounds, 0 corrupt: 100%|██████████| 846/846 [00:00<?, ?it/s]\n"
     ]
    },
    {
     "name": "stdout",
     "output_type": "stream",
     "text": [
      "Plotting labels to test_yolo/xView fine tune40/labels.jpg... \n",
      "\u001b[34m\u001b[1moptimizer:\u001b[0m 'optimizer=auto' found, ignoring 'lr0=0.01' and 'momentum=0.937' and determining best 'optimizer', 'lr0' and 'momentum' automatically... \n",
      "\u001b[34m\u001b[1moptimizer:\u001b[0m AdamW(lr=0.000156, momentum=0.9) with parameter groups 87 weight(decay=0.0), 97 weight(decay=0.0005), 96 bias(decay=0.0)\n",
      "Image sizes 640 train, 640 val\n",
      "Using 8 dataloader workers\n",
      "Logging results to \u001b[1mtest_yolo/xView fine tune40\u001b[0m\n",
      "Starting training for 100 epochs...\n",
      "\n",
      "      Epoch    GPU_mem   box_loss   cls_loss   dfl_loss  Instances       Size\n"
     ]
    },
    {
     "name": "stderr",
     "output_type": "stream",
     "text": [
      "      1/100       6.9G          3      5.125      1.475       2962        896:  16%|█▌        | 17/106 [00:07<00:36,  2.47it/s]"
     ]
    },
    {
     "name": "stdout",
     "output_type": "stream",
     "text": [
      "WARNING ⚠️ CUDA OutOfMemoryError in TaskAlignedAssigner, using CPU\n"
     ]
    },
    {
     "name": "stderr",
     "output_type": "stream",
     "text": [
      "      1/100       7.1G      2.958      5.105      1.463       7722        576:  33%|███▎      | 35/106 [00:17<00:22,  3.12it/s]"
     ]
    },
    {
     "name": "stdout",
     "output_type": "stream",
     "text": [
      "WARNING ⚠️ CUDA OutOfMemoryError in TaskAlignedAssigner, using CPU\n"
     ]
    },
    {
     "name": "stderr",
     "output_type": "stream",
     "text": [
      "      1/100      16.4G      2.915      5.054      1.456       3290        736:  50%|█████     | 53/106 [00:28<00:19,  2.77it/s]"
     ]
    },
    {
     "name": "stdout",
     "output_type": "stream",
     "text": [
      "WARNING ⚠️ CUDA OutOfMemoryError in TaskAlignedAssigner, using CPU\n"
     ]
    },
    {
     "name": "stderr",
     "output_type": "stream",
     "text": [
      "      1/100      18.9G      2.788      4.854      1.419       2369        736: 100%|██████████| 106/106 [00:54<00:00,  1.96it/s]\n",
      "                 Class     Images  Instances      Box(P          R      mAP50  mAP50-95): 100%|██████████| 106/106 [00:52<00:00,  2.02it/s]"
     ]
    },
    {
     "name": "stdout",
     "output_type": "stream",
     "text": [
      "                   all        846     601727    0.00358    0.00171    0.00206   0.000753\n"
     ]
    },
    {
     "name": "stderr",
     "output_type": "stream",
     "text": [
      "\n"
     ]
    },
    {
     "name": "stdout",
     "output_type": "stream",
     "text": [
      "\n",
      "      Epoch    GPU_mem   box_loss   cls_loss   dfl_loss  Instances       Size\n"
     ]
    },
    {
     "name": "stderr",
     "output_type": "stream",
     "text": [
      "      2/100      18.9G      2.547      3.944      1.314       4115        960: 100%|██████████| 106/106 [00:39<00:00,  2.72it/s]\n",
      "                 Class     Images  Instances      Box(P          R      mAP50  mAP50-95): 100%|██████████| 106/106 [00:56<00:00,  1.87it/s]"
     ]
    },
    {
     "name": "stdout",
     "output_type": "stream",
     "text": [
      "                   all        846     601727     0.0214    0.00528     0.0123     0.0082\n"
     ]
    },
    {
     "name": "stderr",
     "output_type": "stream",
     "text": [
      "\n"
     ]
    },
    {
     "name": "stdout",
     "output_type": "stream",
     "text": [
      "\n",
      "      Epoch    GPU_mem   box_loss   cls_loss   dfl_loss  Instances       Size\n"
     ]
    },
    {
     "name": "stderr",
     "output_type": "stream",
     "text": [
      "      3/100      18.9G      2.512      2.941      1.258       7472        384:  86%|████████▌ | 91/106 [00:30<00:04,  3.24it/s]"
     ]
    },
    {
     "name": "stdout",
     "output_type": "stream",
     "text": [
      "WARNING ⚠️ CUDA OutOfMemoryError in TaskAlignedAssigner, using CPU\n"
     ]
    },
    {
     "name": "stderr",
     "output_type": "stream",
     "text": [
      "      3/100      18.9G      2.523      2.879      1.254       4513        640: 100%|██████████| 106/106 [00:42<00:00,  2.48it/s]\n",
      "                 Class     Images  Instances      Box(P          R      mAP50  mAP50-95): 100%|██████████| 106/106 [01:03<00:00,  1.67it/s]"
     ]
    },
    {
     "name": "stdout",
     "output_type": "stream",
     "text": [
      "                   all        846     601727     0.0227    0.00853      0.015       0.01\n"
     ]
    },
    {
     "name": "stderr",
     "output_type": "stream",
     "text": [
      "\n"
     ]
    },
    {
     "name": "stdout",
     "output_type": "stream",
     "text": [
      "\n",
      "      Epoch    GPU_mem   box_loss   cls_loss   dfl_loss  Instances       Size\n"
     ]
    },
    {
     "name": "stderr",
     "output_type": "stream",
     "text": [
      "      4/100      18.9G      2.439      2.207      1.262       2986        864: 100%|██████████| 106/106 [00:38<00:00,  2.72it/s]\n",
      "                 Class     Images  Instances      Box(P          R      mAP50  mAP50-95): 100%|██████████| 106/106 [01:05<00:00,  1.62it/s]"
     ]
    },
    {
     "name": "stdout",
     "output_type": "stream",
     "text": [
      "                   all        846     601727     0.0223    0.00973     0.0157     0.0105\n"
     ]
    },
    {
     "name": "stderr",
     "output_type": "stream",
     "text": [
      "\n"
     ]
    },
    {
     "name": "stdout",
     "output_type": "stream",
     "text": [
      "\n",
      "      Epoch    GPU_mem   box_loss   cls_loss   dfl_loss  Instances       Size\n"
     ]
    },
    {
     "name": "stderr",
     "output_type": "stream",
     "text": [
      "      5/100        19G      2.371      1.994      1.269       6425        384: 100%|██████████| 106/106 [00:37<00:00,  2.84it/s]\n",
      "                 Class     Images  Instances      Box(P          R      mAP50  mAP50-95): 100%|██████████| 106/106 [01:03<00:00,  1.67it/s]"
     ]
    },
    {
     "name": "stdout",
     "output_type": "stream",
     "text": [
      "                   all        846     601727     0.0221     0.0132     0.0178     0.0118\n"
     ]
    },
    {
     "name": "stderr",
     "output_type": "stream",
     "text": [
      "\n"
     ]
    },
    {
     "name": "stdout",
     "output_type": "stream",
     "text": [
      "\n",
      "      Epoch    GPU_mem   box_loss   cls_loss   dfl_loss  Instances       Size\n"
     ]
    },
    {
     "name": "stderr",
     "output_type": "stream",
     "text": [
      "      6/100        19G      2.335      1.784      1.246       7780        448: 100%|██████████| 106/106 [00:39<00:00,  2.71it/s]\n",
      "                 Class     Images  Instances      Box(P          R      mAP50  mAP50-95): 100%|██████████| 106/106 [01:06<00:00,  1.59it/s]"
     ]
    },
    {
     "name": "stdout",
     "output_type": "stream",
     "text": [
      "                   all        846     601727      0.707     0.0136     0.0188     0.0124\n"
     ]
    },
    {
     "name": "stderr",
     "output_type": "stream",
     "text": [
      "\n"
     ]
    },
    {
     "name": "stdout",
     "output_type": "stream",
     "text": [
      "\n",
      "      Epoch    GPU_mem   box_loss   cls_loss   dfl_loss  Instances       Size\n"
     ]
    },
    {
     "name": "stderr",
     "output_type": "stream",
     "text": [
      "      7/100        19G      2.286      1.722       1.25       4761        576: 100%|██████████| 106/106 [00:38<00:00,  2.73it/s]\n",
      "                 Class     Images  Instances      Box(P          R      mAP50  mAP50-95): 100%|██████████| 106/106 [01:13<00:00,  1.45it/s]"
     ]
    },
    {
     "name": "stdout",
     "output_type": "stream",
     "text": [
      "                   all        846     601727      0.656     0.0147     0.0195     0.0128\n"
     ]
    },
    {
     "name": "stderr",
     "output_type": "stream",
     "text": [
      "\n"
     ]
    },
    {
     "name": "stdout",
     "output_type": "stream",
     "text": [
      "\n",
      "      Epoch    GPU_mem   box_loss   cls_loss   dfl_loss  Instances       Size\n"
     ]
    },
    {
     "name": "stderr",
     "output_type": "stream",
     "text": [
      "      8/100        19G       2.28      1.709      1.228       3504        384:  90%|████████▉ | 95/106 [00:34<00:03,  3.56it/s]"
     ]
    },
    {
     "name": "stdout",
     "output_type": "stream",
     "text": [
      "WARNING ⚠️ CUDA OutOfMemoryError in TaskAlignedAssigner, using CPU\n"
     ]
    },
    {
     "name": "stderr",
     "output_type": "stream",
     "text": [
      "      8/100      18.8G      2.274      1.716      1.234       5966        960: 100%|██████████| 106/106 [00:47<00:00,  2.22it/s]\n",
      "                 Class     Images  Instances      Box(P          R      mAP50  mAP50-95): 100%|██████████| 106/106 [01:25<00:00,  1.23it/s]"
     ]
    },
    {
     "name": "stdout",
     "output_type": "stream",
     "text": [
      "                   all        846     601727      0.523     0.0153     0.0211     0.0138\n"
     ]
    },
    {
     "name": "stderr",
     "output_type": "stream",
     "text": [
      "\n"
     ]
    },
    {
     "name": "stdout",
     "output_type": "stream",
     "text": [
      "\n",
      "      Epoch    GPU_mem   box_loss   cls_loss   dfl_loss  Instances       Size\n"
     ]
    },
    {
     "name": "stderr",
     "output_type": "stream",
     "text": [
      "      9/100      18.8G      2.232      1.667      1.223       4763        608: 100%|██████████| 106/106 [00:36<00:00,  2.88it/s]\n",
      "                 Class     Images  Instances      Box(P          R      mAP50  mAP50-95): 100%|██████████| 106/106 [01:30<00:00,  1.17it/s]"
     ]
    },
    {
     "name": "stdout",
     "output_type": "stream",
     "text": [
      "                   all        846     601727      0.443     0.0166      0.022     0.0141\n"
     ]
    },
    {
     "name": "stderr",
     "output_type": "stream",
     "text": [
      "\n"
     ]
    },
    {
     "name": "stdout",
     "output_type": "stream",
     "text": [
      "\n",
      "      Epoch    GPU_mem   box_loss   cls_loss   dfl_loss  Instances       Size\n"
     ]
    },
    {
     "name": "stderr",
     "output_type": "stream",
     "text": [
      "     10/100      18.8G      2.213        1.6      1.236       2619        896: 100%|██████████| 106/106 [00:40<00:00,  2.63it/s]\n",
      "                 Class     Images  Instances      Box(P          R      mAP50  mAP50-95): 100%|██████████| 106/106 [01:34<00:00,  1.12it/s]"
     ]
    },
    {
     "name": "stdout",
     "output_type": "stream",
     "text": [
      "                   all        846     601727      0.442     0.0173     0.0229     0.0149\n"
     ]
    },
    {
     "name": "stderr",
     "output_type": "stream",
     "text": [
      "\n"
     ]
    },
    {
     "name": "stdout",
     "output_type": "stream",
     "text": [
      "\n",
      "      Epoch    GPU_mem   box_loss   cls_loss   dfl_loss  Instances       Size\n"
     ]
    },
    {
     "name": "stderr",
     "output_type": "stream",
     "text": [
      "     11/100      18.8G      2.173      1.605      1.226       6935        928: 100%|██████████| 106/106 [00:38<00:00,  2.72it/s]\n",
      "                 Class     Images  Instances      Box(P          R      mAP50  mAP50-95):  65%|██████▌   | 69/106 [01:01<00:36,  1.00it/s]"
     ]
    },
    {
     "name": "stdout",
     "output_type": "stream",
     "text": [
      "WARNING ⚠️ NMS time limit 2.400s exceeded\n"
     ]
    },
    {
     "name": "stderr",
     "output_type": "stream",
     "text": [
      "                 Class     Images  Instances      Box(P          R      mAP50  mAP50-95): 100%|██████████| 106/106 [01:53<00:00,  1.07s/it]"
     ]
    },
    {
     "name": "stdout",
     "output_type": "stream",
     "text": [
      "                   all        846     601727      0.381     0.0209     0.0243     0.0156\n"
     ]
    },
    {
     "name": "stderr",
     "output_type": "stream",
     "text": [
      "\n"
     ]
    },
    {
     "name": "stdout",
     "output_type": "stream",
     "text": [
      "\n",
      "      Epoch    GPU_mem   box_loss   cls_loss   dfl_loss  Instances       Size\n"
     ]
    },
    {
     "name": "stderr",
     "output_type": "stream",
     "text": [
      "     12/100      15.1G      2.214      1.613       1.23       1170        704: 100%|██████████| 106/106 [00:38<00:00,  2.74it/s]\n",
      "                 Class     Images  Instances      Box(P          R      mAP50  mAP50-95):  40%|███▉      | 42/106 [00:44<01:11,  1.11s/it]"
     ]
    },
    {
     "name": "stdout",
     "output_type": "stream",
     "text": [
      "WARNING ⚠️ NMS time limit 2.400s exceeded\n"
     ]
    },
    {
     "name": "stderr",
     "output_type": "stream",
     "text": [
      "                 Class     Images  Instances      Box(P          R      mAP50  mAP50-95):  42%|████▏     | 44/106 [00:48<01:37,  1.57s/it]"
     ]
    },
    {
     "name": "stdout",
     "output_type": "stream",
     "text": [
      "WARNING ⚠️ NMS time limit 2.400s exceeded\n"
     ]
    },
    {
     "name": "stderr",
     "output_type": "stream",
     "text": [
      "                 Class     Images  Instances      Box(P          R      mAP50  mAP50-95):  65%|██████▌   | 69/106 [01:04<00:40,  1.08s/it]"
     ]
    },
    {
     "name": "stdout",
     "output_type": "stream",
     "text": [
      "WARNING ⚠️ NMS time limit 2.400s exceeded\n"
     ]
    },
    {
     "name": "stderr",
     "output_type": "stream",
     "text": [
      "                 Class     Images  Instances      Box(P          R      mAP50  mAP50-95):  66%|██████▌   | 70/106 [01:09<00:35,  1.00it/s]\n"
     ]
    },
    {
     "ename": "OutOfMemoryError",
     "evalue": "CUDA out of memory. Tried to allocate 3.10 GiB. GPU 0 has a total capacity of 47.49 GiB of which 1.35 GiB is free. Process 997447 has 2.58 GiB memory in use. Process 1999272 has 5.10 GiB memory in use. Process 2670656 has 3.98 GiB memory in use. Process 2946540 has 758.00 MiB memory in use. Process 3198744 has 9.41 GiB memory in use. Process 898415 has 4.91 GiB memory in use. Including non-PyTorch memory, this process has 19.37 GiB memory in use. Of the allocated memory 15.77 GiB is allocated by PyTorch, and 3.04 GiB is reserved by PyTorch but unallocated. If reserved but unallocated memory is large try setting PYTORCH_CUDA_ALLOC_CONF=expandable_segments:True to avoid fragmentation.  See documentation for Memory Management  (https://pytorch.org/docs/stable/notes/cuda.html#environment-variables)",
     "output_type": "error",
     "traceback": [
      "\u001b[0;31m---------------------------------------------------------------------------\u001b[0m",
      "\u001b[0;31mOutOfMemoryError\u001b[0m                          Traceback (most recent call last)",
      "Cell \u001b[0;32mIn[4], line 1\u001b[0m\n\u001b[0;32m----> 1\u001b[0m results \u001b[38;5;241m=\u001b[39m \u001b[43mmodel\u001b[49m\u001b[38;5;241;43m.\u001b[39;49m\u001b[43mtrain\u001b[49m\u001b[43m(\u001b[49m\n\u001b[1;32m      2\u001b[0m \u001b[43m    \u001b[49m\u001b[43mdata\u001b[49m\u001b[38;5;241;43m=\u001b[39;49m\u001b[38;5;124;43m\"\u001b[39;49m\u001b[38;5;124;43mdatasets/xView/xView.yaml\u001b[39;49m\u001b[38;5;124;43m\"\u001b[39;49m\u001b[43m,\u001b[49m\u001b[43m  \u001b[49m\u001b[38;5;66;43;03m# Path to custom dataset YAML\u001b[39;49;00m\n\u001b[1;32m      3\u001b[0m \u001b[43m    \u001b[49m\u001b[43mepochs\u001b[49m\u001b[38;5;241;43m=\u001b[39;49m\u001b[38;5;241;43m100\u001b[39;49m\u001b[43m,\u001b[49m\u001b[43m                          \u001b[49m\u001b[38;5;66;43;03m# Total number of training epochs\u001b[39;49;00m\n\u001b[1;32m      4\u001b[0m \u001b[43m    \u001b[49m\u001b[43mimgsz\u001b[49m\u001b[38;5;241;43m=\u001b[39;49m\u001b[38;5;241;43m640\u001b[39;49m\u001b[43m,\u001b[49m\u001b[43m                           \u001b[49m\u001b[38;5;66;43;03m# Input image size for training\u001b[39;49;00m\n\u001b[1;32m      5\u001b[0m \u001b[43m    \u001b[49m\u001b[43msplit\u001b[49m\u001b[38;5;241;43m=\u001b[39;49m\u001b[38;5;241;43m0.2\u001b[39;49m\u001b[43m,\u001b[49m\n\u001b[1;32m      6\u001b[0m \u001b[43m    \u001b[49m\u001b[43mpatience\u001b[49m\u001b[38;5;241;43m=\u001b[39;49m\u001b[38;5;241;43m15\u001b[39;49m\u001b[43m,\u001b[49m\u001b[43m                         \u001b[49m\u001b[38;5;66;43;03m# patience: Number of epochs with no improvement before early stopping\u001b[39;49;00m\n\u001b[1;32m      7\u001b[0m \u001b[43m    \u001b[49m\u001b[43mbatch\u001b[49m\u001b[38;5;241;43m=\u001b[39;49m\u001b[38;5;241;43m8\u001b[39;49m\u001b[43m,\u001b[49m\u001b[43m                            \u001b[49m\u001b[38;5;66;43;03m# batch: Batch size (use -1 or a fraction for auto GPU memory utilization)\u001b[39;49;00m\n\u001b[1;32m      8\u001b[0m \u001b[43m    \u001b[49m\u001b[43msave\u001b[49m\u001b[38;5;241;43m=\u001b[39;49m\u001b[38;5;28;43;01mTrue\u001b[39;49;00m\u001b[43m,\u001b[49m\u001b[43m                           \u001b[49m\u001b[38;5;66;43;03m# save: Save training checkpoints and final model weights\u001b[39;49;00m\n\u001b[1;32m      9\u001b[0m \u001b[43m    \u001b[49m\u001b[43msave_period\u001b[49m\u001b[38;5;241;43m=\u001b[39;49m\u001b[38;5;241;43m8\u001b[39;49m\u001b[43m,\u001b[49m\u001b[43m                      \u001b[49m\u001b[38;5;66;43;03m# save_period: Frequency (in epochs) for saving checkpoints; -1 disables\u001b[39;49;00m\n\u001b[1;32m     10\u001b[0m \u001b[43m    \u001b[49m\u001b[43mcache\u001b[49m\u001b[38;5;241;43m=\u001b[39;49m\u001b[38;5;28;43;01mFalse\u001b[39;49;00m\u001b[43m,\u001b[49m\u001b[43m                         \u001b[49m\u001b[38;5;66;43;03m# cache: Enable caching of dataset images (True for RAM, 'disk' for disk caching)\u001b[39;49;00m\n\u001b[1;32m     11\u001b[0m \u001b[43m    \u001b[49m\u001b[43mdevice\u001b[49m\u001b[38;5;241;43m=\u001b[39;49m\u001b[38;5;124;43m'\u001b[39;49m\u001b[38;5;124;43m0\u001b[39;49m\u001b[38;5;124;43m'\u001b[39;49m\u001b[43m,\u001b[49m\u001b[43m                       \u001b[49m\u001b[38;5;66;43;03m# device: Specify the computational device (e.g., 0, \"cpu\", or list of GPUs)\u001b[39;49;00m\n\u001b[1;32m     12\u001b[0m \u001b[43m    \u001b[49m\u001b[43mworkers\u001b[49m\u001b[38;5;241;43m=\u001b[39;49m\u001b[38;5;241;43m8\u001b[39;49m\u001b[43m,\u001b[49m\u001b[43m                           \u001b[49m\u001b[38;5;66;43;03m# workers: Number of worker threads for data loading\u001b[39;49;00m\n\u001b[1;32m     13\u001b[0m \u001b[43m    \u001b[49m\u001b[43mproject\u001b[49m\u001b[38;5;241;43m=\u001b[39;49m\u001b[38;5;124;43m\"\u001b[39;49m\u001b[38;5;124;43mtest_yolo\u001b[39;49m\u001b[38;5;124;43m\"\u001b[39;49m\u001b[43m,\u001b[49m\u001b[43m                 \u001b[49m\u001b[38;5;66;43;03m# project: Name of the project directory for saving outputs\u001b[39;49;00m\n\u001b[1;32m     14\u001b[0m \u001b[43m    \u001b[49m\u001b[43mname\u001b[49m\u001b[38;5;241;43m=\u001b[39;49m\u001b[38;5;124;43m\"\u001b[39;49m\u001b[38;5;124;43mxView fine tune\u001b[39;49m\u001b[38;5;124;43m\"\u001b[39;49m\u001b[43m,\u001b[49m\u001b[43m                 \u001b[49m\u001b[38;5;66;43;03m# name: Name of the training run\u001b[39;49;00m\n\u001b[1;32m     15\u001b[0m \u001b[43m    \u001b[49m\u001b[43mexist_ok\u001b[49m\u001b[38;5;241;43m=\u001b[39;49m\u001b[38;5;28;43;01mFalse\u001b[39;49;00m\u001b[43m,\u001b[49m\u001b[43m                      \u001b[49m\u001b[38;5;66;43;03m# exist_ok: Allow overwriting an existing project/name directory if True\u001b[39;49;00m\n\u001b[1;32m     16\u001b[0m \u001b[43m    \u001b[49m\u001b[43mpretrained\u001b[49m\u001b[38;5;241;43m=\u001b[39;49m\u001b[38;5;28;43;01mFalse\u001b[39;49;00m\u001b[43m,\u001b[49m\u001b[43m                     \u001b[49m\u001b[38;5;66;43;03m# pretrained: Start from a pretrained model or provide a path to one\u001b[39;49;00m\n\u001b[1;32m     17\u001b[0m \u001b[43m    \u001b[49m\u001b[43moptimizer\u001b[49m\u001b[38;5;241;43m=\u001b[39;49m\u001b[38;5;124;43m\"\u001b[39;49m\u001b[38;5;124;43mauto\u001b[39;49m\u001b[38;5;124;43m\"\u001b[39;49m\u001b[43m,\u001b[49m\u001b[43m                    \u001b[49m\u001b[38;5;66;43;03m# optimizer: Choice of optimizer (e.g., 'SGD', 'Adam', or 'auto')\u001b[39;49;00m\n\u001b[1;32m     18\u001b[0m \u001b[43m    \u001b[49m\u001b[43mseed\u001b[49m\u001b[38;5;241;43m=\u001b[39;49m\u001b[38;5;241;43m18\u001b[39;49m\u001b[43m,\u001b[49m\u001b[43m                             \u001b[49m\u001b[38;5;66;43;03m# seed: Random seed for reproducibility\u001b[39;49;00m\n\u001b[1;32m     19\u001b[0m \u001b[43m    \u001b[49m\u001b[43msingle_cls\u001b[49m\u001b[38;5;241;43m=\u001b[39;49m\u001b[38;5;28;43;01mFalse\u001b[39;49;00m\u001b[43m,\u001b[49m\u001b[43m                    \u001b[49m\u001b[38;5;66;43;03m# single_cls: Treat all classes as a single class (useful for binary tasks)\u001b[39;49;00m\n\u001b[1;32m     20\u001b[0m \u001b[43m    \u001b[49m\u001b[43mclasses\u001b[49m\u001b[38;5;241;43m=\u001b[39;49m\u001b[38;5;28;43;01mNone\u001b[39;49;00m\u001b[43m,\u001b[49m\u001b[43m                        \u001b[49m\u001b[38;5;66;43;03m# classes: List of class IDs to train on; None uses all classes\u001b[39;49;00m\n\u001b[1;32m     21\u001b[0m \u001b[43m    \u001b[49m\u001b[43mrect\u001b[49m\u001b[38;5;241;43m=\u001b[39;49m\u001b[38;5;28;43;01mFalse\u001b[39;49;00m\u001b[43m,\u001b[49m\u001b[43m                          \u001b[49m\u001b[38;5;66;43;03m# rect: Enable rectangular training to minimize padding in batches\u001b[39;49;00m\n\u001b[1;32m     22\u001b[0m \u001b[43m    \u001b[49m\u001b[43mmulti_scale\u001b[49m\u001b[38;5;241;43m=\u001b[39;49m\u001b[38;5;28;43;01mTrue\u001b[39;49;00m\u001b[43m,\u001b[49m\u001b[43m                    \u001b[49m\u001b[38;5;66;43;03m# multi_scale: Enable multi-scale training by varying the imgsz during training\u001b[39;49;00m\n\u001b[1;32m     23\u001b[0m \u001b[43m    \u001b[49m\u001b[43mcos_lr\u001b[49m\u001b[38;5;241;43m=\u001b[39;49m\u001b[38;5;28;43;01mFalse\u001b[39;49;00m\u001b[43m,\u001b[49m\u001b[43m                        \u001b[49m\u001b[38;5;66;43;03m# cos_lr: Use a cosine learning rate scheduler\u001b[39;49;00m\n\u001b[1;32m     24\u001b[0m \u001b[43m    \u001b[49m\u001b[43mclose_mosaic\u001b[49m\u001b[38;5;241;43m=\u001b[39;49m\u001b[38;5;241;43m10\u001b[39;49m\u001b[43m,\u001b[49m\u001b[43m                     \u001b[49m\u001b[38;5;66;43;03m# close_mosaic: Disable mosaic augmentation in the last N epochs\u001b[39;49;00m\n\u001b[1;32m     25\u001b[0m \u001b[43m    \u001b[49m\u001b[43mresume\u001b[49m\u001b[38;5;241;43m=\u001b[39;49m\u001b[38;5;28;43;01mFalse\u001b[39;49;00m\u001b[43m,\u001b[49m\u001b[43m                        \u001b[49m\u001b[38;5;66;43;03m# resume: Resume training from the last checkpoint if available\u001b[39;49;00m\n\u001b[1;32m     26\u001b[0m \u001b[43m    \u001b[49m\u001b[43mamp\u001b[49m\u001b[38;5;241;43m=\u001b[39;49m\u001b[38;5;28;43;01mTrue\u001b[39;49;00m\u001b[43m,\u001b[49m\u001b[43m                            \u001b[49m\u001b[38;5;66;43;03m# amp: Enable Automatic Mixed Precision training\u001b[39;49;00m\n\u001b[1;32m     27\u001b[0m \u001b[43m    \u001b[49m\u001b[38;5;66;43;03m#fraction=1.0,                       # fraction: Fraction of the dataset to use for training\u001b[39;49;00m\n\u001b[1;32m     28\u001b[0m \u001b[43m    \u001b[49m\u001b[43mfreeze\u001b[49m\u001b[38;5;241;43m=\u001b[39;49m\u001b[38;5;28;43;01mNone\u001b[39;49;00m\u001b[43m,\u001b[49m\u001b[43m                         \u001b[49m\u001b[38;5;66;43;03m# freeze: Freeze the first N layers or specify list of layers to freeze\u001b[39;49;00m\n\u001b[1;32m     29\u001b[0m \u001b[43m    \u001b[49m\u001b[43mlr0\u001b[49m\u001b[38;5;241;43m=\u001b[39;49m\u001b[38;5;241;43m0.01\u001b[39;49m\u001b[43m,\u001b[49m\u001b[43m                            \u001b[49m\u001b[38;5;66;43;03m# lr0: Initial learning rate\u001b[39;49;00m\n\u001b[1;32m     30\u001b[0m \u001b[43m    \u001b[49m\u001b[43mlrf\u001b[49m\u001b[38;5;241;43m=\u001b[39;49m\u001b[38;5;241;43m0.001\u001b[39;49m\u001b[43m,\u001b[49m\u001b[43m                           \u001b[49m\u001b[38;5;66;43;03m# lrf: Final learning rate as a fraction of lr0 (lr0 * lrf)\u001b[39;49;00m\n\u001b[1;32m     31\u001b[0m \u001b[43m    \u001b[49m\u001b[43mmomentum\u001b[49m\u001b[38;5;241;43m=\u001b[39;49m\u001b[38;5;241;43m0.937\u001b[39;49m\u001b[43m,\u001b[49m\u001b[43m                      \u001b[49m\u001b[38;5;66;43;03m# momentum: Momentum factor for the optimizer\u001b[39;49;00m\n\u001b[1;32m     32\u001b[0m \u001b[43m    \u001b[49m\u001b[43mweight_decay\u001b[49m\u001b[38;5;241;43m=\u001b[39;49m\u001b[38;5;241;43m0.0005\u001b[39;49m\u001b[43m,\u001b[49m\u001b[43m                 \u001b[49m\u001b[38;5;66;43;03m# weight_decay: L2 regularization coefficient to prevent overfitting\u001b[39;49;00m\n\u001b[1;32m     33\u001b[0m \u001b[43m    \u001b[49m\u001b[43mwarmup_epochs\u001b[49m\u001b[38;5;241;43m=\u001b[39;49m\u001b[38;5;241;43m3.0\u001b[39;49m\u001b[43m,\u001b[49m\u001b[43m                   \u001b[49m\u001b[38;5;66;43;03m# warmup_epochs: Number of epochs for learning rate warmup\u001b[39;49;00m\n\u001b[1;32m     34\u001b[0m \u001b[43m    \u001b[49m\u001b[43mwarmup_momentum\u001b[49m\u001b[38;5;241;43m=\u001b[39;49m\u001b[38;5;241;43m0.8\u001b[39;49m\u001b[43m,\u001b[49m\u001b[43m                 \u001b[49m\u001b[38;5;66;43;03m# warmup_momentum: Initial momentum value during the warmup phase\u001b[39;49;00m\n\u001b[1;32m     35\u001b[0m \u001b[43m    \u001b[49m\u001b[43mwarmup_bias_lr\u001b[49m\u001b[38;5;241;43m=\u001b[39;49m\u001b[38;5;241;43m0.1\u001b[39;49m\u001b[43m,\u001b[49m\u001b[43m                  \u001b[49m\u001b[38;5;66;43;03m# warmup_bias_lr: Learning rate for bias parameters during warmup\u001b[39;49;00m\n\u001b[1;32m     36\u001b[0m \u001b[43m    \u001b[49m\u001b[43mbox\u001b[49m\u001b[38;5;241;43m=\u001b[39;49m\u001b[38;5;241;43m7.5\u001b[39;49m\u001b[43m,\u001b[49m\u001b[43m                             \u001b[49m\u001b[38;5;66;43;03m# box: Weight of the box loss component (bounding box regression)\u001b[39;49;00m\n\u001b[1;32m     37\u001b[0m \u001b[43m    \u001b[49m\u001b[38;5;28;43mcls\u001b[39;49m\u001b[38;5;241;43m=\u001b[39;49m\u001b[38;5;241;43m0.5\u001b[39;49m\u001b[43m,\u001b[49m\u001b[43m                             \u001b[49m\u001b[38;5;66;43;03m# cls: Weight of the classification loss component\u001b[39;49;00m\n\u001b[1;32m     38\u001b[0m \u001b[43m    \u001b[49m\u001b[43mdfl\u001b[49m\u001b[38;5;241;43m=\u001b[39;49m\u001b[38;5;241;43m1.5\u001b[39;49m\u001b[43m,\u001b[49m\u001b[43m                             \u001b[49m\u001b[38;5;66;43;03m# dfl: Weight of the distribution focal loss for fine-grained classification\u001b[39;49;00m\n\u001b[1;32m     39\u001b[0m \u001b[43m    \u001b[49m\u001b[43mnbs\u001b[49m\u001b[38;5;241;43m=\u001b[39;49m\u001b[38;5;241;43m64\u001b[39;49m\u001b[43m,\u001b[49m\u001b[43m                              \u001b[49m\u001b[38;5;66;43;03m# nbs: Nominal batch size for loss normalization\u001b[39;49;00m\n\u001b[1;32m     40\u001b[0m \u001b[43m    \u001b[49m\u001b[43mdropout\u001b[49m\u001b[38;5;241;43m=\u001b[39;49m\u001b[38;5;241;43m0.0\u001b[39;49m\u001b[43m,\u001b[49m\u001b[43m                         \u001b[49m\u001b[38;5;66;43;03m# dropout: Dropout rate for regularization\u001b[39;49;00m\n\u001b[1;32m     41\u001b[0m \u001b[43m    \u001b[49m\u001b[43mval\u001b[49m\u001b[38;5;241;43m=\u001b[39;49m\u001b[38;5;28;43;01mTrue\u001b[39;49;00m\u001b[43m,\u001b[49m\u001b[43m                            \u001b[49m\u001b[38;5;66;43;03m# val: Enable validation during training\u001b[39;49;00m\n\u001b[1;32m     42\u001b[0m \u001b[43m    \u001b[49m\u001b[43mplots\u001b[49m\u001b[38;5;241;43m=\u001b[39;49m\u001b[38;5;28;43;01mTrue\u001b[39;49;00m\u001b[43m,\u001b[49m\u001b[43m                          \u001b[49m\u001b[38;5;66;43;03m# plots: Generate and save plots of training and validation metrics\u001b[39;49;00m\n\u001b[1;32m     43\u001b[0m \u001b[43m    \u001b[49m\u001b[43mhsv_h\u001b[49m\u001b[38;5;241;43m=\u001b[39;49m\u001b[38;5;241;43m0.015\u001b[39;49m\u001b[43m,\u001b[49m\u001b[43m  \u001b[49m\u001b[38;5;66;43;03m# Adjusts the hue of the image by a fraction of the color wheel\u001b[39;49;00m\n\u001b[1;32m     44\u001b[0m \u001b[43m    \u001b[49m\u001b[43mhsv_s\u001b[49m\u001b[38;5;241;43m=\u001b[39;49m\u001b[38;5;241;43m0.7\u001b[39;49m\u001b[43m,\u001b[49m\u001b[43m    \u001b[49m\u001b[38;5;66;43;03m# Alters the saturation for varied color intensity\u001b[39;49;00m\n\u001b[1;32m     45\u001b[0m \u001b[43m    \u001b[49m\u001b[43mhsv_v\u001b[49m\u001b[38;5;241;43m=\u001b[39;49m\u001b[38;5;241;43m0.4\u001b[39;49m\u001b[43m,\u001b[49m\u001b[43m    \u001b[49m\u001b[38;5;66;43;03m# Modifies brightness to simulate different lighting conditions\u001b[39;49;00m\n\u001b[1;32m     46\u001b[0m \u001b[43m    \u001b[49m\u001b[43mdegrees\u001b[49m\u001b[38;5;241;43m=\u001b[39;49m\u001b[38;5;241;43m0.0\u001b[39;49m\u001b[43m,\u001b[49m\u001b[43m  \u001b[49m\u001b[38;5;66;43;03m# Rotates the image 0° (no rotation); adjust between 0 and 180 for random rotation\u001b[39;49;00m\n\u001b[1;32m     47\u001b[0m \u001b[43m    \u001b[49m\u001b[43mtranslate\u001b[49m\u001b[38;5;241;43m=\u001b[39;49m\u001b[38;5;241;43m0.1\u001b[39;49m\u001b[43m,\u001b[49m\u001b[43m  \u001b[49m\u001b[38;5;66;43;03m# Translates the image by 10% of its size\u001b[39;49;00m\n\u001b[1;32m     48\u001b[0m \u001b[43m    \u001b[49m\u001b[43mscale\u001b[49m\u001b[38;5;241;43m=\u001b[39;49m\u001b[38;5;241;43m0.5\u001b[39;49m\u001b[43m,\u001b[49m\u001b[43m    \u001b[49m\u001b[38;5;66;43;03m# Scales the image, simulating objects at different distances\u001b[39;49;00m\n\u001b[1;32m     49\u001b[0m \u001b[43m    \u001b[49m\u001b[43mshear\u001b[49m\u001b[38;5;241;43m=\u001b[39;49m\u001b[38;5;241;43m0.0\u001b[39;49m\u001b[43m,\u001b[49m\u001b[43m    \u001b[49m\u001b[38;5;66;43;03m# Shears the image 0° (no shearing); modify between -180 and 180 for effect\u001b[39;49;00m\n\u001b[1;32m     50\u001b[0m \u001b[43m    \u001b[49m\u001b[43mperspective\u001b[49m\u001b[38;5;241;43m=\u001b[39;49m\u001b[38;5;241;43m0.0\u001b[39;49m\u001b[43m,\u001b[49m\u001b[43m  \u001b[49m\u001b[38;5;66;43;03m# Applies no perspective transformation; use values up to 0.001 if needed\u001b[39;49;00m\n\u001b[1;32m     51\u001b[0m \u001b[43m    \u001b[49m\u001b[43mflipud\u001b[49m\u001b[38;5;241;43m=\u001b[39;49m\u001b[38;5;241;43m0.0\u001b[39;49m\u001b[43m,\u001b[49m\u001b[43m   \u001b[49m\u001b[38;5;66;43;03m# Probability (0%) of flipping the image upside down\u001b[39;49;00m\n\u001b[1;32m     52\u001b[0m \u001b[43m    \u001b[49m\u001b[43mfliplr\u001b[49m\u001b[38;5;241;43m=\u001b[39;49m\u001b[38;5;241;43m0.5\u001b[39;49m\u001b[43m,\u001b[49m\u001b[43m   \u001b[49m\u001b[38;5;66;43;03m# 50% chance to horizontally flip the image\u001b[39;49;00m\n\u001b[1;32m     53\u001b[0m \u001b[43m    \u001b[49m\u001b[43mbgr\u001b[49m\u001b[38;5;241;43m=\u001b[39;49m\u001b[38;5;241;43m0.0\u001b[39;49m\u001b[43m,\u001b[49m\u001b[43m      \u001b[49m\u001b[38;5;66;43;03m# No conversion from RGB to BGR (0% chance)\u001b[39;49;00m\n\u001b[1;32m     54\u001b[0m \u001b[43m    \u001b[49m\u001b[43mmosaic\u001b[49m\u001b[38;5;241;43m=\u001b[39;49m\u001b[38;5;241;43m1.0\u001b[39;49m\u001b[43m,\u001b[49m\u001b[43m   \u001b[49m\u001b[38;5;66;43;03m# Enables mosaic augmentation by merging four images into one\u001b[39;49;00m\n\u001b[1;32m     55\u001b[0m \u001b[43m    \u001b[49m\u001b[43mmixup\u001b[49m\u001b[38;5;241;43m=\u001b[39;49m\u001b[38;5;241;43m0.0\u001b[39;49m\u001b[43m,\u001b[49m\u001b[43m    \u001b[49m\u001b[38;5;66;43;03m# Disables mixup augmentation (blends two images)\u001b[39;49;00m\n\u001b[1;32m     56\u001b[0m \u001b[43m    \u001b[49m\u001b[43mcutmix\u001b[49m\u001b[38;5;241;43m=\u001b[39;49m\u001b[38;5;241;43m0.0\u001b[39;49m\u001b[43m,\u001b[49m\u001b[43m   \u001b[49m\u001b[38;5;66;43;03m# Disables cutmix augmentation (combines portions of two images)\u001b[39;49;00m\n\u001b[1;32m     57\u001b[0m \u001b[43m    \u001b[49m\u001b[43merasing\u001b[49m\u001b[38;5;241;43m=\u001b[39;49m\u001b[38;5;241;43m0.4\u001b[39;49m\u001b[43m,\u001b[49m\u001b[43m   \u001b[49m\u001b[38;5;66;43;03m# Randomly erases regions (40% probability) to encourage robust feature extraction\u001b[39;49;00m\n\u001b[1;32m     58\u001b[0m \u001b[43m)\u001b[49m\n",
      "File \u001b[0;32m~/.conda/envs/yolo/lib/python3.10/site-packages/ultralytics/engine/model.py:790\u001b[0m, in \u001b[0;36mModel.train\u001b[0;34m(self, trainer, **kwargs)\u001b[0m\n\u001b[1;32m    787\u001b[0m     \u001b[38;5;28mself\u001b[39m\u001b[38;5;241m.\u001b[39mmodel \u001b[38;5;241m=\u001b[39m \u001b[38;5;28mself\u001b[39m\u001b[38;5;241m.\u001b[39mtrainer\u001b[38;5;241m.\u001b[39mmodel\n\u001b[1;32m    789\u001b[0m \u001b[38;5;28mself\u001b[39m\u001b[38;5;241m.\u001b[39mtrainer\u001b[38;5;241m.\u001b[39mhub_session \u001b[38;5;241m=\u001b[39m \u001b[38;5;28mself\u001b[39m\u001b[38;5;241m.\u001b[39msession  \u001b[38;5;66;03m# attach optional HUB session\u001b[39;00m\n\u001b[0;32m--> 790\u001b[0m \u001b[38;5;28;43mself\u001b[39;49m\u001b[38;5;241;43m.\u001b[39;49m\u001b[43mtrainer\u001b[49m\u001b[38;5;241;43m.\u001b[39;49m\u001b[43mtrain\u001b[49m\u001b[43m(\u001b[49m\u001b[43m)\u001b[49m\n\u001b[1;32m    791\u001b[0m \u001b[38;5;66;03m# Update model and cfg after training\u001b[39;00m\n\u001b[1;32m    792\u001b[0m \u001b[38;5;28;01mif\u001b[39;00m RANK \u001b[38;5;129;01min\u001b[39;00m {\u001b[38;5;241m-\u001b[39m\u001b[38;5;241m1\u001b[39m, \u001b[38;5;241m0\u001b[39m}:\n",
      "File \u001b[0;32m~/.conda/envs/yolo/lib/python3.10/site-packages/ultralytics/engine/trainer.py:210\u001b[0m, in \u001b[0;36mBaseTrainer.train\u001b[0;34m(self)\u001b[0m\n\u001b[1;32m    207\u001b[0m         ddp_cleanup(\u001b[38;5;28mself\u001b[39m, \u001b[38;5;28mstr\u001b[39m(file))\n\u001b[1;32m    209\u001b[0m \u001b[38;5;28;01melse\u001b[39;00m:\n\u001b[0;32m--> 210\u001b[0m     \u001b[38;5;28;43mself\u001b[39;49m\u001b[38;5;241;43m.\u001b[39;49m\u001b[43m_do_train\u001b[49m\u001b[43m(\u001b[49m\u001b[43mworld_size\u001b[49m\u001b[43m)\u001b[49m\n",
      "File \u001b[0;32m~/.conda/envs/yolo/lib/python3.10/site-packages/ultralytics/engine/trainer.py:437\u001b[0m, in \u001b[0;36mBaseTrainer._do_train\u001b[0;34m(self, world_size)\u001b[0m\n\u001b[1;32m    435\u001b[0m \u001b[38;5;66;03m# Validation\u001b[39;00m\n\u001b[1;32m    436\u001b[0m \u001b[38;5;28;01mif\u001b[39;00m \u001b[38;5;28mself\u001b[39m\u001b[38;5;241m.\u001b[39margs\u001b[38;5;241m.\u001b[39mval \u001b[38;5;129;01mor\u001b[39;00m final_epoch \u001b[38;5;129;01mor\u001b[39;00m \u001b[38;5;28mself\u001b[39m\u001b[38;5;241m.\u001b[39mstopper\u001b[38;5;241m.\u001b[39mpossible_stop \u001b[38;5;129;01mor\u001b[39;00m \u001b[38;5;28mself\u001b[39m\u001b[38;5;241m.\u001b[39mstop:\n\u001b[0;32m--> 437\u001b[0m     \u001b[38;5;28mself\u001b[39m\u001b[38;5;241m.\u001b[39mmetrics, \u001b[38;5;28mself\u001b[39m\u001b[38;5;241m.\u001b[39mfitness \u001b[38;5;241m=\u001b[39m \u001b[38;5;28;43mself\u001b[39;49m\u001b[38;5;241;43m.\u001b[39;49m\u001b[43mvalidate\u001b[49m\u001b[43m(\u001b[49m\u001b[43m)\u001b[49m\n\u001b[1;32m    438\u001b[0m \u001b[38;5;28mself\u001b[39m\u001b[38;5;241m.\u001b[39msave_metrics(metrics\u001b[38;5;241m=\u001b[39m{\u001b[38;5;241m*\u001b[39m\u001b[38;5;241m*\u001b[39m\u001b[38;5;28mself\u001b[39m\u001b[38;5;241m.\u001b[39mlabel_loss_items(\u001b[38;5;28mself\u001b[39m\u001b[38;5;241m.\u001b[39mtloss), \u001b[38;5;241m*\u001b[39m\u001b[38;5;241m*\u001b[39m\u001b[38;5;28mself\u001b[39m\u001b[38;5;241m.\u001b[39mmetrics, \u001b[38;5;241m*\u001b[39m\u001b[38;5;241m*\u001b[39m\u001b[38;5;28mself\u001b[39m\u001b[38;5;241m.\u001b[39mlr})\n\u001b[1;32m    439\u001b[0m \u001b[38;5;28mself\u001b[39m\u001b[38;5;241m.\u001b[39mstop \u001b[38;5;241m|\u001b[39m\u001b[38;5;241m=\u001b[39m \u001b[38;5;28mself\u001b[39m\u001b[38;5;241m.\u001b[39mstopper(epoch \u001b[38;5;241m+\u001b[39m \u001b[38;5;241m1\u001b[39m, \u001b[38;5;28mself\u001b[39m\u001b[38;5;241m.\u001b[39mfitness) \u001b[38;5;129;01mor\u001b[39;00m final_epoch\n",
      "File \u001b[0;32m~/.conda/envs/yolo/lib/python3.10/site-packages/ultralytics/engine/trainer.py:634\u001b[0m, in \u001b[0;36mBaseTrainer.validate\u001b[0;34m(self)\u001b[0m\n\u001b[1;32m    627\u001b[0m \u001b[38;5;28;01mdef\u001b[39;00m\u001b[38;5;250m \u001b[39m\u001b[38;5;21mvalidate\u001b[39m(\u001b[38;5;28mself\u001b[39m):\n\u001b[1;32m    628\u001b[0m \u001b[38;5;250m    \u001b[39m\u001b[38;5;124;03m\"\"\"\u001b[39;00m\n\u001b[1;32m    629\u001b[0m \u001b[38;5;124;03m    Run validation on test set using self.validator.\u001b[39;00m\n\u001b[1;32m    630\u001b[0m \n\u001b[1;32m    631\u001b[0m \u001b[38;5;124;03m    Returns:\u001b[39;00m\n\u001b[1;32m    632\u001b[0m \u001b[38;5;124;03m        (tuple): A tuple containing metrics dictionary and fitness score.\u001b[39;00m\n\u001b[1;32m    633\u001b[0m \u001b[38;5;124;03m    \"\"\"\u001b[39;00m\n\u001b[0;32m--> 634\u001b[0m     metrics \u001b[38;5;241m=\u001b[39m \u001b[38;5;28;43mself\u001b[39;49m\u001b[38;5;241;43m.\u001b[39;49m\u001b[43mvalidator\u001b[49m\u001b[43m(\u001b[49m\u001b[38;5;28;43mself\u001b[39;49m\u001b[43m)\u001b[49m\n\u001b[1;32m    635\u001b[0m     fitness \u001b[38;5;241m=\u001b[39m metrics\u001b[38;5;241m.\u001b[39mpop(\u001b[38;5;124m\"\u001b[39m\u001b[38;5;124mfitness\u001b[39m\u001b[38;5;124m\"\u001b[39m, \u001b[38;5;241m-\u001b[39m\u001b[38;5;28mself\u001b[39m\u001b[38;5;241m.\u001b[39mloss\u001b[38;5;241m.\u001b[39mdetach()\u001b[38;5;241m.\u001b[39mcpu()\u001b[38;5;241m.\u001b[39mnumpy())  \u001b[38;5;66;03m# use loss as fitness measure if not found\u001b[39;00m\n\u001b[1;32m    636\u001b[0m     \u001b[38;5;28;01mif\u001b[39;00m \u001b[38;5;129;01mnot\u001b[39;00m \u001b[38;5;28mself\u001b[39m\u001b[38;5;241m.\u001b[39mbest_fitness \u001b[38;5;129;01mor\u001b[39;00m \u001b[38;5;28mself\u001b[39m\u001b[38;5;241m.\u001b[39mbest_fitness \u001b[38;5;241m<\u001b[39m fitness:\n",
      "File \u001b[0;32m~/.conda/envs/yolo/lib/python3.10/site-packages/torch/utils/_contextlib.py:116\u001b[0m, in \u001b[0;36mcontext_decorator.<locals>.decorate_context\u001b[0;34m(*args, **kwargs)\u001b[0m\n\u001b[1;32m    113\u001b[0m \u001b[38;5;129m@functools\u001b[39m\u001b[38;5;241m.\u001b[39mwraps(func)\n\u001b[1;32m    114\u001b[0m \u001b[38;5;28;01mdef\u001b[39;00m\u001b[38;5;250m \u001b[39m\u001b[38;5;21mdecorate_context\u001b[39m(\u001b[38;5;241m*\u001b[39margs, \u001b[38;5;241m*\u001b[39m\u001b[38;5;241m*\u001b[39mkwargs):\n\u001b[1;32m    115\u001b[0m     \u001b[38;5;28;01mwith\u001b[39;00m ctx_factory():\n\u001b[0;32m--> 116\u001b[0m         \u001b[38;5;28;01mreturn\u001b[39;00m \u001b[43mfunc\u001b[49m\u001b[43m(\u001b[49m\u001b[38;5;241;43m*\u001b[39;49m\u001b[43margs\u001b[49m\u001b[43m,\u001b[49m\u001b[43m \u001b[49m\u001b[38;5;241;43m*\u001b[39;49m\u001b[38;5;241;43m*\u001b[39;49m\u001b[43mkwargs\u001b[49m\u001b[43m)\u001b[49m\n",
      "File \u001b[0;32m~/.conda/envs/yolo/lib/python3.10/site-packages/ultralytics/engine/validator.py:223\u001b[0m, in \u001b[0;36mBaseValidator.__call__\u001b[0;34m(self, trainer, model)\u001b[0m\n\u001b[1;32m    221\u001b[0m \u001b[38;5;66;03m# Postprocess\u001b[39;00m\n\u001b[1;32m    222\u001b[0m \u001b[38;5;28;01mwith\u001b[39;00m dt[\u001b[38;5;241m3\u001b[39m]:\n\u001b[0;32m--> 223\u001b[0m     preds \u001b[38;5;241m=\u001b[39m \u001b[38;5;28;43mself\u001b[39;49m\u001b[38;5;241;43m.\u001b[39;49m\u001b[43mpostprocess\u001b[49m\u001b[43m(\u001b[49m\u001b[43mpreds\u001b[49m\u001b[43m)\u001b[49m\n\u001b[1;32m    225\u001b[0m \u001b[38;5;28mself\u001b[39m\u001b[38;5;241m.\u001b[39mupdate_metrics(preds, batch)\n\u001b[1;32m    226\u001b[0m \u001b[38;5;28;01mif\u001b[39;00m \u001b[38;5;28mself\u001b[39m\u001b[38;5;241m.\u001b[39margs\u001b[38;5;241m.\u001b[39mplots \u001b[38;5;129;01mand\u001b[39;00m batch_i \u001b[38;5;241m<\u001b[39m \u001b[38;5;241m3\u001b[39m:\n",
      "File \u001b[0;32m~/.conda/envs/yolo/lib/python3.10/site-packages/ultralytics/models/yolo/detect/val.py:123\u001b[0m, in \u001b[0;36mDetectionValidator.postprocess\u001b[0;34m(self, preds)\u001b[0m\n\u001b[1;32m    113\u001b[0m \u001b[38;5;28;01mdef\u001b[39;00m\u001b[38;5;250m \u001b[39m\u001b[38;5;21mpostprocess\u001b[39m(\u001b[38;5;28mself\u001b[39m, preds):\n\u001b[1;32m    114\u001b[0m \u001b[38;5;250m    \u001b[39m\u001b[38;5;124;03m\"\"\"\u001b[39;00m\n\u001b[1;32m    115\u001b[0m \u001b[38;5;124;03m    Apply Non-maximum suppression to prediction outputs.\u001b[39;00m\n\u001b[1;32m    116\u001b[0m \n\u001b[0;32m   (...)\u001b[0m\n\u001b[1;32m    121\u001b[0m \u001b[38;5;124;03m        (List[torch.Tensor]): Processed predictions after NMS.\u001b[39;00m\n\u001b[1;32m    122\u001b[0m \u001b[38;5;124;03m    \"\"\"\u001b[39;00m\n\u001b[0;32m--> 123\u001b[0m     \u001b[38;5;28;01mreturn\u001b[39;00m \u001b[43mops\u001b[49m\u001b[38;5;241;43m.\u001b[39;49m\u001b[43mnon_max_suppression\u001b[49m\u001b[43m(\u001b[49m\n\u001b[1;32m    124\u001b[0m \u001b[43m        \u001b[49m\u001b[43mpreds\u001b[49m\u001b[43m,\u001b[49m\n\u001b[1;32m    125\u001b[0m \u001b[43m        \u001b[49m\u001b[38;5;28;43mself\u001b[39;49m\u001b[38;5;241;43m.\u001b[39;49m\u001b[43margs\u001b[49m\u001b[38;5;241;43m.\u001b[39;49m\u001b[43mconf\u001b[49m\u001b[43m,\u001b[49m\n\u001b[1;32m    126\u001b[0m \u001b[43m        \u001b[49m\u001b[38;5;28;43mself\u001b[39;49m\u001b[38;5;241;43m.\u001b[39;49m\u001b[43margs\u001b[49m\u001b[38;5;241;43m.\u001b[39;49m\u001b[43miou\u001b[49m\u001b[43m,\u001b[49m\n\u001b[1;32m    127\u001b[0m \u001b[43m        \u001b[49m\u001b[43mnc\u001b[49m\u001b[38;5;241;43m=\u001b[39;49m\u001b[38;5;241;43m0\u001b[39;49m\u001b[43m \u001b[49m\u001b[38;5;28;43;01mif\u001b[39;49;00m\u001b[43m \u001b[49m\u001b[38;5;28;43mself\u001b[39;49m\u001b[38;5;241;43m.\u001b[39;49m\u001b[43margs\u001b[49m\u001b[38;5;241;43m.\u001b[39;49m\u001b[43mtask\u001b[49m\u001b[43m \u001b[49m\u001b[38;5;241;43m==\u001b[39;49m\u001b[43m \u001b[49m\u001b[38;5;124;43m\"\u001b[39;49m\u001b[38;5;124;43mdetect\u001b[39;49m\u001b[38;5;124;43m\"\u001b[39;49m\u001b[43m \u001b[49m\u001b[38;5;28;43;01melse\u001b[39;49;00m\u001b[43m \u001b[49m\u001b[38;5;28;43mself\u001b[39;49m\u001b[38;5;241;43m.\u001b[39;49m\u001b[43mnc\u001b[49m\u001b[43m,\u001b[49m\n\u001b[1;32m    128\u001b[0m \u001b[43m        \u001b[49m\u001b[43mmulti_label\u001b[49m\u001b[38;5;241;43m=\u001b[39;49m\u001b[38;5;28;43;01mTrue\u001b[39;49;00m\u001b[43m,\u001b[49m\n\u001b[1;32m    129\u001b[0m \u001b[43m        \u001b[49m\u001b[43magnostic\u001b[49m\u001b[38;5;241;43m=\u001b[39;49m\u001b[38;5;28;43mself\u001b[39;49m\u001b[38;5;241;43m.\u001b[39;49m\u001b[43margs\u001b[49m\u001b[38;5;241;43m.\u001b[39;49m\u001b[43msingle_cls\u001b[49m\u001b[43m \u001b[49m\u001b[38;5;129;43;01mor\u001b[39;49;00m\u001b[43m \u001b[49m\u001b[38;5;28;43mself\u001b[39;49m\u001b[38;5;241;43m.\u001b[39;49m\u001b[43margs\u001b[49m\u001b[38;5;241;43m.\u001b[39;49m\u001b[43magnostic_nms\u001b[49m\u001b[43m,\u001b[49m\n\u001b[1;32m    130\u001b[0m \u001b[43m        \u001b[49m\u001b[43mmax_det\u001b[49m\u001b[38;5;241;43m=\u001b[39;49m\u001b[38;5;28;43mself\u001b[39;49m\u001b[38;5;241;43m.\u001b[39;49m\u001b[43margs\u001b[49m\u001b[38;5;241;43m.\u001b[39;49m\u001b[43mmax_det\u001b[49m\u001b[43m,\u001b[49m\n\u001b[1;32m    131\u001b[0m \u001b[43m        \u001b[49m\u001b[43mend2end\u001b[49m\u001b[38;5;241;43m=\u001b[39;49m\u001b[38;5;28;43mself\u001b[39;49m\u001b[38;5;241;43m.\u001b[39;49m\u001b[43mend2end\u001b[49m\u001b[43m,\u001b[49m\n\u001b[1;32m    132\u001b[0m \u001b[43m        \u001b[49m\u001b[43mrotated\u001b[49m\u001b[38;5;241;43m=\u001b[39;49m\u001b[38;5;28;43mself\u001b[39;49m\u001b[38;5;241;43m.\u001b[39;49m\u001b[43margs\u001b[49m\u001b[38;5;241;43m.\u001b[39;49m\u001b[43mtask\u001b[49m\u001b[43m \u001b[49m\u001b[38;5;241;43m==\u001b[39;49m\u001b[43m \u001b[49m\u001b[38;5;124;43m\"\u001b[39;49m\u001b[38;5;124;43mobb\u001b[39;49m\u001b[38;5;124;43m\"\u001b[39;49m\u001b[43m,\u001b[49m\n\u001b[1;32m    133\u001b[0m \u001b[43m    \u001b[49m\u001b[43m)\u001b[49m\n",
      "File \u001b[0;32m~/.conda/envs/yolo/lib/python3.10/site-packages/ultralytics/utils/ops.py:319\u001b[0m, in \u001b[0;36mnon_max_suppression\u001b[0;34m(prediction, conf_thres, iou_thres, classes, agnostic, multi_label, labels, max_det, nc, max_time_img, max_nms, max_wh, in_place, rotated, end2end, return_idxs)\u001b[0m\n\u001b[1;32m    317\u001b[0m \u001b[38;5;28;01mif\u001b[39;00m rotated:\n\u001b[1;32m    318\u001b[0m     boxes \u001b[38;5;241m=\u001b[39m torch\u001b[38;5;241m.\u001b[39mcat((x[:, :\u001b[38;5;241m2\u001b[39m] \u001b[38;5;241m+\u001b[39m c, x[:, \u001b[38;5;241m2\u001b[39m:\u001b[38;5;241m4\u001b[39m], x[:, \u001b[38;5;241m-\u001b[39m\u001b[38;5;241m1\u001b[39m:]), dim\u001b[38;5;241m=\u001b[39m\u001b[38;5;241m-\u001b[39m\u001b[38;5;241m1\u001b[39m)  \u001b[38;5;66;03m# xywhr\u001b[39;00m\n\u001b[0;32m--> 319\u001b[0m     i \u001b[38;5;241m=\u001b[39m \u001b[43mnms_rotated\u001b[49m\u001b[43m(\u001b[49m\u001b[43mboxes\u001b[49m\u001b[43m,\u001b[49m\u001b[43m \u001b[49m\u001b[43mscores\u001b[49m\u001b[43m,\u001b[49m\u001b[43m \u001b[49m\u001b[43miou_thres\u001b[49m\u001b[43m)\u001b[49m\n\u001b[1;32m    320\u001b[0m \u001b[38;5;28;01melse\u001b[39;00m:\n\u001b[1;32m    321\u001b[0m     boxes \u001b[38;5;241m=\u001b[39m x[:, :\u001b[38;5;241m4\u001b[39m] \u001b[38;5;241m+\u001b[39m c  \u001b[38;5;66;03m# boxes (offset by class)\u001b[39;00m\n",
      "File \u001b[0;32m~/.conda/envs/yolo/lib/python3.10/site-packages/ultralytics/utils/ops.py:162\u001b[0m, in \u001b[0;36mnms_rotated\u001b[0;34m(boxes, scores, threshold, use_triu)\u001b[0m\n\u001b[1;32m    160\u001b[0m sorted_idx \u001b[38;5;241m=\u001b[39m torch\u001b[38;5;241m.\u001b[39margsort(scores, descending\u001b[38;5;241m=\u001b[39m\u001b[38;5;28;01mTrue\u001b[39;00m)\n\u001b[1;32m    161\u001b[0m boxes \u001b[38;5;241m=\u001b[39m boxes[sorted_idx]\n\u001b[0;32m--> 162\u001b[0m ious \u001b[38;5;241m=\u001b[39m \u001b[43mbatch_probiou\u001b[49m\u001b[43m(\u001b[49m\u001b[43mboxes\u001b[49m\u001b[43m,\u001b[49m\u001b[43m \u001b[49m\u001b[43mboxes\u001b[49m\u001b[43m)\u001b[49m\n\u001b[1;32m    163\u001b[0m \u001b[38;5;28;01mif\u001b[39;00m use_triu:\n\u001b[1;32m    164\u001b[0m     ious \u001b[38;5;241m=\u001b[39m ious\u001b[38;5;241m.\u001b[39mtriu_(diagonal\u001b[38;5;241m=\u001b[39m\u001b[38;5;241m1\u001b[39m)\n",
      "File \u001b[0;32m~/.conda/envs/yolo/lib/python3.10/site-packages/ultralytics/utils/metrics.py:275\u001b[0m, in \u001b[0;36mbatch_probiou\u001b[0;34m(obb1, obb2, eps)\u001b[0m\n\u001b[1;32m    269\u001b[0m t3 \u001b[38;5;241m=\u001b[39m (\n\u001b[1;32m    270\u001b[0m     ((a1 \u001b[38;5;241m+\u001b[39m a2) \u001b[38;5;241m*\u001b[39m (b1 \u001b[38;5;241m+\u001b[39m b2) \u001b[38;5;241m-\u001b[39m (c1 \u001b[38;5;241m+\u001b[39m c2)\u001b[38;5;241m.\u001b[39mpow(\u001b[38;5;241m2\u001b[39m))\n\u001b[1;32m    271\u001b[0m     \u001b[38;5;241m/\u001b[39m (\u001b[38;5;241m4\u001b[39m \u001b[38;5;241m*\u001b[39m ((a1 \u001b[38;5;241m*\u001b[39m b1 \u001b[38;5;241m-\u001b[39m c1\u001b[38;5;241m.\u001b[39mpow(\u001b[38;5;241m2\u001b[39m))\u001b[38;5;241m.\u001b[39mclamp_(\u001b[38;5;241m0\u001b[39m) \u001b[38;5;241m*\u001b[39m (a2 \u001b[38;5;241m*\u001b[39m b2 \u001b[38;5;241m-\u001b[39m c2\u001b[38;5;241m.\u001b[39mpow(\u001b[38;5;241m2\u001b[39m))\u001b[38;5;241m.\u001b[39mclamp_(\u001b[38;5;241m0\u001b[39m))\u001b[38;5;241m.\u001b[39msqrt() \u001b[38;5;241m+\u001b[39m eps)\n\u001b[1;32m    272\u001b[0m     \u001b[38;5;241m+\u001b[39m eps\n\u001b[1;32m    273\u001b[0m )\u001b[38;5;241m.\u001b[39mlog() \u001b[38;5;241m*\u001b[39m \u001b[38;5;241m0.5\u001b[39m\n\u001b[1;32m    274\u001b[0m bd \u001b[38;5;241m=\u001b[39m (t1 \u001b[38;5;241m+\u001b[39m t2 \u001b[38;5;241m+\u001b[39m t3)\u001b[38;5;241m.\u001b[39mclamp(eps, \u001b[38;5;241m100.0\u001b[39m)\n\u001b[0;32m--> 275\u001b[0m hd \u001b[38;5;241m=\u001b[39m (\u001b[38;5;241m1.0\u001b[39m \u001b[38;5;241m-\u001b[39m \u001b[43m(\u001b[49m\u001b[38;5;241;43m-\u001b[39;49m\u001b[43mbd\u001b[49m\u001b[43m)\u001b[49m\u001b[38;5;241;43m.\u001b[39;49m\u001b[43mexp\u001b[49m\u001b[43m(\u001b[49m\u001b[43m)\u001b[49m \u001b[38;5;241m+\u001b[39m eps)\u001b[38;5;241m.\u001b[39msqrt()\n\u001b[1;32m    276\u001b[0m \u001b[38;5;28;01mreturn\u001b[39;00m \u001b[38;5;241m1\u001b[39m \u001b[38;5;241m-\u001b[39m hd\n",
      "\u001b[0;31mOutOfMemoryError\u001b[0m: CUDA out of memory. Tried to allocate 3.10 GiB. GPU 0 has a total capacity of 47.49 GiB of which 1.35 GiB is free. Process 997447 has 2.58 GiB memory in use. Process 1999272 has 5.10 GiB memory in use. Process 2670656 has 3.98 GiB memory in use. Process 2946540 has 758.00 MiB memory in use. Process 3198744 has 9.41 GiB memory in use. Process 898415 has 4.91 GiB memory in use. Including non-PyTorch memory, this process has 19.37 GiB memory in use. Of the allocated memory 15.77 GiB is allocated by PyTorch, and 3.04 GiB is reserved by PyTorch but unallocated. If reserved but unallocated memory is large try setting PYTORCH_CUDA_ALLOC_CONF=expandable_segments:True to avoid fragmentation.  See documentation for Memory Management  (https://pytorch.org/docs/stable/notes/cuda.html#environment-variables)"
     ]
    }
   ],
   "source": [
    "results = model.train(\n",
    "    data=\"datasets/xView/xView.yaml\",  # Path to custom dataset YAML\n",
    "    epochs=100,                          # Total number of training epochs\n",
    "    imgsz=640,                           # Input image size for training\n",
    "    split=0.2,\n",
    "    patience=15,                         # patience: Number of epochs with no improvement before early stopping\n",
    "    batch=4,                            # batch: Batch size (use -1 or a fraction for auto GPU memory utilization)\n",
    "    save=True,                           # save: Save training checkpoints and final model weights\n",
    "    save_period=8,                      # save_period: Frequency (in epochs) for saving checkpoints; -1 disables\n",
    "    cache=False,                         # cache: Enable caching of dataset images (True for RAM, 'disk' for disk caching)\n",
    "    device='0',                       # device: Specify the computational device (e.g., 0, \"cpu\", or list of GPUs)\n",
    "    workers=8,                           # workers: Number of worker threads for data loading\n",
    "    project=\"test_yolo\",                 # project: Name of the project directory for saving outputs\n",
    "    name=\"xView fine tune\",                 # name: Name of the training run\n",
    "    exist_ok=False,                      # exist_ok: Allow overwriting an existing project/name directory if True\n",
    "    pretrained=False,                     # pretrained: Start from a pretrained model or provide a path to one\n",
    "    optimizer=\"auto\",                    # optimizer: Choice of optimizer (e.g., 'SGD', 'Adam', or 'auto')\n",
    "    seed=18,                             # seed: Random seed for reproducibility\n",
    "    single_cls=False,                    # single_cls: Treat all classes as a single class (useful for binary tasks)\n",
    "    classes=None,                        # classes: List of class IDs to train on; None uses all classes\n",
    "    rect=False,                          # rect: Enable rectangular training to minimize padding in batches\n",
    "    multi_scale=True,                    # multi_scale: Enable multi-scale training by varying the imgsz during training\n",
    "    cos_lr=False,                        # cos_lr: Use a cosine learning rate scheduler\n",
    "    close_mosaic=10,                     # close_mosaic: Disable mosaic augmentation in the last N epochs\n",
    "    resume=False,                        # resume: Resume training from the last checkpoint if available\n",
    "    amp=True,                            # amp: Enable Automatic Mixed Precision training\n",
    "    #fraction=1.0,                       # fraction: Fraction of the dataset to use for training\n",
    "    freeze=None,                         # freeze: Freeze the first N layers or specify list of layers to freeze\n",
    "    lr0=0.01,                            # lr0: Initial learning rate\n",
    "    lrf=0.001,                           # lrf: Final learning rate as a fraction of lr0 (lr0 * lrf)\n",
    "    momentum=0.937,                      # momentum: Momentum factor for the optimizer\n",
    "    weight_decay=0.0005,                 # weight_decay: L2 regularization coefficient to prevent overfitting\n",
    "    warmup_epochs=3.0,                   # warmup_epochs: Number of epochs for learning rate warmup\n",
    "    warmup_momentum=0.8,                 # warmup_momentum: Initial momentum value during the warmup phase\n",
    "    warmup_bias_lr=0.1,                  # warmup_bias_lr: Learning rate for bias parameters during warmup\n",
    "    box=7.5,                             # box: Weight of the box loss component (bounding box regression)\n",
    "    cls=0.5,                             # cls: Weight of the classification loss component\n",
    "    dfl=1.5,                             # dfl: Weight of the distribution focal loss for fine-grained classification\n",
    "    nbs=64,                              # nbs: Nominal batch size for loss normalization\n",
    "    dropout=0.0,                         # dropout: Dropout rate for regularization\n",
    "    val=True,                            # val: Enable validation during training\n",
    "    plots=True,                          # plots: Generate and save plots of training and validation metrics\n",
    "    hsv_h=0.015,  # Adjusts the hue of the image by a fraction of the color wheel\n",
    "    hsv_s=0.7,    # Alters the saturation for varied color intensity\n",
    "    hsv_v=0.4,    # Modifies brightness to simulate different lighting conditions\n",
    "    degrees=0.0,  # Rotates the image 0° (no rotation); adjust between 0 and 180 for random rotation\n",
    "    translate=0.1,  # Translates the image by 10% of its size\n",
    "    scale=0.5,    # Scales the image, simulating objects at different distances\n",
    "    shear=0.0,    # Shears the image 0° (no shearing); modify between -180 and 180 for effect\n",
    "    perspective=0.0,  # Applies no perspective transformation; use values up to 0.001 if needed\n",
    "    flipud=0.0,   # Probability (0%) of flipping the image upside down\n",
    "    fliplr=0.5,   # 50% chance to horizontally flip the image\n",
    "    bgr=0.0,      # No conversion from RGB to BGR (0% chance)\n",
    "    mosaic=1.0,   # Enables mosaic augmentation by merging four images into one\n",
    "    mixup=0.0,    # Disables mixup augmentation (blends two images)\n",
    "    cutmix=0.0,   # Disables cutmix augmentation (combines portions of two images)\n",
    "    erasing=0.4,   # Randomly erases regions (40% probability) to encourage robust feature extraction\n",
    ")"
   ]
  },
  {
   "cell_type": "markdown",
   "id": "cce90fdb",
   "metadata": {},
   "source": [
    "### Validated Model"
   ]
  },
  {
   "cell_type": "code",
   "execution_count": 12,
   "id": "15ba0924",
   "metadata": {},
   "outputs": [
    {
     "name": "stdout",
     "output_type": "stream",
     "text": [
      "Ultralytics 8.3.127 🚀 Python-3.10.17 torch-2.5.1 CUDA:0 (NVIDIA RTX 6000 Ada Generation, 48625MiB)\n",
      "YOLO11x-obb summary (fused): 199 layers, 58,804,903 parameters, 0 gradients, 203.1 GFLOPs\n",
      "\u001b[34m\u001b[1mval: \u001b[0mFast image access ✅ (ping: 0.0±0.0 ms, read: 385.0±516.4 MB/s, size: 55.9 KB)\n"
     ]
    },
    {
     "name": "stderr",
     "output_type": "stream",
     "text": [
      "\u001b[34m\u001b[1mval: \u001b[0mScanning /home/jupyter-dai7591/yolo/datasets/xView/labels/val.cache... 1300 images, 1117 backgrounds, 0 corrupt: 100%|██████████| 2417/2417 [00:00<?, ?it/s]\n",
      "                 Class     Images  Instances      Box(P          R      mAP50  mAP50-95): 100%|██████████| 152/152 [00:36<00:00,  4.21it/s]\n"
     ]
    },
    {
     "name": "stdout",
     "output_type": "stream",
     "text": [
      "                   all       2417      69508      0.396      0.281      0.223      0.138\n",
      "   Fixed-wing Aircraft         12         12      0.478       0.25      0.155      0.106\n",
      "        Small Aircraft         13         31      0.781      0.581       0.69       0.48\n",
      " Passenger/Cargo Plane         58        110      0.722      0.736      0.732      0.543\n",
      "            Helicopter          2          4          0          0     0.0732     0.0586\n",
      "     Passenger Vehicle         64        350          1          0    0.00548    0.00354\n",
      "             Small Car        827      23836      0.655       0.77      0.734      0.449\n",
      "                   Bus        231        671      0.246      0.499       0.29      0.192\n",
      "          Pickup Truck         67        128          1          0     0.0323     0.0225\n",
      "         Utility Truck        156        394     0.0903     0.0558     0.0299     0.0192\n",
      "                 Truck        350       1611      0.263      0.225      0.143     0.0919\n",
      "           Cargo Truck        199        572      0.191      0.143     0.0881     0.0595\n",
      "Truck Tractor w/ Box Trailer        101        368      0.254      0.432      0.264      0.168\n",
      "         Truck Tractor         28         53          1          0     0.0005    0.00045\n",
      "               Trailer         96        448      0.191      0.204      0.122     0.0749\n",
      "Truck Tractor w/ Flatbed Trailer         53         84      0.164      0.131     0.0901     0.0496\n",
      "Truck Tractor w/ Liquid Tank         13         17          1          0     0.0312     0.0234\n",
      "           Crane Truck          4          4          0          0    0.00193    0.00123\n",
      "         Passenger Car         14        116      0.401      0.741       0.58      0.364\n",
      "   Cargo/Container Car         19        155      0.497      0.606      0.548      0.308\n",
      "              Flat Car          3          6          0          0     0.0682     0.0187\n",
      "              Tank car          2          4      0.918       0.25      0.323       0.26\n",
      "            Locomotive          7         12          0          0    0.00854    0.00513\n",
      "       Maritime Vessel         29         70      0.214      0.357      0.181     0.0992\n",
      "             Motorboat         23         86      0.222      0.221      0.104     0.0479\n",
      "              Sailboat          6          8     0.0341        0.5      0.108     0.0792\n",
      "               Tugboat         12         26      0.129      0.654      0.264      0.101\n",
      "                 Barge         11         28      0.599      0.286      0.317      0.222\n",
      "        Fishing Vessel         16        127       0.44      0.354      0.334      0.139\n",
      "                 Ferry         11         22     0.0767      0.364      0.125     0.0614\n",
      "                 Yacht          7         41      0.227       0.78      0.569      0.392\n",
      "        Container Ship         28         45      0.205      0.467      0.291      0.153\n",
      "            Oil Tanker         11         17      0.569      0.699      0.542      0.306\n",
      "   Engineering Vehicle         11         17          0          0     0.0209     0.0138\n",
      "           Tower crane         12         25          0          0     0.0156    0.00504\n",
      "       Container Crane         14         29      0.451      0.241      0.254      0.106\n",
      "         Reach Stacker          4          5          1          0    0.00753    0.00527\n",
      "      Straddle Carrier          4          9      0.365      0.333      0.169     0.0912\n",
      "          Mobile Crane         19         35      0.115        0.2      0.122     0.0709\n",
      "            Dump Truck         67        126      0.154      0.294      0.148      0.103\n",
      "            Haul Truck         10         81      0.608      0.568        0.6      0.423\n",
      "       Scraper/Tractor          4          4          1          0     0.0511     0.0302\n",
      "Front loader/Bulldozer         36         74      0.288      0.284      0.196      0.134\n",
      "             Excavator         38         63      0.238       0.46      0.297      0.185\n",
      "          Cement Mixer         11         27          1          0     0.0253     0.0158\n",
      "         Ground Grader          2          2          0          0     0.0242     0.0193\n",
      "              Hut/Tent         24         73          1          0    0.00257    0.00159\n",
      "                  Shed         59        155      0.596     0.0323     0.0507     0.0319\n",
      "              Building       1058      37339      0.564      0.747      0.684      0.418\n",
      "       Aircraft Hangar         15         19      0.108      0.103     0.0194     0.0157\n",
      "      Damaged Building         50        106      0.215      0.217      0.131     0.0659\n",
      "              Facility         86        139        0.3      0.295      0.241      0.142\n",
      "     Construction Site         71        165      0.156     0.0123     0.0343     0.0129\n",
      "           Vehicle Lot        207        612      0.562      0.108      0.172     0.0794\n",
      "               Helipad          8         23      0.743      0.609      0.628      0.501\n",
      "          Storage Tank         52        241      0.423      0.656      0.502      0.321\n",
      "Shipping container lot         53        413      0.388      0.603      0.405      0.211\n",
      "    Shipping Container         32        220      0.256      0.145      0.139     0.0803\n",
      "                 Pylon         30         43      0.275      0.395      0.371      0.174\n",
      "                 Tower          7          7          0          0      0.012    0.00453\n",
      "Speed: 0.1ms preprocess, 6.3ms inference, 0.0ms loss, 5.9ms postprocess per image\n",
      "Results saved to \u001b[1mruns/obb/val2\u001b[0m\n"
     ]
    },
    {
     "data": {
      "text/plain": [
       "array([    0.10632,     0.47964,     0.54341,    0.058578,   0.0035444,     0.44893,     0.19234,     0.02248,     0.01916,     0.09193,    0.059464,     0.16804,  0.00045004,    0.074875,    0.049635,    0.023394,   0.0012311,     0.13833,     0.36402,     0.30789,    0.018668,     0.25956,   0.0051265,    0.099201,\n",
       "          0.047898,     0.07924,     0.10121,     0.22184,     0.13887,    0.061391,     0.39219,      0.1535,     0.30576,    0.013838,    0.005041,      0.1061,   0.0052702,    0.091178,    0.070872,      0.1029,     0.42328,    0.030176,     0.13364,     0.18541,    0.015814,    0.019348,   0.0015868,    0.031902,\n",
       "           0.41787,    0.015681,    0.065943,     0.14197,    0.012918,    0.079379,     0.50111,     0.32078,     0.21059,    0.080343,     0.17411,   0.0045301])"
      ]
     },
     "execution_count": 12,
     "metadata": {},
     "output_type": "execute_result"
    }
   ],
   "source": [
    "# Validate the model\n",
    "from ultralytics import YOLO\n",
    "\n",
    "model = YOLO(\"../yolox/xView_2xGPU27/weights/epoch0.pt\") # n for nano, x for huge\n",
    "metrics = model.val(data=\"../datasets/xView/xview_yolo.yaml\")  # no arguments needed, dataset and settings remembered\n",
    "metrics.box.map  # map50-95\n",
    "metrics.box.map50  # map50\n",
    "metrics.box.map75  # map75\n",
    "metrics.box.maps  # a list contains map50-95 of each category\n",
    "\n"
   ]
  },
  {
   "cell_type": "code",
   "execution_count": 13,
   "id": "9ecc4442",
   "metadata": {},
   "outputs": [
    {
     "name": "stdout",
     "output_type": "stream",
     "text": [
      "Ultralytics 8.3.127 🚀 Python-3.10.17 torch-2.5.1 CUDA:0 (NVIDIA RTX 6000 Ada Generation, 48625MiB)\n",
      "YOLO11x-obb summary (fused): 199 layers, 58,804,903 parameters, 0 gradients, 203.1 GFLOPs\n",
      "\u001b[34m\u001b[1mval: \u001b[0mFast image access ✅ (ping: 0.0±0.0 ms, read: 1412.7±1366.8 MB/s, size: 111.4 KB)\n"
     ]
    },
    {
     "name": "stderr",
     "output_type": "stream",
     "text": [
      "\u001b[34m\u001b[1mval: \u001b[0mScanning /home/jupyter-dai7591/yolo/datasets/xView/labels/val.cache... 1300 images, 1117 backgrounds, 0 corrupt: 100%|██████████| 2417/2417 [00:00<?, ?it/s]\n",
      "                 Class     Images  Instances      Box(P          R      mAP50  mAP50-95): 100%|██████████| 152/152 [00:36<00:00,  4.14it/s]\n"
     ]
    },
    {
     "name": "stdout",
     "output_type": "stream",
     "text": [
      "                   all       2417      69508       0.52      0.221      0.162     0.0971\n",
      "   Fixed-wing Aircraft         12         12      0.242      0.333      0.185     0.0933\n",
      "        Small Aircraft         13         31      0.654      0.452      0.514      0.349\n",
      " Passenger/Cargo Plane         58        110      0.655      0.736      0.759      0.545\n",
      "            Helicopter          2          4      0.109        0.5     0.0564      0.041\n",
      "     Passenger Vehicle         64        350          1          0    0.00694    0.00452\n",
      "             Small Car        827      23836       0.59      0.758      0.704      0.407\n",
      "                   Bus        231        671      0.212      0.402      0.229      0.139\n",
      "          Pickup Truck         67        128          1          0     0.0214     0.0145\n",
      "         Utility Truck        156        394     0.0794     0.0635     0.0306     0.0184\n",
      "                 Truck        350       1611      0.166      0.377      0.132     0.0819\n",
      "           Cargo Truck        199        572      0.142      0.184     0.0694     0.0437\n",
      "Truck Tractor w/ Box Trailer        101        368      0.164      0.541      0.222      0.131\n",
      "         Truck Tractor         28         53          1          0   0.000652   0.000521\n",
      "               Trailer         96        448      0.271      0.176       0.12     0.0731\n",
      "Truck Tractor w/ Flatbed Trailer         53         84       0.21      0.143     0.0739     0.0401\n",
      "Truck Tractor w/ Liquid Tank         13         17          1          0          0          0\n",
      "           Crane Truck          4          4          1          0          0          0\n",
      "         Passenger Car         14        116      0.126      0.784      0.438      0.226\n",
      "   Cargo/Container Car         19        155      0.478      0.148      0.234      0.121\n",
      "              Flat Car          3          6          1          0          0          0\n",
      "              Tank car          2          4          1          0          0          0\n",
      "            Locomotive          7         12          1          0          0          0\n",
      "       Maritime Vessel         29         70      0.117      0.614      0.202     0.0985\n",
      "             Motorboat         23         86      0.186      0.279       0.13     0.0629\n",
      "              Sailboat          6          8      0.114      0.125     0.0938      0.069\n",
      "               Tugboat         12         26      0.153      0.192      0.109     0.0302\n",
      "                 Barge         11         28     0.0768      0.143     0.0301     0.0221\n",
      "        Fishing Vessel         16        127      0.947     0.0315      0.133     0.0541\n",
      "                 Ferry         11         22     0.0761      0.227     0.0819     0.0521\n",
      "                 Yacht          7         41      0.426      0.579      0.533      0.354\n",
      "        Container Ship         28         45      0.174      0.378      0.147     0.0596\n",
      "            Oil Tanker         11         17      0.512      0.118      0.263      0.163\n",
      "   Engineering Vehicle         11         17          1          0     0.0473      0.032\n",
      "           Tower crane         12         25          1          0     0.0185      0.004\n",
      "       Container Crane         14         29      0.242      0.172      0.124     0.0578\n",
      "         Reach Stacker          4          5          1          0          0          0\n",
      "      Straddle Carrier          4          9          0          0     0.0382     0.0195\n",
      "          Mobile Crane         19         35          1          0     0.0288     0.0152\n",
      "            Dump Truck         67        126      0.305      0.175      0.163      0.114\n",
      "            Haul Truck         10         81      0.608      0.605      0.614      0.427\n",
      "       Scraper/Tractor          4          4          1          0     0.0112    0.00669\n",
      "Front loader/Bulldozer         36         74      0.445      0.108      0.153      0.108\n",
      "             Excavator         38         63      0.306      0.238      0.194      0.122\n",
      "          Cement Mixer         11         27          1          0     0.0082    0.00604\n",
      "         Ground Grader          2          2          1          0     0.0274     0.0246\n",
      "              Hut/Tent         24         73          1          0    0.00362    0.00308\n",
      "                  Shed         59        155       0.68     0.0412     0.0573      0.038\n",
      "              Building       1058      37339      0.459      0.757      0.661      0.398\n",
      "       Aircraft Hangar         15         19     0.0592      0.105     0.0124    0.00892\n",
      "      Damaged Building         50        106      0.274      0.179      0.137     0.0733\n",
      "              Facility         86        139      0.148      0.216       0.12     0.0676\n",
      "     Construction Site         71        165          1          0     0.0526     0.0212\n",
      "           Vehicle Lot        207        612      0.217      0.319      0.201     0.0869\n",
      "               Helipad          8         23      0.404      0.565       0.37      0.269\n",
      "          Storage Tank         52        241      0.213      0.668      0.432      0.261\n",
      "Shipping container lot         53        413      0.257      0.271      0.168     0.0745\n",
      "    Shipping Container         32        220      0.671     0.0136     0.0688     0.0438\n",
      "                 Pylon         30         43      0.494      0.349      0.334       0.14\n",
      "                 Tower          7          7          1          0     0.0155    0.00933\n",
      "Speed: 0.1ms preprocess, 6.3ms inference, 0.0ms loss, 6.1ms postprocess per image\n",
      "Results saved to \u001b[1mruns/obb/val3\u001b[0m\n"
     ]
    },
    {
     "data": {
      "text/plain": [
       "array([   0.093339,     0.34878,     0.54526,    0.040983,   0.0045198,     0.40704,     0.13901,    0.014515,    0.018399,    0.081881,    0.043724,     0.13137,  0.00052145,    0.073055,    0.040083,           0,           0,    0.097082,     0.22619,     0.12073,           0,           0,           0,    0.098493,\n",
       "          0.062864,    0.069011,    0.030206,    0.022084,    0.054109,    0.052056,     0.35409,    0.059602,     0.16299,    0.031977,   0.0039984,    0.057758,           0,    0.019521,    0.015195,     0.11448,     0.42721,   0.0066939,     0.10848,      0.1224,   0.0060356,    0.024643,   0.0030756,    0.037999,\n",
       "           0.39849,    0.008916,    0.073277,    0.067603,    0.021175,    0.086876,     0.26858,     0.26142,    0.074477,    0.043753,     0.13953,   0.0093299])"
      ]
     },
     "execution_count": 13,
     "metadata": {},
     "output_type": "execute_result"
    }
   ],
   "source": [
    "# Validate the model\n",
    "from ultralytics import YOLO\n",
    "\n",
    "model = YOLO(\"../yolox/xView_2xGPU27/weights/epoch5.pt\") # n for nano, x for huge\n",
    "metrics = model.val(data=\"../datasets/xView/xview_yolo.yaml\")  # no arguments needed, dataset and settings remembered\n",
    "metrics.box.map  # map50-95\n",
    "metrics.box.map50  # map50\n",
    "metrics.box.map75  # map75\n",
    "metrics.box.maps  # a list contains map50-95 of each category\n",
    "\n"
   ]
  },
  {
   "cell_type": "code",
   "execution_count": 14,
   "id": "b2a13254",
   "metadata": {},
   "outputs": [
    {
     "name": "stdout",
     "output_type": "stream",
     "text": [
      "Ultralytics 8.3.127 🚀 Python-3.10.17 torch-2.5.1 CUDA:0 (NVIDIA RTX 6000 Ada Generation, 48625MiB)\n",
      "YOLO11x-obb summary (fused): 199 layers, 58,804,903 parameters, 0 gradients, 203.1 GFLOPs\n",
      "\u001b[34m\u001b[1mval: \u001b[0mFast image access ✅ (ping: 0.0±0.0 ms, read: 542.4±102.2 MB/s, size: 103.3 KB)\n"
     ]
    },
    {
     "name": "stderr",
     "output_type": "stream",
     "text": [
      "\u001b[34m\u001b[1mval: \u001b[0mScanning /home/jupyter-dai7591/yolo/datasets/xView/labels/val.cache... 1300 images, 1117 backgrounds, 0 corrupt: 100%|██████████| 2417/2417 [00:00<?, ?it/s]\n",
      "                 Class     Images  Instances      Box(P          R      mAP50  mAP50-95): 100%|██████████| 152/152 [00:43<00:00,  3.48it/s]\n"
     ]
    },
    {
     "name": "stdout",
     "output_type": "stream",
     "text": [
      "                   all       2417      69508      0.468       0.22      0.184      0.112\n",
      "   Fixed-wing Aircraft         12         12          1          0     0.0913      0.072\n",
      "        Small Aircraft         13         31      0.703      0.382      0.511      0.325\n",
      " Passenger/Cargo Plane         58        110      0.583      0.736      0.695      0.512\n",
      "            Helicopter          2          4          1          0     0.0394     0.0355\n",
      "     Passenger Vehicle         64        350          1          0    0.00607    0.00423\n",
      "             Small Car        827      23836      0.607      0.756      0.707      0.425\n",
      "                   Bus        231        671      0.199       0.51      0.291       0.19\n",
      "          Pickup Truck         67        128          1          0     0.0297     0.0215\n",
      "         Utility Truck        156        394      0.136    0.00508     0.0202     0.0131\n",
      "                 Truck        350       1611      0.198       0.26      0.116     0.0772\n",
      "           Cargo Truck        199        572      0.128      0.274     0.0925     0.0551\n",
      "Truck Tractor w/ Box Trailer        101        368      0.238      0.446       0.25      0.151\n",
      "         Truck Tractor         28         53          1          0   0.000844   0.000675\n",
      "               Trailer         96        448      0.222      0.179      0.098     0.0614\n",
      "Truck Tractor w/ Flatbed Trailer         53         84      0.354     0.0329     0.0433     0.0305\n",
      "Truck Tractor w/ Liquid Tank         13         17          1          0          0          0\n",
      "           Crane Truck          4          4          0          0          0          0\n",
      "         Passenger Car         14        116      0.623      0.431      0.487      0.271\n",
      "   Cargo/Container Car         19        155      0.592      0.516      0.519      0.283\n",
      "              Flat Car          3          6          1          0          0          0\n",
      "              Tank car          2          4          1          0       0.25      0.225\n",
      "            Locomotive          7         12          1          0    0.00529    0.00476\n",
      "       Maritime Vessel         29         70      0.193      0.314      0.138     0.0648\n",
      "             Motorboat         23         86      0.216      0.302      0.148      0.076\n",
      "              Sailboat          6          8      0.258      0.125      0.147      0.106\n",
      "               Tugboat         12         26       0.14      0.385       0.22     0.0709\n",
      "                 Barge         11         28      0.353     0.0714      0.115     0.0716\n",
      "        Fishing Vessel         16        127      0.173      0.291      0.149     0.0512\n",
      "                 Ferry         11         22     0.0695     0.0909      0.028     0.0125\n",
      "                 Yacht          7         41      0.416      0.585      0.509       0.35\n",
      "        Container Ship         28         45      0.156      0.578      0.237      0.125\n",
      "            Oil Tanker         11         17      0.411      0.247       0.24      0.105\n",
      "   Engineering Vehicle         11         17          0          0     0.0119    0.00727\n",
      "           Tower crane         12         25      0.304       0.04      0.031    0.00574\n",
      "       Container Crane         14         29      0.276      0.207      0.205     0.0868\n",
      "         Reach Stacker          4          5          1          0          0          0\n",
      "      Straddle Carrier          4          9          0          0     0.0402      0.028\n",
      "          Mobile Crane         19         35      0.234      0.143      0.116     0.0499\n",
      "            Dump Truck         67        126      0.184      0.127      0.117     0.0849\n",
      "            Haul Truck         10         81      0.422      0.753      0.723       0.49\n",
      "       Scraper/Tractor          4          4          1          0     0.0282     0.0208\n",
      "Front loader/Bulldozer         36         74      0.182      0.189      0.118     0.0795\n",
      "             Excavator         38         63      0.357      0.317       0.26      0.174\n",
      "          Cement Mixer         11         27          1          0    0.00864    0.00744\n",
      "         Ground Grader          2          2          1          0     0.0206     0.0165\n",
      "              Hut/Tent         24         73          1          0    0.00384    0.00325\n",
      "                  Shed         59        155          0          0     0.0162     0.0109\n",
      "              Building       1058      37339      0.531      0.746      0.678      0.409\n",
      "       Aircraft Hangar         15         19          0          0    0.00705     0.0053\n",
      "      Damaged Building         50        106     0.0779      0.368     0.0926     0.0547\n",
      "              Facility         86        139      0.332      0.266      0.198      0.121\n",
      "     Construction Site         71        165     0.0744    0.00606     0.0225    0.00779\n",
      "           Vehicle Lot        207        612      0.344      0.217      0.177     0.0842\n",
      "               Helipad          8         23          1      0.562      0.617      0.396\n",
      "          Storage Tank         52        241      0.487       0.51      0.424      0.264\n",
      "Shipping container lot         53        413      0.338      0.482      0.287      0.143\n",
      "    Shipping Container         32        220      0.336      0.123      0.144     0.0932\n",
      "                 Pylon         30         43      0.182      0.419       0.23      0.125\n",
      "                 Tower          7          7          1          0      0.085      0.051\n",
      "Speed: 0.1ms preprocess, 6.4ms inference, 0.0ms loss, 9.0ms postprocess per image\n",
      "Results saved to \u001b[1mruns/obb/val4\u001b[0m\n"
     ]
    },
    {
     "data": {
      "text/plain": [
       "array([   0.072045,     0.32453,     0.51171,    0.035477,   0.0042258,      0.4255,     0.18975,    0.021497,    0.013061,    0.077235,    0.055111,     0.15088,  0.00067539,    0.061387,    0.030503,           0,           0,     0.11203,     0.27075,     0.28279,           0,     0.22478,   0.0047601,    0.064846,\n",
       "          0.075994,     0.10621,     0.07088,    0.071558,    0.051186,    0.012506,     0.34993,     0.12513,       0.105,   0.0072737,   0.0057424,    0.086763,           0,    0.028013,    0.049886,    0.084942,     0.49024,    0.020764,     0.07947,     0.17395,    0.007439,     0.01646,   0.0032541,    0.010872,\n",
       "           0.40932,   0.0052959,    0.054695,     0.12057,   0.0077889,    0.084172,     0.39611,     0.26398,     0.14332,     0.09319,     0.12506,    0.051015])"
      ]
     },
     "execution_count": 14,
     "metadata": {},
     "output_type": "execute_result"
    }
   ],
   "source": [
    "# Validate the model\n",
    "from ultralytics import YOLO\n",
    "\n",
    "model = YOLO(\"../yolox/xView_2xGPU27/weights/epoch10.pt\") # n for nano, x for huge\n",
    "metrics = model.val(data=\"../datasets/xView/xview_yolo.yaml\")  # no arguments needed, dataset and settings remembered\n",
    "metrics.box.map  # map50-95\n",
    "metrics.box.map50  # map50\n",
    "metrics.box.map75  # map75\n",
    "metrics.box.maps  # a list contains map50-95 of each category\n",
    "\n"
   ]
  },
  {
   "cell_type": "code",
   "execution_count": 15,
   "id": "6f7681d9",
   "metadata": {},
   "outputs": [
    {
     "name": "stdout",
     "output_type": "stream",
     "text": [
      "Ultralytics 8.3.127 🚀 Python-3.10.17 torch-2.5.1 CUDA:0 (NVIDIA RTX 6000 Ada Generation, 48625MiB)\n",
      "YOLO11x-obb summary (fused): 199 layers, 58,804,903 parameters, 0 gradients, 203.1 GFLOPs\n",
      "\u001b[34m\u001b[1mval: \u001b[0mFast image access ✅ (ping: 0.0±0.0 ms, read: 541.5±225.8 MB/s, size: 128.1 KB)\n"
     ]
    },
    {
     "name": "stderr",
     "output_type": "stream",
     "text": [
      "\u001b[34m\u001b[1mval: \u001b[0mScanning /home/jupyter-dai7591/yolo/datasets/xView/labels/val.cache... 1300 images, 1117 backgrounds, 0 corrupt: 100%|██████████| 2417/2417 [00:00<?, ?it/s]\n",
      "                 Class     Images  Instances      Box(P          R      mAP50  mAP50-95): 100%|██████████| 152/152 [00:43<00:00,  3.46it/s]\n"
     ]
    },
    {
     "name": "stdout",
     "output_type": "stream",
     "text": [
      "                   all       2417      69508      0.468       0.22      0.184      0.112\n",
      "   Fixed-wing Aircraft         12         12          1          0     0.0913      0.072\n",
      "        Small Aircraft         13         31      0.703      0.382      0.511      0.325\n",
      " Passenger/Cargo Plane         58        110      0.583      0.736      0.695      0.512\n",
      "            Helicopter          2          4          1          0     0.0394     0.0355\n",
      "     Passenger Vehicle         64        350          1          0    0.00607    0.00423\n",
      "             Small Car        827      23836      0.607      0.756      0.707      0.425\n",
      "                   Bus        231        671      0.199       0.51      0.291       0.19\n",
      "          Pickup Truck         67        128          1          0     0.0297     0.0215\n",
      "         Utility Truck        156        394      0.136    0.00508     0.0202     0.0131\n",
      "                 Truck        350       1611      0.198       0.26      0.116     0.0772\n",
      "           Cargo Truck        199        572      0.128      0.274     0.0925     0.0551\n",
      "Truck Tractor w/ Box Trailer        101        368      0.238      0.446       0.25      0.151\n",
      "         Truck Tractor         28         53          1          0   0.000844   0.000675\n",
      "               Trailer         96        448      0.222      0.179      0.098     0.0614\n",
      "Truck Tractor w/ Flatbed Trailer         53         84      0.354     0.0329     0.0433     0.0305\n",
      "Truck Tractor w/ Liquid Tank         13         17          1          0          0          0\n",
      "           Crane Truck          4          4          0          0          0          0\n",
      "         Passenger Car         14        116      0.623      0.431      0.487      0.271\n",
      "   Cargo/Container Car         19        155      0.592      0.516      0.519      0.283\n",
      "              Flat Car          3          6          1          0          0          0\n",
      "              Tank car          2          4          1          0       0.25      0.225\n",
      "            Locomotive          7         12          1          0    0.00529    0.00476\n",
      "       Maritime Vessel         29         70      0.193      0.314      0.138     0.0648\n",
      "             Motorboat         23         86      0.216      0.302      0.148      0.076\n",
      "              Sailboat          6          8      0.258      0.125      0.147      0.106\n",
      "               Tugboat         12         26       0.14      0.385       0.22     0.0709\n",
      "                 Barge         11         28      0.353     0.0714      0.115     0.0716\n",
      "        Fishing Vessel         16        127      0.173      0.291      0.149     0.0512\n",
      "                 Ferry         11         22     0.0695     0.0909      0.028     0.0125\n",
      "                 Yacht          7         41      0.416      0.585      0.509       0.35\n",
      "        Container Ship         28         45      0.156      0.578      0.237      0.125\n",
      "            Oil Tanker         11         17      0.411      0.247       0.24      0.105\n",
      "   Engineering Vehicle         11         17          0          0     0.0119    0.00727\n",
      "           Tower crane         12         25      0.304       0.04      0.031    0.00574\n",
      "       Container Crane         14         29      0.276      0.207      0.205     0.0868\n",
      "         Reach Stacker          4          5          1          0          0          0\n",
      "      Straddle Carrier          4          9          0          0     0.0402      0.028\n",
      "          Mobile Crane         19         35      0.234      0.143      0.116     0.0499\n",
      "            Dump Truck         67        126      0.184      0.127      0.117     0.0849\n",
      "            Haul Truck         10         81      0.422      0.753      0.723       0.49\n",
      "       Scraper/Tractor          4          4          1          0     0.0282     0.0208\n",
      "Front loader/Bulldozer         36         74      0.182      0.189      0.118     0.0795\n",
      "             Excavator         38         63      0.357      0.317       0.26      0.174\n",
      "          Cement Mixer         11         27          1          0    0.00864    0.00744\n",
      "         Ground Grader          2          2          1          0     0.0206     0.0165\n",
      "              Hut/Tent         24         73          1          0    0.00384    0.00325\n",
      "                  Shed         59        155          0          0     0.0162     0.0109\n",
      "              Building       1058      37339      0.531      0.746      0.678      0.409\n",
      "       Aircraft Hangar         15         19          0          0    0.00705     0.0053\n",
      "      Damaged Building         50        106     0.0779      0.368     0.0926     0.0547\n",
      "              Facility         86        139      0.332      0.266      0.198      0.121\n",
      "     Construction Site         71        165     0.0744    0.00606     0.0225    0.00779\n",
      "           Vehicle Lot        207        612      0.344      0.217      0.177     0.0842\n",
      "               Helipad          8         23          1      0.562      0.617      0.396\n",
      "          Storage Tank         52        241      0.487       0.51      0.424      0.264\n",
      "Shipping container lot         53        413      0.338      0.482      0.287      0.143\n",
      "    Shipping Container         32        220      0.336      0.123      0.144     0.0932\n",
      "                 Pylon         30         43      0.182      0.419       0.23      0.125\n",
      "                 Tower          7          7          1          0      0.085      0.051\n",
      "Speed: 0.1ms preprocess, 6.4ms inference, 0.0ms loss, 9.1ms postprocess per image\n",
      "Results saved to \u001b[1mruns/obb/val5\u001b[0m\n"
     ]
    },
    {
     "data": {
      "text/plain": [
       "array([   0.072045,     0.32453,     0.51171,    0.035477,   0.0042258,      0.4255,     0.18975,    0.021497,    0.013061,    0.077235,    0.055111,     0.15088,  0.00067539,    0.061387,    0.030503,           0,           0,     0.11203,     0.27075,     0.28279,           0,     0.22478,   0.0047601,    0.064846,\n",
       "          0.075994,     0.10621,     0.07088,    0.071558,    0.051186,    0.012506,     0.34993,     0.12513,       0.105,   0.0072737,   0.0057424,    0.086763,           0,    0.028013,    0.049886,    0.084942,     0.49024,    0.020764,     0.07947,     0.17395,    0.007439,     0.01646,   0.0032541,    0.010872,\n",
       "           0.40932,   0.0052959,    0.054695,     0.12057,   0.0077889,    0.084172,     0.39611,     0.26398,     0.14332,     0.09319,     0.12506,    0.051015])"
      ]
     },
     "execution_count": 15,
     "metadata": {},
     "output_type": "execute_result"
    }
   ],
   "source": [
    "# Validate the model\n",
    "from ultralytics import YOLO\n",
    "\n",
    "model = YOLO(\"../yolox/xView_2xGPU27/weights/epoch10.pt\") # n for nano, x for huge\n",
    "metrics = model.val(data=\"../datasets/xView/xview_yolo.yaml\")  # no arguments needed, dataset and settings remembered\n",
    "metrics.box.map  # map50-95\n",
    "metrics.box.map50  # map50\n",
    "metrics.box.map75  # map75\n",
    "metrics.box.maps  # a list contains map50-95 of each category\n",
    "\n"
   ]
  },
  {
   "cell_type": "code",
   "execution_count": 16,
   "id": "dfb57f2f",
   "metadata": {},
   "outputs": [
    {
     "name": "stdout",
     "output_type": "stream",
     "text": [
      "Ultralytics 8.3.127 🚀 Python-3.10.17 torch-2.5.1 CUDA:0 (NVIDIA RTX 6000 Ada Generation, 48625MiB)\n",
      "YOLO11x-obb summary (fused): 199 layers, 58,804,903 parameters, 0 gradients, 203.1 GFLOPs\n",
      "\u001b[34m\u001b[1mval: \u001b[0mFast image access ✅ (ping: 0.0±0.0 ms, read: 997.2±1295.3 MB/s, size: 93.6 KB)\n"
     ]
    },
    {
     "name": "stderr",
     "output_type": "stream",
     "text": [
      "\u001b[34m\u001b[1mval: \u001b[0mScanning /home/jupyter-dai7591/yolo/datasets/xView/labels/val.cache... 1300 images, 1117 backgrounds, 0 corrupt: 100%|██████████| 2417/2417 [00:00<?, ?it/s]\n",
      "                 Class     Images  Instances      Box(P          R      mAP50  mAP50-95): 100%|██████████| 152/152 [00:34<00:00,  4.34it/s]\n"
     ]
    },
    {
     "name": "stdout",
     "output_type": "stream",
     "text": [
      "                   all       2417      69508      0.435       0.29      0.263      0.178\n",
      "   Fixed-wing Aircraft         12         12      0.741      0.241      0.267      0.194\n",
      "        Small Aircraft         13         31      0.752      0.489      0.602      0.386\n",
      " Passenger/Cargo Plane         58        110      0.781      0.736      0.744      0.557\n",
      "            Helicopter          2          4          0          0     0.0586     0.0521\n",
      "     Passenger Vehicle         64        350          1          0    0.00467      0.003\n",
      "             Small Car        827      23836      0.718      0.754      0.753      0.482\n",
      "                   Bus        231        671      0.361      0.461       0.35      0.251\n",
      "          Pickup Truck         67        128          1          0     0.0846     0.0643\n",
      "         Utility Truck        156        394      0.385     0.0102     0.0425     0.0274\n",
      "                 Truck        350       1611      0.275      0.262      0.169       0.12\n",
      "           Cargo Truck        199        572      0.213      0.182      0.115     0.0779\n",
      "Truck Tractor w/ Box Trailer        101        368      0.373      0.503      0.337       0.24\n",
      "         Truck Tractor         28         53          0          0    0.00137    0.00106\n",
      "               Trailer         96        448       0.43      0.179      0.189      0.128\n",
      "Truck Tractor w/ Flatbed Trailer         53         84      0.134      0.131     0.0862     0.0588\n",
      "Truck Tractor w/ Liquid Tank         13         17          1          0     0.0337     0.0257\n",
      "           Crane Truck          4          4          0          0    0.00416    0.00332\n",
      "         Passenger Car         14        116       0.44      0.776      0.655      0.439\n",
      "   Cargo/Container Car         19        155      0.435        0.4      0.334      0.206\n",
      "              Flat Car          3          6          0          0      0.038     0.0218\n",
      "              Tank car          2          4          1      0.739      0.945      0.702\n",
      "            Locomotive          7         12      0.158     0.0396     0.0528     0.0375\n",
      "       Maritime Vessel         29         70      0.297      0.543       0.25      0.153\n",
      "             Motorboat         23         86      0.182       0.43      0.137     0.0737\n",
      "              Sailboat          6          8     0.0575        0.5      0.202      0.142\n",
      "               Tugboat         12         26      0.352      0.308      0.263      0.122\n",
      "                 Barge         11         28      0.423      0.429      0.441      0.318\n",
      "        Fishing Vessel         16        127      0.437      0.514      0.492      0.232\n",
      "                 Ferry         11         22       0.15      0.227     0.0698     0.0408\n",
      "                 Yacht          7         41      0.438       0.61      0.544      0.382\n",
      "        Container Ship         28         45      0.377      0.467      0.331      0.201\n",
      "            Oil Tanker         11         17      0.456      0.647      0.535      0.381\n",
      "   Engineering Vehicle         11         17      0.155     0.0588     0.0376     0.0252\n",
      "           Tower crane         12         25          0          0     0.0276    0.00986\n",
      "       Container Crane         14         29      0.392       0.31      0.306      0.157\n",
      "         Reach Stacker          4          5          0          0     0.0176     0.0159\n",
      "      Straddle Carrier          4          9      0.346      0.222      0.167     0.0967\n",
      "          Mobile Crane         19         35      0.333        0.2      0.172     0.0986\n",
      "            Dump Truck         67        126      0.246      0.275      0.217      0.164\n",
      "            Haul Truck         10         81      0.857      0.812      0.842      0.684\n",
      "       Scraper/Tractor          4          4          1          0     0.0442     0.0236\n",
      "Front loader/Bulldozer         36         74      0.355       0.27      0.249       0.18\n",
      "             Excavator         38         63       0.55      0.413      0.401      0.281\n",
      "          Cement Mixer         11         27       0.14      0.037     0.0607     0.0376\n",
      "         Ground Grader          2          2          1          0     0.0502     0.0452\n",
      "              Hut/Tent         24         73          1          0    0.00628    0.00455\n",
      "                  Shed         59        155       0.39      0.062     0.0722     0.0502\n",
      "              Building       1058      37339      0.645      0.736      0.718      0.463\n",
      "       Aircraft Hangar         15         19     0.0483      0.105     0.0214     0.0167\n",
      "      Damaged Building         50        106      0.229      0.292      0.181      0.109\n",
      "              Facility         86        139      0.404       0.23      0.239      0.163\n",
      "     Construction Site         71        165      0.243     0.0182     0.0452     0.0165\n",
      "           Vehicle Lot        207        612      0.435      0.222      0.227      0.109\n",
      "               Helipad          8         23       0.64      0.609      0.676      0.586\n",
      "          Storage Tank         52        241      0.555      0.598      0.531      0.343\n",
      "Shipping container lot         53        413      0.515      0.563      0.468      0.226\n",
      "    Shipping Container         32        220      0.378     0.0591       0.14      0.093\n",
      "                 Pylon         30         43       0.43      0.465      0.405      0.308\n",
      "                 Tower          7          7          1          0      0.061     0.0461\n",
      "Speed: 0.1ms preprocess, 6.4ms inference, 0.0ms loss, 5.3ms postprocess per image\n",
      "Results saved to \u001b[1mruns/obb/val6\u001b[0m\n"
     ]
    },
    {
     "data": {
      "text/plain": [
       "array([    0.19417,     0.38634,      0.5569,    0.052072,   0.0030031,      0.4823,     0.25122,    0.064283,     0.02744,     0.12047,    0.077904,     0.23956,   0.0010578,     0.12755,    0.058819,    0.025719,   0.0033246,     0.17758,     0.43917,     0.20629,    0.021817,     0.70231,    0.037516,     0.15313,\n",
       "          0.073692,     0.14172,     0.12236,      0.3182,     0.23206,    0.040765,     0.38239,     0.20064,     0.38098,    0.025209,   0.0098551,      0.1568,    0.015877,    0.096707,    0.098597,     0.16403,     0.68365,     0.02355,     0.17995,     0.28128,    0.037636,    0.045195,    0.004553,    0.050213,\n",
       "           0.46309,    0.016701,     0.10949,      0.1628,    0.016548,     0.10891,     0.58623,     0.34294,     0.22575,    0.093015,     0.30762,    0.046064])"
      ]
     },
     "execution_count": 16,
     "metadata": {},
     "output_type": "execute_result"
    }
   ],
   "source": [
    "# Validate the model\n",
    "from ultralytics import YOLO\n",
    "\n",
    "model = YOLO(\"../yolox/xView_2xGPU27/weights/last.pt\") # n for nano, x for huge\n",
    "metrics = model.val(data=\"../datasets/xView/xview_yolo.yaml\")  # no arguments needed, dataset and settings remembered\n",
    "metrics.box.map  # map50-95\n",
    "metrics.box.map50  # map50\n",
    "metrics.box.map75  # map75\n",
    "metrics.box.maps  # a list contains map50-95 of each category\n",
    "\n"
   ]
  }
 ],
 "metadata": {
  "kernelspec": {
   "display_name": "Python 3 (ipykernel)",
   "language": "python",
   "name": "python3"
  },
  "language_info": {
   "codemirror_mode": {
    "name": "ipython",
    "version": 3
   },
   "file_extension": ".py",
   "mimetype": "text/x-python",
   "name": "python",
   "nbconvert_exporter": "python",
   "pygments_lexer": "ipython3",
   "version": "3.10.14"
  }
 },
 "nbformat": 4,
 "nbformat_minor": 5
}
