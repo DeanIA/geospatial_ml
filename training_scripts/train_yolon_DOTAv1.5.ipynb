{
 "cells": [
  {
   "cell_type": "code",
   "execution_count": 4,
   "id": "e14823d4",
   "metadata": {},
   "outputs": [
    {
     "name": "stdout",
     "output_type": "stream",
     "text": [
      "True\n",
      "2\n"
     ]
    }
   ],
   "source": [
    "import torch\n",
    "print(torch.cuda.is_available())      \n",
    "print(torch.cuda.device_count())  "
   ]
  },
  {
   "cell_type": "markdown",
   "id": "3ee4c7ba",
   "metadata": {},
   "source": [
    "### Load dataset\n",
    "\n",
    "Dataset from: https://captain-whu.github.io/DOTA/dataset.html\n",
    "Full list of albumations functions in ultralytics: https://docs.ultralytics.com/reference/data/augment/h=albumentation#ultralyticsdataaugmentBaseTransform\n",
    "\n",
    "`convert_dota_to_yolo_obb` <br>\n",
    "Converts DOTA dataset annotations to YOLO OBB (Oriented Bounding Box) format. The function processes images in the 'train' and 'val' folders of the DOTA dataset. For each image, it reads the associated label from the original labels directory and writes new labels in YOLO OBB format to a new directory.\n",
    "\n",
    "`split_trainval` <br>\n",
    "Restructures dataset directory and applies image augmentation to enrich dataset. \n",
    "```\n",
    "data_root/\n",
    "├── images/\n",
    "│   ├── train/\n",
    "│   └── val/\n",
    "└── labels/\n",
    "    ├── train/\n",
    "    └── val/\n",
    "```\n",
    "\n",
    "And the output directory structure is:\n",
    "\n",
    "```\n",
    "save_dir/\n",
    "├── images/\n",
    "│   ├── train/\n",
    "│   └── val/\n",
    "└── labels/\n",
    "    ├── train/\n",
    "    └── val/\n",
    "```"
   ]
  },
  {
   "cell_type": "code",
   "execution_count": null,
   "id": "8f65806d",
   "metadata": {},
   "outputs": [],
   "source": [
    "from ultralytics.data.converter import convert_dota_to_yolo_obb\n",
    "from ultralytics.data.split_dota import split_test, split_trainval\n",
    "\n",
    "convert_dota_to_yolo_obb(\"DOTAv1.5\")\n",
    "\n",
    "# split train and val set, with labels.\n",
    "split_trainval(\n",
    "    data_root=\"DOTAv1.5/\",\n",
    "    save_dir=\"DOTAv1.5_processed/\",\n",
    "    rates=[0.5, 1.0, 1.5],  # Generate different versions or crops of the images\n",
    "    gap=500, # Split into patches with a specific overlap or gap\n",
    ")\n",
    "# # split test set, without labels.\n",
    "# split_test(\n",
    "#     data_root=\"DOTAv1.0/\",\n",
    "#     save_dir=\"DOTAv1.0-split/\",\n",
    "#     rates=[0.5, 1.0, 1.5],  # multiscale\n",
    "#     gap=500,\n",
    "# )"
   ]
  },
  {
   "cell_type": "markdown",
   "id": "473eeef5",
   "metadata": {},
   "source": [
    "### Inspect dataset"
   ]
  },
  {
   "cell_type": "code",
   "execution_count": 5,
   "id": "1d261a55",
   "metadata": {},
   "outputs": [
    {
     "name": "stdout",
     "output_type": "stream",
     "text": [
      "DOTAv1.5\n",
      "Image counts:\n",
      "  train: 1411\n",
      "  val: 395\n",
      "\n",
      "Label counts:\n",
      "  train: 1411\n",
      "  val: 395\n",
      "  train_original: 1411\n",
      "  val_original: 458\n",
      "\n",
      "\n",
      "DOTAv1.5_processed\n",
      "Image counts:\n",
      "  train: 103421\n",
      "  val: 0\n",
      "\n",
      "Label counts:\n",
      "  train: 58187\n",
      "  val: 0\n"
     ]
    }
   ],
   "source": [
    "from pathlib import Path\n",
    "\n",
    "root = Path(\"DOTAv1.5\")\n",
    "image_exts = {\".jpg\", \".jpeg\", \".png\"}\n",
    "label_exts = {\".txt\"}\n",
    "\n",
    "# Count images in each subdirectory under DOTAv1.5/images\n",
    "print(\"DOTAv1.5\")\n",
    "print(\"Image counts:\")\n",
    "for subdir in (root / \"images\").iterdir():\n",
    "    if subdir.is_dir():\n",
    "        count = sum(1 for file in subdir.rglob(\"*\") if file.suffix.lower() in image_exts)\n",
    "        print(f\"  {subdir.name}: {count}\")\n",
    "\n",
    "# Count labels in each subdirectory under DOTAv1.5/labels\n",
    "print(\"\\nLabel counts:\")\n",
    "for subdir in (root / \"labels\").iterdir():\n",
    "    if subdir.is_dir():\n",
    "        count = sum(1 for file in subdir.rglob(\"*\") if file.suffix.lower() in label_exts)\n",
    "        print(f\"  {subdir.name}: {count}\")\n",
    "        if subdir.name == \"val_original\":\n",
    "            print()  # Extra line break after 'val_original'\n",
    "\n",
    "# Repeat for DOTAv1.5_processed\n",
    "root2 = Path(\"DOTAv1.5_processed\")\n",
    "print(\"\\nDOTAv1.5_processed\")\n",
    "print(\"Image counts:\")\n",
    "for subdir in (root2 / \"images\").iterdir():\n",
    "    if subdir.is_dir():\n",
    "        count = sum(1 for file in subdir.rglob(\"*\") if file.suffix.lower() in image_exts)\n",
    "        print(f\"  {subdir.name}: {count}\")\n",
    "\n",
    "print(\"\\nLabel counts:\")\n",
    "for subdir in (root2 / \"labels\").iterdir():\n",
    "    if subdir.is_dir():\n",
    "        count = sum(1 for file in subdir.rglob(\"*\") if file.suffix.lower() in label_exts)\n",
    "        print(f\"  {subdir.name}: {count}\")\n",
    "        if subdir.name == \"val_original\":\n",
    "            print()  # Extra line break after 'val_original'"
   ]
  },
  {
   "cell_type": "markdown",
   "id": "d104b903",
   "metadata": {},
   "source": [
    "### Load model"
   ]
  },
  {
   "cell_type": "code",
   "execution_count": 6,
   "id": "2e0ee99c",
   "metadata": {},
   "outputs": [],
   "source": [
    "from ultralytics import YOLO\n",
    "\n",
    "# Load a pretrained model\n",
    "model = YOLO(\"models/yolo11n-obb.pt\") # n for nano, x for huge"
   ]
  },
  {
   "cell_type": "markdown",
   "id": "ae80f71f",
   "metadata": {},
   "source": [
    "### Train model\n",
    "Includes list of augmentations to apply to each batch before training loop. Doesn't create more images, just augments the existing ones (and labels accordingly) to enrich dataset. "
   ]
  },
  {
   "cell_type": "code",
   "execution_count": 8,
   "id": "52761c9c",
   "metadata": {},
   "outputs": [
    {
     "name": "stdout",
     "output_type": "stream",
     "text": [
      "New https://pypi.org/project/ultralytics/8.3.122 available 😃 Update with 'pip install -U ultralytics'\n",
      "Ultralytics 8.3.121 🚀 Python-3.10.17 torch-2.7.0+cu126 CUDA:0 (NVIDIA RTX 6000 Ada Generation, 48625MiB)\n",
      "                                                        CUDA:1 (NVIDIA RTX 6000 Ada Generation, 48647MiB)\n",
      "\u001b[34m\u001b[1mengine/trainer: \u001b[0mtask=obb, mode=train, model=models/yolo11n-obb.pt, data=dotav1.yml, epochs=100, time=None, patience=15, batch=16, imgsz=640, save=True, save_period=-1, cache=False, device=0, 1, workers=8, project=test_yolo, name=experiment_14, exist_ok=False, pretrained=True, optimizer=auto, verbose=True, seed=18, deterministic=True, single_cls=False, rect=False, cos_lr=False, close_mosaic=10, resume=False, amp=True, fraction=1.0, profile=False, freeze=None, multi_scale=True, overlap_mask=True, mask_ratio=4, dropout=0.0, val=True, split=val, save_json=False, conf=None, iou=0.7, max_det=300, half=False, dnn=False, plots=True, source=None, vid_stride=1, stream_buffer=False, visualize=False, augment=False, agnostic_nms=False, classes=None, retina_masks=False, embed=None, show=False, save_frames=False, save_txt=False, save_conf=False, save_crop=False, show_labels=True, show_conf=True, show_boxes=True, line_width=None, format=torchscript, keras=False, optimize=False, int8=False, dynamic=False, simplify=True, opset=None, workspace=None, nms=False, lr0=0.01, lrf=0.001, momentum=0.937, weight_decay=0.0005, warmup_epochs=3.0, warmup_momentum=0.8, warmup_bias_lr=0.1, box=7.5, cls=0.5, dfl=1.5, pose=12.0, kobj=2.0, nbs=64, hsv_h=0.015, hsv_s=0.7, hsv_v=0.4, degrees=0.0, translate=0.1, scale=0.5, shear=0.0, perspective=0.0, flipud=0.0, fliplr=0.5, bgr=0.0, mosaic=1.0, mixup=0.0, cutmix=0.0, copy_paste=0.0, copy_paste_mode=flip, auto_augment=randaugment, erasing=0.4, cfg=None, tracker=botsort.yaml, save_dir=test_yolo/experiment_14\n",
      "\n",
      "WARNING ⚠️ Dataset 'dotav1.yml' images not found, missing path '/home/jupyter-dai7591/yolo/datasets/DOTAv1.5/images/val'\n",
      "Downloading https://ultralytics.com/assets/DOTAv1.5.zip to '/home/jupyter-dai7591/yolo/datasets/DOTAv1.5.zip'...\n"
     ]
    },
    {
     "name": "stderr",
     "output_type": "stream",
     "text": [
      "  6%|▌         | 110M/1.86G [00:00<00:09, 196MB/s] "
     ]
    },
    {
     "name": "stderr",
     "output_type": "stream",
     "text": [
      "100%|██████████| 1.86G/1.86G [00:11<00:00, 177MB/s]\n",
      "Unzipping /home/jupyter-dai7591/yolo/datasets/DOTAv1.5.zip to /home/jupyter-dai7591/yolo/datasets/DOTAv1.5...: 100%|██████████| 6554/6554 [00:08<00:00, 797.96file/s]  "
     ]
    },
    {
     "name": "stdout",
     "output_type": "stream",
     "text": [
      "Dataset download success ✅ (20.0s), saved to \u001b[1m/home/jupyter-dai7591/yolo/datasets\u001b[0m\n",
      "\n"
     ]
    },
    {
     "name": "stderr",
     "output_type": "stream",
     "text": [
      "\n"
     ]
    },
    {
     "name": "stdout",
     "output_type": "stream",
     "text": [
      "Overriding model.yaml nc=80 with nc=16\n",
      "\n",
      "                   from  n    params  module                                       arguments                     \n",
      "  0                  -1  1       464  ultralytics.nn.modules.conv.Conv             [3, 16, 3, 2]                 \n",
      "  1                  -1  1      4672  ultralytics.nn.modules.conv.Conv             [16, 32, 3, 2]                \n",
      "  2                  -1  1      6640  ultralytics.nn.modules.block.C3k2            [32, 64, 1, False, 0.25]      \n",
      "  3                  -1  1     36992  ultralytics.nn.modules.conv.Conv             [64, 64, 3, 2]                \n",
      "  4                  -1  1     26080  ultralytics.nn.modules.block.C3k2            [64, 128, 1, False, 0.25]     \n",
      "  5                  -1  1    147712  ultralytics.nn.modules.conv.Conv             [128, 128, 3, 2]              \n",
      "  6                  -1  1     87040  ultralytics.nn.modules.block.C3k2            [128, 128, 1, True]           \n",
      "  7                  -1  1    295424  ultralytics.nn.modules.conv.Conv             [128, 256, 3, 2]              \n",
      "  8                  -1  1    346112  ultralytics.nn.modules.block.C3k2            [256, 256, 1, True]           \n",
      "  9                  -1  1    164608  ultralytics.nn.modules.block.SPPF            [256, 256, 5]                 \n",
      " 10                  -1  1    249728  ultralytics.nn.modules.block.C2PSA           [256, 256, 1]                 \n",
      " 11                  -1  1         0  torch.nn.modules.upsampling.Upsample         [None, 2, 'nearest']          \n",
      " 12             [-1, 6]  1         0  ultralytics.nn.modules.conv.Concat           [1]                           \n",
      " 13                  -1  1    111296  ultralytics.nn.modules.block.C3k2            [384, 128, 1, False]          \n",
      " 14                  -1  1         0  torch.nn.modules.upsampling.Upsample         [None, 2, 'nearest']          \n",
      " 15             [-1, 4]  1         0  ultralytics.nn.modules.conv.Concat           [1]                           \n",
      " 16                  -1  1     32096  ultralytics.nn.modules.block.C3k2            [256, 64, 1, False]           \n",
      " 17                  -1  1     36992  ultralytics.nn.modules.conv.Conv             [64, 64, 3, 2]                \n",
      " 18            [-1, 13]  1         0  ultralytics.nn.modules.conv.Concat           [1]                           \n",
      " 19                  -1  1     86720  ultralytics.nn.modules.block.C3k2            [192, 128, 1, False]          \n",
      " 20                  -1  1    147712  ultralytics.nn.modules.conv.Conv             [128, 128, 3, 2]              \n",
      " 21            [-1, 10]  1         0  ultralytics.nn.modules.conv.Concat           [1]                           \n",
      " 22                  -1  1    378880  ultralytics.nn.modules.block.C3k2            [384, 256, 1, True]           \n",
      " 23        [16, 19, 22]  1    505459  ultralytics.nn.modules.head.OBB              [16, 1, [64, 128, 256]]       \n",
      "YOLO11n-obb summary: 196 layers, 2,664,627 parameters, 2,664,611 gradients, 6.7 GFLOPs\n",
      "\n",
      "Transferred 535/541 items from pretrained weights\n",
      "\u001b[34m\u001b[1mDDP:\u001b[0m debug command /home/jupyter-dai7591/.conda/envs/yolo/bin/python -m torch.distributed.run --nproc_per_node 2 --master_port 42853 /home/jupyter-dai7591/.config/Ultralytics/DDP/_temp_l9fxe1lg124026775006384.py\n",
      "Ultralytics 8.3.121 🚀 Python-3.10.17 torch-2.7.0+cu126 CUDA:0 (NVIDIA RTX 6000 Ada Generation, 48625MiB)\n",
      "                                                        CUDA:1 (NVIDIA RTX 6000 Ada Generation, 48647MiB)\n",
      "Overriding model.yaml nc=80 with nc=16\n",
      "Transferred 535/541 items from pretrained weights\n",
      "Freezing layer 'model.23.dfl.conv.weight'\n",
      "\u001b[34m\u001b[1mAMP: \u001b[0mrunning Automatic Mixed Precision (AMP) checks...\n",
      "Downloading https://github.com/ultralytics/assets/releases/download/v8.3.0/yolo11n.pt to 'yolo11n.pt'...\n"
     ]
    },
    {
     "name": "stderr",
     "output_type": "stream",
     "text": [
      "100%|██████████| 5.35M/5.35M [00:00<00:00, 415MB/s]\n"
     ]
    },
    {
     "name": "stdout",
     "output_type": "stream",
     "text": [
      "\u001b[34m\u001b[1mAMP: \u001b[0mchecks passed ✅\n",
      "\u001b[34m\u001b[1mtrain: \u001b[0mFast image access ✅ (ping: 0.0±0.0 ms, read: 3654.6±808.3 MB/s, size: 213.5 KB)\n"
     ]
    },
    {
     "name": "stderr",
     "output_type": "stream",
     "text": [
      "\u001b[34m\u001b[1mtrain: \u001b[0mScanning /home/jupyter-dai7591/yolo/datasets/DOTAv1.5/labels/train... 1411 images, 1 backgrounds, 2 corrupt: 100%|██████████| 1411/1411 [00:02<00:00, 602.49it/s]\n"
     ]
    },
    {
     "name": "stdout",
     "output_type": "stream",
     "text": [
      "\u001b[34m\u001b[1mtrain: \u001b[0m/home/jupyter-dai7591/yolo/datasets/DOTAv1.5/images/train/P0334.jpg: ignoring corrupt image/label: non-normalized or out of bounds coordinates [1.05654 1.05832]\n",
      "\u001b[34m\u001b[1mtrain: \u001b[0m/home/jupyter-dai7591/yolo/datasets/DOTAv1.5/images/train/P1872.jpg: ignoring corrupt image/label: non-normalized or out of bounds coordinates [2.261835  2.24374   2.167365  2.055295  2.03372   2.01537   1.9992551\n",
      " 1.998015  1.9395001 1.867095  1.886435  1.91148   1.927845  2.01438\n",
      " 1.8735449 1.84255   1.821965  1.80337   1.790725  1.774365  1.74833\n",
      " 1.723035  1.690305  1.81825   1.65063   1.6087301 2.277215  2.211755\n",
      " 1.659555  2.178035  2.666995  2.75279   2.77486   2.4934301 2.472105\n",
      " 2.51773   2.57724   2.6399698 2.8179998 2.8018851 2.8343701 2.883215\n",
      " 2.897595  2.800395  2.75105   2.6603    2.615175  2.5574    2.409125\n",
      " 2.36375   2.2918448 2.31713   2.252665  2.09695   2.1098452 1.65336\n",
      " 1.609965  1.5593851 1.0347149 1.510045  1.55294   1.445575  1.49219\n",
      " 1.3925099 1.3639951 1.336225  1.273495  1.212995  1.15125   1.291595\n",
      " 1.164395  1.1396    1.335235  1.4363999 1.2960601 1.17853   1.15324\n",
      " 1.229355  1.28837   1.3136599 1.03298   1.084305  1.080835  1.092735 ]\n",
      "\u001b[34m\u001b[1mtrain: \u001b[0mNew cache created: /home/jupyter-dai7591/yolo/datasets/DOTAv1.5/labels/train.cache\n",
      "\u001b[34m\u001b[1mval: \u001b[0mFast image access ✅ (ping: 0.0±0.0 ms, read: 1668.3±1099.7 MB/s, size: 609.0 KB)\n"
     ]
    },
    {
     "name": "stderr",
     "output_type": "stream",
     "text": [
      "\u001b[34m\u001b[1mval: \u001b[0mScanning /home/jupyter-dai7591/yolo/datasets/DOTAv1.5/labels/val... 458 images, 0 backgrounds, 0 corrupt: 100%|██████████| 458/458 [00:01<00:00, 447.67it/s]\n"
     ]
    },
    {
     "name": "stdout",
     "output_type": "stream",
     "text": [
      "\u001b[34m\u001b[1mval: \u001b[0mNew cache created: /home/jupyter-dai7591/yolo/datasets/DOTAv1.5/labels/val.cache\n",
      "Plotting labels to test_yolo/experiment_14/labels.jpg... \n",
      "\u001b[34m\u001b[1moptimizer:\u001b[0m 'optimizer=auto' found, ignoring 'lr0=0.01' and 'momentum=0.937' and determining best 'optimizer', 'lr0' and 'momentum' automatically... \n",
      "\u001b[34m\u001b[1moptimizer:\u001b[0m AdamW(lr=0.0005, momentum=0.9) with parameter groups 87 weight(decay=0.0), 97 weight(decay=0.0005), 96 bias(decay=0.0)\n",
      "Image sizes 640 train, 640 val\n",
      "Using 16 dataloader workers\n",
      "Logging results to \u001b[1mtest_yolo/experiment_14\u001b[0m\n",
      "Starting training for 100 epochs...\n",
      "\n",
      "      Epoch    GPU_mem   box_loss   cls_loss   dfl_loss  Instances       Size\n"
     ]
    },
    {
     "name": "stderr",
     "output_type": "stream",
     "text": [
      "      1/100      11.7G      1.571      4.198       1.23         14        608: 100%|██████████| 89/89 [00:12<00:00,  6.93it/s]\n",
      "                 Class     Images  Instances      Box(P          R      mAP50  mAP50-95): 100%|██████████| 58/58 [00:06<00:00,  9.39it/s]\n"
     ]
    },
    {
     "name": "stdout",
     "output_type": "stream",
     "text": [
      "                   all        458      69565      0.454      0.131      0.153      0.103\n",
      "\n",
      "      Epoch    GPU_mem   box_loss   cls_loss   dfl_loss  Instances       Size\n"
     ]
    },
    {
     "name": "stderr",
     "output_type": "stream",
     "text": [
      "      2/100      11.8G       1.51      2.502      1.148         83        960: 100%|██████████| 89/89 [00:07<00:00, 12.20it/s]\n",
      "                 Class     Images  Instances      Box(P          R      mAP50  mAP50-95): 100%|██████████| 58/58 [00:05<00:00, 10.80it/s]\n"
     ]
    },
    {
     "name": "stdout",
     "output_type": "stream",
     "text": [
      "                   all        458      69565      0.754      0.243       0.28      0.201\n",
      "\n",
      "      Epoch    GPU_mem   box_loss   cls_loss   dfl_loss  Instances       Size\n"
     ]
    },
    {
     "name": "stderr",
     "output_type": "stream",
     "text": [
      "      3/100      11.8G      1.363      1.426      1.142        162        544: 100%|██████████| 89/89 [00:06<00:00, 13.70it/s]\n",
      "                 Class     Images  Instances      Box(P          R      mAP50  mAP50-95): 100%|██████████| 58/58 [00:05<00:00, 11.38it/s]\n"
     ]
    },
    {
     "name": "stdout",
     "output_type": "stream",
     "text": [
      "                   all        458      69565      0.737      0.301      0.329      0.236\n",
      "\n",
      "      Epoch    GPU_mem   box_loss   cls_loss   dfl_loss  Instances       Size\n"
     ]
    },
    {
     "name": "stderr",
     "output_type": "stream",
     "text": [
      "      4/100        19G      1.322      1.166      1.157         91        928: 100%|██████████| 89/89 [00:06<00:00, 13.48it/s]\n",
      "                 Class     Images  Instances      Box(P          R      mAP50  mAP50-95): 100%|██████████| 58/58 [00:03<00:00, 15.32it/s]\n"
     ]
    },
    {
     "name": "stdout",
     "output_type": "stream",
     "text": [
      "                   all        458      69565       0.73      0.317      0.356      0.254\n",
      "\n",
      "      Epoch    GPU_mem   box_loss   cls_loss   dfl_loss  Instances       Size\n"
     ]
    },
    {
     "name": "stderr",
     "output_type": "stream",
     "text": [
      "      5/100      19.1G      1.301      1.063      1.147        204        800: 100%|██████████| 89/89 [00:06<00:00, 13.05it/s]\n",
      "                 Class     Images  Instances      Box(P          R      mAP50  mAP50-95): 100%|██████████| 58/58 [00:03<00:00, 15.94it/s]\n"
     ]
    },
    {
     "name": "stdout",
     "output_type": "stream",
     "text": [
      "                   all        458      69565      0.728      0.329      0.373      0.265\n",
      "\n",
      "      Epoch    GPU_mem   box_loss   cls_loss   dfl_loss  Instances       Size\n"
     ]
    },
    {
     "name": "stderr",
     "output_type": "stream",
     "text": [
      "      6/100      19.1G      1.232      1.009      1.171         62        928: 100%|██████████| 89/89 [00:06<00:00, 14.45it/s]\n",
      "                 Class     Images  Instances      Box(P          R      mAP50  mAP50-95): 100%|██████████| 58/58 [00:03<00:00, 14.69it/s]\n"
     ]
    },
    {
     "name": "stdout",
     "output_type": "stream",
     "text": [
      "                   all        458      69565       0.67      0.346      0.379      0.268\n",
      "\n",
      "      Epoch    GPU_mem   box_loss   cls_loss   dfl_loss  Instances       Size\n"
     ]
    },
    {
     "name": "stderr",
     "output_type": "stream",
     "text": [
      "      7/100      19.1G      1.254     0.9844      1.137         18        832: 100%|██████████| 89/89 [00:06<00:00, 13.31it/s]\n",
      "                 Class     Images  Instances      Box(P          R      mAP50  mAP50-95): 100%|██████████| 58/58 [00:03<00:00, 14.52it/s]\n"
     ]
    },
    {
     "name": "stdout",
     "output_type": "stream",
     "text": [
      "                   all        458      69565      0.783       0.33      0.377      0.266\n",
      "\n",
      "      Epoch    GPU_mem   box_loss   cls_loss   dfl_loss  Instances       Size\n"
     ]
    },
    {
     "name": "stderr",
     "output_type": "stream",
     "text": [
      "      8/100      19.1G      1.254     0.9625      1.171        886        896: 100%|██████████| 89/89 [00:06<00:00, 13.00it/s]\n",
      "                 Class     Images  Instances      Box(P          R      mAP50  mAP50-95): 100%|██████████| 58/58 [00:03<00:00, 16.95it/s]\n"
     ]
    },
    {
     "name": "stdout",
     "output_type": "stream",
     "text": [
      "                   all        458      69565      0.699      0.357      0.388      0.274\n",
      "\n",
      "      Epoch    GPU_mem   box_loss   cls_loss   dfl_loss  Instances       Size\n"
     ]
    },
    {
     "name": "stderr",
     "output_type": "stream",
     "text": [
      "      9/100      19.1G      1.283     0.9584      1.142         88        704: 100%|██████████| 89/89 [00:06<00:00, 13.17it/s]\n",
      "                 Class     Images  Instances      Box(P          R      mAP50  mAP50-95): 100%|██████████| 58/58 [00:03<00:00, 15.75it/s]\n"
     ]
    },
    {
     "name": "stdout",
     "output_type": "stream",
     "text": [
      "                   all        458      69565      0.703      0.353      0.392      0.277\n",
      "\n",
      "      Epoch    GPU_mem   box_loss   cls_loss   dfl_loss  Instances       Size\n"
     ]
    },
    {
     "name": "stderr",
     "output_type": "stream",
     "text": [
      "     10/100      21.5G      1.216      0.981      1.149         13        608: 100%|██████████| 89/89 [00:06<00:00, 13.60it/s]\n",
      "                 Class     Images  Instances      Box(P          R      mAP50  mAP50-95): 100%|██████████| 58/58 [00:03<00:00, 15.96it/s]\n"
     ]
    },
    {
     "name": "stdout",
     "output_type": "stream",
     "text": [
      "                   all        458      69565       0.75      0.348       0.39      0.278\n",
      "\n",
      "      Epoch    GPU_mem   box_loss   cls_loss   dfl_loss  Instances       Size\n"
     ]
    },
    {
     "name": "stderr",
     "output_type": "stream",
     "text": [
      "     11/100      21.5G      1.232     0.9135      1.139         75        576: 100%|██████████| 89/89 [00:06<00:00, 12.92it/s]\n",
      "                 Class     Images  Instances      Box(P          R      mAP50  mAP50-95): 100%|██████████| 58/58 [00:03<00:00, 18.14it/s]\n"
     ]
    },
    {
     "name": "stdout",
     "output_type": "stream",
     "text": [
      "                   all        458      69565      0.653      0.355      0.395      0.281\n",
      "\n",
      "      Epoch    GPU_mem   box_loss   cls_loss   dfl_loss  Instances       Size\n"
     ]
    },
    {
     "name": "stderr",
     "output_type": "stream",
     "text": [
      "     12/100      21.5G      1.199     0.9107      1.131        178        320: 100%|██████████| 89/89 [00:06<00:00, 13.41it/s]\n",
      "                 Class     Images  Instances      Box(P          R      mAP50  mAP50-95): 100%|██████████| 58/58 [00:03<00:00, 16.29it/s]\n"
     ]
    },
    {
     "name": "stdout",
     "output_type": "stream",
     "text": [
      "                   all        458      69565      0.626      0.365      0.399      0.284\n",
      "\n",
      "      Epoch    GPU_mem   box_loss   cls_loss   dfl_loss  Instances       Size\n"
     ]
    },
    {
     "name": "stderr",
     "output_type": "stream",
     "text": [
      "     13/100      21.5G      1.196     0.8986       1.15         32        800: 100%|██████████| 89/89 [00:06<00:00, 13.45it/s]\n",
      "                 Class     Images  Instances      Box(P          R      mAP50  mAP50-95): 100%|██████████| 58/58 [00:02<00:00, 19.55it/s]\n"
     ]
    },
    {
     "name": "stdout",
     "output_type": "stream",
     "text": [
      "                   all        458      69565      0.676      0.363        0.4      0.282\n",
      "\n",
      "      Epoch    GPU_mem   box_loss   cls_loss   dfl_loss  Instances       Size\n"
     ]
    },
    {
     "name": "stderr",
     "output_type": "stream",
     "text": [
      "     14/100      21.5G      1.217     0.9039      1.134         45        480: 100%|██████████| 89/89 [00:06<00:00, 13.61it/s]\n",
      "                 Class     Images  Instances      Box(P          R      mAP50  mAP50-95): 100%|██████████| 58/58 [00:02<00:00, 19.98it/s]\n"
     ]
    },
    {
     "name": "stdout",
     "output_type": "stream",
     "text": [
      "                   all        458      69565      0.701      0.356      0.403      0.288\n",
      "\n",
      "      Epoch    GPU_mem   box_loss   cls_loss   dfl_loss  Instances       Size\n"
     ]
    },
    {
     "name": "stderr",
     "output_type": "stream",
     "text": [
      "     15/100      21.5G      1.224     0.9071      1.137        445        352: 100%|██████████| 89/89 [00:07<00:00, 12.23it/s]\n",
      "                 Class     Images  Instances      Box(P          R      mAP50  mAP50-95): 100%|██████████| 58/58 [00:02<00:00, 19.37it/s]\n"
     ]
    },
    {
     "name": "stdout",
     "output_type": "stream",
     "text": [
      "                   all        458      69565       0.65      0.355      0.395      0.281\n",
      "\n",
      "      Epoch    GPU_mem   box_loss   cls_loss   dfl_loss  Instances       Size\n"
     ]
    },
    {
     "name": "stderr",
     "output_type": "stream",
     "text": [
      "     16/100      21.6G      1.181     0.8685      1.122        148        512: 100%|██████████| 89/89 [00:06<00:00, 13.76it/s]\n",
      "                 Class     Images  Instances      Box(P          R      mAP50  mAP50-95): 100%|██████████| 58/58 [00:03<00:00, 17.29it/s]\n"
     ]
    },
    {
     "name": "stdout",
     "output_type": "stream",
     "text": [
      "                   all        458      69565      0.688       0.36      0.405      0.291\n",
      "\n",
      "      Epoch    GPU_mem   box_loss   cls_loss   dfl_loss  Instances       Size\n"
     ]
    },
    {
     "name": "stderr",
     "output_type": "stream",
     "text": [
      "     17/100      21.6G      1.184     0.8566      1.124        242        896: 100%|██████████| 89/89 [00:06<00:00, 13.63it/s]\n",
      "                 Class     Images  Instances      Box(P          R      mAP50  mAP50-95): 100%|██████████| 58/58 [00:03<00:00, 17.92it/s]\n"
     ]
    },
    {
     "name": "stdout",
     "output_type": "stream",
     "text": [
      "                   all        458      69565      0.635      0.361      0.406      0.287\n",
      "\n",
      "      Epoch    GPU_mem   box_loss   cls_loss   dfl_loss  Instances       Size\n"
     ]
    },
    {
     "name": "stderr",
     "output_type": "stream",
     "text": [
      "     18/100      21.6G      1.213     0.8763      1.129         54        896: 100%|██████████| 89/89 [00:06<00:00, 13.81it/s]\n",
      "                 Class     Images  Instances      Box(P          R      mAP50  mAP50-95): 100%|██████████| 58/58 [00:03<00:00, 16.72it/s]\n"
     ]
    },
    {
     "name": "stdout",
     "output_type": "stream",
     "text": [
      "                   all        458      69565      0.681      0.358      0.409       0.29\n",
      "\n",
      "      Epoch    GPU_mem   box_loss   cls_loss   dfl_loss  Instances       Size\n"
     ]
    },
    {
     "name": "stderr",
     "output_type": "stream",
     "text": [
      "     19/100      21.6G      1.212     0.8657      1.119        362        800: 100%|██████████| 89/89 [00:06<00:00, 13.49it/s]\n",
      "                 Class     Images  Instances      Box(P          R      mAP50  mAP50-95): 100%|██████████| 58/58 [00:02<00:00, 19.67it/s]\n"
     ]
    },
    {
     "name": "stdout",
     "output_type": "stream",
     "text": [
      "                   all        458      69565      0.634      0.375       0.41      0.292\n",
      "\n",
      "      Epoch    GPU_mem   box_loss   cls_loss   dfl_loss  Instances       Size\n"
     ]
    },
    {
     "name": "stderr",
     "output_type": "stream",
     "text": [
      "     20/100      21.6G      1.197      1.011      1.145          3        736: 100%|██████████| 89/89 [00:06<00:00, 13.76it/s]\n",
      "                 Class     Images  Instances      Box(P          R      mAP50  mAP50-95): 100%|██████████| 58/58 [00:02<00:00, 20.34it/s]\n"
     ]
    },
    {
     "name": "stdout",
     "output_type": "stream",
     "text": [
      "                   all        458      69565      0.668      0.368      0.413      0.295\n",
      "\n",
      "      Epoch    GPU_mem   box_loss   cls_loss   dfl_loss  Instances       Size\n"
     ]
    },
    {
     "name": "stderr",
     "output_type": "stream",
     "text": [
      "     21/100      21.6G      1.154     0.8377      1.147        108        480: 100%|██████████| 89/89 [00:06<00:00, 13.77it/s]\n",
      "                 Class     Images  Instances      Box(P          R      mAP50  mAP50-95): 100%|██████████| 58/58 [00:02<00:00, 20.26it/s]\n"
     ]
    },
    {
     "name": "stdout",
     "output_type": "stream",
     "text": [
      "                   all        458      69565      0.659      0.371      0.413      0.295\n",
      "\n",
      "      Epoch    GPU_mem   box_loss   cls_loss   dfl_loss  Instances       Size\n"
     ]
    },
    {
     "name": "stderr",
     "output_type": "stream",
     "text": [
      "     22/100      21.6G       1.17     0.8578      1.137         37        544: 100%|██████████| 89/89 [00:06<00:00, 14.32it/s]\n",
      "                 Class     Images  Instances      Box(P          R      mAP50  mAP50-95): 100%|██████████| 58/58 [00:03<00:00, 18.14it/s]\n"
     ]
    },
    {
     "name": "stdout",
     "output_type": "stream",
     "text": [
      "                   all        458      69565      0.679      0.366      0.416      0.295\n",
      "\n",
      "      Epoch    GPU_mem   box_loss   cls_loss   dfl_loss  Instances       Size\n"
     ]
    },
    {
     "name": "stderr",
     "output_type": "stream",
     "text": [
      "     23/100      21.7G      1.182     0.8506      1.122        257        448: 100%|██████████| 89/89 [00:07<00:00, 12.47it/s]\n",
      "                 Class     Images  Instances      Box(P          R      mAP50  mAP50-95): 100%|██████████| 58/58 [00:02<00:00, 20.51it/s]\n"
     ]
    },
    {
     "name": "stdout",
     "output_type": "stream",
     "text": [
      "                   all        458      69565      0.676      0.373      0.419      0.296\n",
      "\n",
      "      Epoch    GPU_mem   box_loss   cls_loss   dfl_loss  Instances       Size\n"
     ]
    },
    {
     "name": "stderr",
     "output_type": "stream",
     "text": [
      "     24/100      21.7G       1.19     0.8442      1.137        100        736: 100%|██████████| 89/89 [00:06<00:00, 13.83it/s]\n",
      "                 Class     Images  Instances      Box(P          R      mAP50  mAP50-95): 100%|██████████| 58/58 [00:02<00:00, 19.76it/s]\n"
     ]
    },
    {
     "name": "stdout",
     "output_type": "stream",
     "text": [
      "                   all        458      69565      0.671      0.377      0.418      0.296\n",
      "\n",
      "      Epoch    GPU_mem   box_loss   cls_loss   dfl_loss  Instances       Size\n"
     ]
    },
    {
     "name": "stderr",
     "output_type": "stream",
     "text": [
      "     25/100      21.7G      1.197     0.8438      1.116        310        704: 100%|██████████| 89/89 [00:06<00:00, 14.25it/s]\n",
      "                 Class     Images  Instances      Box(P          R      mAP50  mAP50-95): 100%|██████████| 58/58 [00:03<00:00, 17.79it/s]\n",
      "  0%|          | 0/89 [00:00<?, ?it/s]"
     ]
    },
    {
     "name": "stdout",
     "output_type": "stream",
     "text": [
      "                   all        458      69565      0.653       0.38      0.417      0.296\n",
      "\n",
      "      Epoch    GPU_mem   box_loss   cls_loss   dfl_loss  Instances       Size\n"
     ]
    },
    {
     "name": "stderr",
     "output_type": "stream",
     "text": [
      "     26/100      21.7G      1.175     0.8383      1.141         83        320: 100%|██████████| 89/89 [00:06<00:00, 13.89it/s]\n",
      "                 Class     Images  Instances      Box(P          R      mAP50  mAP50-95): 100%|██████████| 58/58 [00:03<00:00, 18.83it/s]\n"
     ]
    },
    {
     "name": "stdout",
     "output_type": "stream",
     "text": [
      "                   all        458      69565      0.734      0.371      0.413      0.294\n",
      "\n",
      "      Epoch    GPU_mem   box_loss   cls_loss   dfl_loss  Instances       Size\n"
     ]
    },
    {
     "name": "stderr",
     "output_type": "stream",
     "text": [
      "     27/100      21.7G      1.106     0.7935      1.107        460        832: 100%|██████████| 89/89 [00:06<00:00, 13.77it/s]\n",
      "                 Class     Images  Instances      Box(P          R      mAP50  mAP50-95): 100%|██████████| 58/58 [00:03<00:00, 19.16it/s]\n"
     ]
    },
    {
     "name": "stdout",
     "output_type": "stream",
     "text": [
      "                   all        458      69565      0.736      0.369      0.413      0.298\n",
      "\n",
      "      Epoch    GPU_mem   box_loss   cls_loss   dfl_loss  Instances       Size\n"
     ]
    },
    {
     "name": "stderr",
     "output_type": "stream",
     "text": [
      "     28/100      21.7G      1.154     0.8277       1.12        149        448: 100%|██████████| 89/89 [00:06<00:00, 13.25it/s]\n",
      "                 Class     Images  Instances      Box(P          R      mAP50  mAP50-95): 100%|██████████| 58/58 [00:02<00:00, 20.86it/s]\n"
     ]
    },
    {
     "name": "stdout",
     "output_type": "stream",
     "text": [
      "                   all        458      69565      0.763      0.372      0.419        0.3\n",
      "\n",
      "      Epoch    GPU_mem   box_loss   cls_loss   dfl_loss  Instances       Size\n"
     ]
    },
    {
     "name": "stderr",
     "output_type": "stream",
     "text": [
      "     29/100      21.8G      1.163     0.8307      1.121         56        704: 100%|██████████| 89/89 [00:08<00:00, 10.95it/s]\n",
      "                 Class     Images  Instances      Box(P          R      mAP50  mAP50-95): 100%|██████████| 58/58 [00:02<00:00, 20.65it/s]\n"
     ]
    },
    {
     "name": "stdout",
     "output_type": "stream",
     "text": [
      "                   all        458      69565      0.721      0.378      0.418      0.297\n",
      "\n",
      "      Epoch    GPU_mem   box_loss   cls_loss   dfl_loss  Instances       Size\n"
     ]
    },
    {
     "name": "stderr",
     "output_type": "stream",
     "text": [
      "     30/100      21.8G       1.18     0.8252      1.106        203        736: 100%|██████████| 89/89 [00:06<00:00, 13.38it/s]\n",
      "                 Class     Images  Instances      Box(P          R      mAP50  mAP50-95): 100%|██████████| 58/58 [00:02<00:00, 19.59it/s]\n"
     ]
    },
    {
     "name": "stdout",
     "output_type": "stream",
     "text": [
      "                   all        458      69565      0.731      0.371      0.422      0.302\n",
      "\n",
      "      Epoch    GPU_mem   box_loss   cls_loss   dfl_loss  Instances       Size\n"
     ]
    },
    {
     "name": "stderr",
     "output_type": "stream",
     "text": [
      "     31/100      21.8G      1.172     0.8256      1.105        196        544: 100%|██████████| 89/89 [00:06<00:00, 13.89it/s]\n",
      "                 Class     Images  Instances      Box(P          R      mAP50  mAP50-95): 100%|██████████| 58/58 [00:03<00:00, 18.77it/s]\n"
     ]
    },
    {
     "name": "stdout",
     "output_type": "stream",
     "text": [
      "                   all        458      69565      0.736      0.375      0.417      0.297\n",
      "\n",
      "      Epoch    GPU_mem   box_loss   cls_loss   dfl_loss  Instances       Size\n"
     ]
    },
    {
     "name": "stderr",
     "output_type": "stream",
     "text": [
      "     32/100      21.8G      1.223      0.871      1.121        145        416: 100%|██████████| 89/89 [00:06<00:00, 13.30it/s]\n",
      "                 Class     Images  Instances      Box(P          R      mAP50  mAP50-95): 100%|██████████| 58/58 [00:02<00:00, 19.98it/s]\n"
     ]
    },
    {
     "name": "stdout",
     "output_type": "stream",
     "text": [
      "                   all        458      69565      0.671      0.373      0.419        0.3\n",
      "\n",
      "      Epoch    GPU_mem   box_loss   cls_loss   dfl_loss  Instances       Size\n"
     ]
    },
    {
     "name": "stderr",
     "output_type": "stream",
     "text": [
      "     33/100      21.8G      1.164     0.8381      1.123         60        352: 100%|██████████| 89/89 [00:07<00:00, 12.00it/s]\n",
      "                 Class     Images  Instances      Box(P          R      mAP50  mAP50-95): 100%|██████████| 58/58 [00:03<00:00, 19.31it/s]\n"
     ]
    },
    {
     "name": "stdout",
     "output_type": "stream",
     "text": [
      "                   all        458      69565      0.751       0.37       0.42      0.301\n",
      "\n",
      "      Epoch    GPU_mem   box_loss   cls_loss   dfl_loss  Instances       Size\n"
     ]
    },
    {
     "name": "stderr",
     "output_type": "stream",
     "text": [
      "     34/100      21.8G      1.166     0.8168      1.126        258        864: 100%|██████████| 89/89 [00:06<00:00, 12.88it/s]\n",
      "                 Class     Images  Instances      Box(P          R      mAP50  mAP50-95): 100%|██████████| 58/58 [00:02<00:00, 21.30it/s]\n"
     ]
    },
    {
     "name": "stdout",
     "output_type": "stream",
     "text": [
      "                   all        458      69565      0.751      0.382      0.425        0.3\n",
      "\n",
      "      Epoch    GPU_mem   box_loss   cls_loss   dfl_loss  Instances       Size\n"
     ]
    },
    {
     "name": "stderr",
     "output_type": "stream",
     "text": [
      "     35/100      21.8G      1.122      0.786      1.118         13        928: 100%|██████████| 89/89 [00:06<00:00, 13.50it/s]\n",
      "                 Class     Images  Instances      Box(P          R      mAP50  mAP50-95): 100%|██████████| 58/58 [00:02<00:00, 20.47it/s]\n"
     ]
    },
    {
     "name": "stdout",
     "output_type": "stream",
     "text": [
      "                   all        458      69565      0.714      0.382      0.424      0.303\n",
      "\n",
      "      Epoch    GPU_mem   box_loss   cls_loss   dfl_loss  Instances       Size\n"
     ]
    },
    {
     "name": "stderr",
     "output_type": "stream",
     "text": [
      "     36/100      21.9G      1.133     0.7975      1.129         41        704: 100%|██████████| 89/89 [00:06<00:00, 14.10it/s]\n",
      "                 Class     Images  Instances      Box(P          R      mAP50  mAP50-95): 100%|██████████| 58/58 [00:02<00:00, 20.41it/s]\n"
     ]
    },
    {
     "name": "stdout",
     "output_type": "stream",
     "text": [
      "                   all        458      69565      0.725      0.373      0.415      0.294\n",
      "\n",
      "      Epoch    GPU_mem   box_loss   cls_loss   dfl_loss  Instances       Size\n"
     ]
    },
    {
     "name": "stderr",
     "output_type": "stream",
     "text": [
      "     37/100      21.9G      1.159      0.808      1.118         40        512: 100%|██████████| 89/89 [00:06<00:00, 13.37it/s]\n",
      "                 Class     Images  Instances      Box(P          R      mAP50  mAP50-95): 100%|██████████| 58/58 [00:02<00:00, 21.08it/s]\n"
     ]
    },
    {
     "name": "stdout",
     "output_type": "stream",
     "text": [
      "                   all        458      69565      0.761      0.371      0.423      0.303\n",
      "\n",
      "      Epoch    GPU_mem   box_loss   cls_loss   dfl_loss  Instances       Size\n"
     ]
    },
    {
     "name": "stderr",
     "output_type": "stream",
     "text": [
      "     38/100      21.9G      1.133     0.7775      1.105         35        384: 100%|██████████| 89/89 [00:07<00:00, 12.19it/s]\n",
      "                 Class     Images  Instances      Box(P          R      mAP50  mAP50-95): 100%|██████████| 58/58 [00:02<00:00, 20.56it/s]\n"
     ]
    },
    {
     "name": "stdout",
     "output_type": "stream",
     "text": [
      "                   all        458      69565      0.732      0.379      0.423        0.3\n",
      "\n",
      "      Epoch    GPU_mem   box_loss   cls_loss   dfl_loss  Instances       Size\n"
     ]
    },
    {
     "name": "stderr",
     "output_type": "stream",
     "text": [
      "     39/100      21.9G      1.114     0.7789      1.117        168        640: 100%|██████████| 89/89 [00:06<00:00, 14.16it/s]\n",
      "                 Class     Images  Instances      Box(P          R      mAP50  mAP50-95): 100%|██████████| 58/58 [00:02<00:00, 21.95it/s]\n"
     ]
    },
    {
     "name": "stdout",
     "output_type": "stream",
     "text": [
      "                   all        458      69565      0.732      0.384      0.425      0.304\n",
      "\n",
      "      Epoch    GPU_mem   box_loss   cls_loss   dfl_loss  Instances       Size\n"
     ]
    },
    {
     "name": "stderr",
     "output_type": "stream",
     "text": [
      "     40/100      21.9G      1.116     0.7781      1.098        235        416: 100%|██████████| 89/89 [00:06<00:00, 13.52it/s]\n",
      "                 Class     Images  Instances      Box(P          R      mAP50  mAP50-95): 100%|██████████| 58/58 [00:02<00:00, 22.16it/s]\n"
     ]
    },
    {
     "name": "stdout",
     "output_type": "stream",
     "text": [
      "                   all        458      69565      0.717       0.38      0.426      0.306\n",
      "\n",
      "      Epoch    GPU_mem   box_loss   cls_loss   dfl_loss  Instances       Size\n"
     ]
    },
    {
     "name": "stderr",
     "output_type": "stream",
     "text": [
      "     41/100      21.9G      1.113     0.7637      1.103        366        640: 100%|██████████| 89/89 [00:06<00:00, 13.54it/s]\n",
      "                 Class     Images  Instances      Box(P          R      mAP50  mAP50-95): 100%|██████████| 58/58 [00:02<00:00, 21.56it/s]\n"
     ]
    },
    {
     "name": "stdout",
     "output_type": "stream",
     "text": [
      "                   all        458      69565      0.721      0.385      0.422      0.302\n",
      "\n",
      "      Epoch    GPU_mem   box_loss   cls_loss   dfl_loss  Instances       Size\n"
     ]
    },
    {
     "name": "stderr",
     "output_type": "stream",
     "text": [
      "     42/100        22G      1.153     0.7961       1.12        276        832: 100%|██████████| 89/89 [00:06<00:00, 13.86it/s]\n",
      "                 Class     Images  Instances      Box(P          R      mAP50  mAP50-95): 100%|██████████| 58/58 [00:02<00:00, 21.95it/s]\n"
     ]
    },
    {
     "name": "stdout",
     "output_type": "stream",
     "text": [
      "                   all        458      69565      0.719      0.387      0.427      0.307\n",
      "\n",
      "      Epoch    GPU_mem   box_loss   cls_loss   dfl_loss  Instances       Size\n"
     ]
    },
    {
     "name": "stderr",
     "output_type": "stream",
     "text": [
      "     43/100        22G      1.189     0.8071      1.116        124        480: 100%|██████████| 89/89 [00:06<00:00, 13.51it/s]\n",
      "                 Class     Images  Instances      Box(P          R      mAP50  mAP50-95): 100%|██████████| 58/58 [00:02<00:00, 21.84it/s]\n"
     ]
    },
    {
     "name": "stdout",
     "output_type": "stream",
     "text": [
      "                   all        458      69565      0.727      0.375      0.426      0.306\n",
      "\n",
      "      Epoch    GPU_mem   box_loss   cls_loss   dfl_loss  Instances       Size\n"
     ]
    },
    {
     "name": "stderr",
     "output_type": "stream",
     "text": [
      "     44/100        22G      1.128       0.78      1.132         37        416: 100%|██████████| 89/89 [00:06<00:00, 13.47it/s]\n",
      "                 Class     Images  Instances      Box(P          R      mAP50  mAP50-95): 100%|██████████| 58/58 [00:02<00:00, 21.27it/s]\n"
     ]
    },
    {
     "name": "stdout",
     "output_type": "stream",
     "text": [
      "                   all        458      69565      0.719      0.373      0.419      0.302\n",
      "\n",
      "      Epoch    GPU_mem   box_loss   cls_loss   dfl_loss  Instances       Size\n"
     ]
    },
    {
     "name": "stderr",
     "output_type": "stream",
     "text": [
      "     45/100        22G      1.109     0.7813      1.102         59        832: 100%|██████████| 89/89 [00:07<00:00, 11.31it/s]\n",
      "                 Class     Images  Instances      Box(P          R      mAP50  mAP50-95): 100%|██████████| 58/58 [00:02<00:00, 22.24it/s]\n"
     ]
    },
    {
     "name": "stdout",
     "output_type": "stream",
     "text": [
      "                   all        458      69565      0.734      0.385      0.427      0.306\n",
      "\n",
      "      Epoch    GPU_mem   box_loss   cls_loss   dfl_loss  Instances       Size\n"
     ]
    },
    {
     "name": "stderr",
     "output_type": "stream",
     "text": [
      "     46/100        22G      1.097      0.778      1.109         45        864: 100%|██████████| 89/89 [00:06<00:00, 13.79it/s]\n",
      "                 Class     Images  Instances      Box(P          R      mAP50  mAP50-95): 100%|██████████| 58/58 [00:03<00:00, 19.03it/s]\n"
     ]
    },
    {
     "name": "stdout",
     "output_type": "stream",
     "text": [
      "                   all        458      69565      0.733      0.372      0.422      0.303\n",
      "\n",
      "      Epoch    GPU_mem   box_loss   cls_loss   dfl_loss  Instances       Size\n"
     ]
    },
    {
     "name": "stderr",
     "output_type": "stream",
     "text": [
      "     47/100        22G      1.092     0.7616      1.135         24        512: 100%|██████████| 89/89 [00:06<00:00, 14.45it/s]\n",
      "                 Class     Images  Instances      Box(P          R      mAP50  mAP50-95): 100%|██████████| 58/58 [00:02<00:00, 21.71it/s]\n"
     ]
    },
    {
     "name": "stdout",
     "output_type": "stream",
     "text": [
      "                   all        458      69565      0.725      0.388      0.428      0.307\n",
      "\n",
      "      Epoch    GPU_mem   box_loss   cls_loss   dfl_loss  Instances       Size\n"
     ]
    },
    {
     "name": "stderr",
     "output_type": "stream",
     "text": [
      "     48/100        22G      1.118     0.7912       1.11        185        480: 100%|██████████| 89/89 [00:06<00:00, 14.12it/s]\n",
      "                 Class     Images  Instances      Box(P          R      mAP50  mAP50-95): 100%|██████████| 58/58 [00:02<00:00, 22.31it/s]\n"
     ]
    },
    {
     "name": "stdout",
     "output_type": "stream",
     "text": [
      "                   all        458      69565      0.721      0.388      0.429      0.307\n",
      "\n",
      "      Epoch    GPU_mem   box_loss   cls_loss   dfl_loss  Instances       Size\n"
     ]
    },
    {
     "name": "stderr",
     "output_type": "stream",
     "text": [
      "     49/100      22.1G      1.166     0.8117      1.105        251        896: 100%|██████████| 89/89 [00:07<00:00, 12.35it/s]\n",
      "                 Class     Images  Instances      Box(P          R      mAP50  mAP50-95): 100%|██████████| 58/58 [00:02<00:00, 21.21it/s]\n"
     ]
    },
    {
     "name": "stdout",
     "output_type": "stream",
     "text": [
      "                   all        458      69565       0.74      0.378      0.429      0.306\n",
      "\n",
      "      Epoch    GPU_mem   box_loss   cls_loss   dfl_loss  Instances       Size\n"
     ]
    },
    {
     "name": "stderr",
     "output_type": "stream",
     "text": [
      "     50/100      22.1G      1.131     0.7729      1.094         28        864: 100%|██████████| 89/89 [00:06<00:00, 13.79it/s]\n",
      "                 Class     Images  Instances      Box(P          R      mAP50  mAP50-95): 100%|██████████| 58/58 [00:02<00:00, 20.08it/s]\n"
     ]
    },
    {
     "name": "stdout",
     "output_type": "stream",
     "text": [
      "                   all        458      69565      0.723      0.383      0.424      0.306\n",
      "\n",
      "      Epoch    GPU_mem   box_loss   cls_loss   dfl_loss  Instances       Size\n"
     ]
    },
    {
     "name": "stderr",
     "output_type": "stream",
     "text": [
      "     51/100      22.1G       1.13     0.7869      1.116         87        384: 100%|██████████| 89/89 [00:06<00:00, 13.05it/s]\n",
      "                 Class     Images  Instances      Box(P          R      mAP50  mAP50-95): 100%|██████████| 58/58 [00:02<00:00, 20.70it/s]\n"
     ]
    },
    {
     "name": "stdout",
     "output_type": "stream",
     "text": [
      "                   all        458      69565      0.726      0.377      0.423      0.305\n",
      "\n",
      "      Epoch    GPU_mem   box_loss   cls_loss   dfl_loss  Instances       Size\n"
     ]
    },
    {
     "name": "stderr",
     "output_type": "stream",
     "text": [
      "     52/100      22.1G      1.089     0.7558      1.098         59        512: 100%|██████████| 89/89 [00:06<00:00, 14.03it/s]\n",
      "                 Class     Images  Instances      Box(P          R      mAP50  mAP50-95): 100%|██████████| 58/58 [00:02<00:00, 20.58it/s]\n"
     ]
    },
    {
     "name": "stdout",
     "output_type": "stream",
     "text": [
      "                   all        458      69565        0.7      0.383      0.424      0.305\n",
      "\n",
      "      Epoch    GPU_mem   box_loss   cls_loss   dfl_loss  Instances       Size\n"
     ]
    },
    {
     "name": "stderr",
     "output_type": "stream",
     "text": [
      "     53/100      22.1G      1.102     0.7547      1.114         40        544: 100%|██████████| 89/89 [00:06<00:00, 13.04it/s]\n",
      "                 Class     Images  Instances      Box(P          R      mAP50  mAP50-95): 100%|██████████| 58/58 [00:02<00:00, 21.94it/s]\n"
     ]
    },
    {
     "name": "stdout",
     "output_type": "stream",
     "text": [
      "                   all        458      69565      0.725      0.384      0.427      0.307\n",
      "\n",
      "      Epoch    GPU_mem   box_loss   cls_loss   dfl_loss  Instances       Size\n"
     ]
    },
    {
     "name": "stderr",
     "output_type": "stream",
     "text": [
      "     54/100      22.1G        1.1     0.7559      1.096         43        960: 100%|██████████| 89/89 [00:06<00:00, 14.30it/s]\n",
      "                 Class     Images  Instances      Box(P          R      mAP50  mAP50-95): 100%|██████████| 58/58 [00:02<00:00, 21.59it/s]\n"
     ]
    },
    {
     "name": "stdout",
     "output_type": "stream",
     "text": [
      "                   all        458      69565      0.735      0.383      0.432       0.31\n",
      "\n",
      "      Epoch    GPU_mem   box_loss   cls_loss   dfl_loss  Instances       Size\n"
     ]
    },
    {
     "name": "stderr",
     "output_type": "stream",
     "text": [
      "     55/100      22.1G      1.099      0.763      1.097         23        640: 100%|██████████| 89/89 [00:06<00:00, 13.77it/s]\n",
      "                 Class     Images  Instances      Box(P          R      mAP50  mAP50-95): 100%|██████████| 58/58 [00:02<00:00, 20.85it/s]\n"
     ]
    },
    {
     "name": "stdout",
     "output_type": "stream",
     "text": [
      "                   all        458      69565      0.728      0.375      0.422      0.305\n",
      "\n",
      "      Epoch    GPU_mem   box_loss   cls_loss   dfl_loss  Instances       Size\n"
     ]
    },
    {
     "name": "stderr",
     "output_type": "stream",
     "text": [
      "     56/100      22.2G      1.124     0.7622      1.103         14        800: 100%|██████████| 89/89 [00:06<00:00, 13.30it/s]\n",
      "                 Class     Images  Instances      Box(P          R      mAP50  mAP50-95): 100%|██████████| 58/58 [00:02<00:00, 21.83it/s]\n"
     ]
    },
    {
     "name": "stdout",
     "output_type": "stream",
     "text": [
      "                   all        458      69565      0.729      0.391      0.433       0.31\n",
      "\n",
      "      Epoch    GPU_mem   box_loss   cls_loss   dfl_loss  Instances       Size\n"
     ]
    },
    {
     "name": "stderr",
     "output_type": "stream",
     "text": [
      "     57/100      22.2G       1.13     0.8799       1.09         37        896: 100%|██████████| 89/89 [00:06<00:00, 13.69it/s]\n",
      "                 Class     Images  Instances      Box(P          R      mAP50  mAP50-95): 100%|██████████| 58/58 [00:02<00:00, 22.09it/s]\n"
     ]
    },
    {
     "name": "stdout",
     "output_type": "stream",
     "text": [
      "                   all        458      69565      0.739      0.388      0.433      0.309\n",
      "\n",
      "      Epoch    GPU_mem   box_loss   cls_loss   dfl_loss  Instances       Size\n"
     ]
    },
    {
     "name": "stderr",
     "output_type": "stream",
     "text": [
      "     58/100      22.2G      1.133     0.7754       1.11         18        896: 100%|██████████| 89/89 [00:06<00:00, 13.95it/s]\n",
      "                 Class     Images  Instances      Box(P          R      mAP50  mAP50-95): 100%|██████████| 58/58 [00:02<00:00, 21.82it/s]\n"
     ]
    },
    {
     "name": "stdout",
     "output_type": "stream",
     "text": [
      "                   all        458      69565      0.707      0.383      0.426      0.307\n",
      "\n",
      "      Epoch    GPU_mem   box_loss   cls_loss   dfl_loss  Instances       Size\n"
     ]
    },
    {
     "name": "stderr",
     "output_type": "stream",
     "text": [
      "     59/100      22.2G      1.081     0.7398      1.108         24        736: 100%|██████████| 89/89 [00:06<00:00, 13.91it/s]\n",
      "                 Class     Images  Instances      Box(P          R      mAP50  mAP50-95): 100%|██████████| 58/58 [00:02<00:00, 21.76it/s]\n"
     ]
    },
    {
     "name": "stdout",
     "output_type": "stream",
     "text": [
      "                   all        458      69565      0.722      0.375      0.425      0.307\n",
      "\n",
      "      Epoch    GPU_mem   box_loss   cls_loss   dfl_loss  Instances       Size\n"
     ]
    },
    {
     "name": "stderr",
     "output_type": "stream",
     "text": [
      "     60/100      22.2G      1.107     0.7582      1.106        115        480: 100%|██████████| 89/89 [00:06<00:00, 12.83it/s]\n",
      "                 Class     Images  Instances      Box(P          R      mAP50  mAP50-95): 100%|██████████| 58/58 [00:02<00:00, 21.68it/s]\n"
     ]
    },
    {
     "name": "stdout",
     "output_type": "stream",
     "text": [
      "                   all        458      69565      0.732      0.386      0.432      0.311\n",
      "\n",
      "      Epoch    GPU_mem   box_loss   cls_loss   dfl_loss  Instances       Size\n"
     ]
    },
    {
     "name": "stderr",
     "output_type": "stream",
     "text": [
      "     61/100      22.2G      1.096     0.7386      1.097        112        640: 100%|██████████| 89/89 [00:06<00:00, 13.94it/s]\n",
      "                 Class     Images  Instances      Box(P          R      mAP50  mAP50-95): 100%|██████████| 58/58 [00:02<00:00, 22.11it/s]\n"
     ]
    },
    {
     "name": "stdout",
     "output_type": "stream",
     "text": [
      "                   all        458      69565      0.745      0.377      0.429      0.308\n",
      "\n",
      "      Epoch    GPU_mem   box_loss   cls_loss   dfl_loss  Instances       Size\n"
     ]
    },
    {
     "name": "stderr",
     "output_type": "stream",
     "text": [
      "     62/100      22.3G      1.115     0.7596       1.13        115        480: 100%|██████████| 89/89 [00:06<00:00, 13.52it/s]\n",
      "                 Class     Images  Instances      Box(P          R      mAP50  mAP50-95): 100%|██████████| 58/58 [00:02<00:00, 22.57it/s]\n"
     ]
    },
    {
     "name": "stdout",
     "output_type": "stream",
     "text": [
      "                   all        458      69565      0.747      0.385      0.432      0.311\n",
      "\n",
      "      Epoch    GPU_mem   box_loss   cls_loss   dfl_loss  Instances       Size\n"
     ]
    },
    {
     "name": "stderr",
     "output_type": "stream",
     "text": [
      "     63/100      22.3G      1.085     0.7376        1.1         54        416: 100%|██████████| 89/89 [00:06<00:00, 13.94it/s]\n",
      "                 Class     Images  Instances      Box(P          R      mAP50  mAP50-95): 100%|██████████| 58/58 [00:02<00:00, 22.86it/s]\n"
     ]
    },
    {
     "name": "stdout",
     "output_type": "stream",
     "text": [
      "                   all        458      69565      0.726      0.377      0.426      0.308\n",
      "\n",
      "      Epoch    GPU_mem   box_loss   cls_loss   dfl_loss  Instances       Size\n"
     ]
    },
    {
     "name": "stderr",
     "output_type": "stream",
     "text": [
      "     64/100      22.3G      1.107     0.7558      1.119         36        448: 100%|██████████| 89/89 [00:07<00:00, 12.35it/s]\n",
      "                 Class     Images  Instances      Box(P          R      mAP50  mAP50-95): 100%|██████████| 58/58 [00:02<00:00, 22.55it/s]\n"
     ]
    },
    {
     "name": "stdout",
     "output_type": "stream",
     "text": [
      "                   all        458      69565      0.713      0.391       0.43      0.312\n",
      "\n",
      "      Epoch    GPU_mem   box_loss   cls_loss   dfl_loss  Instances       Size\n"
     ]
    },
    {
     "name": "stderr",
     "output_type": "stream",
     "text": [
      "     65/100      22.3G      1.062      0.746      1.116         67        608: 100%|██████████| 89/89 [00:07<00:00, 11.13it/s]\n",
      "                 Class     Images  Instances      Box(P          R      mAP50  mAP50-95): 100%|██████████| 58/58 [00:02<00:00, 21.15it/s]\n"
     ]
    },
    {
     "name": "stdout",
     "output_type": "stream",
     "text": [
      "                   all        458      69565      0.703      0.399      0.433      0.313\n",
      "\n",
      "      Epoch    GPU_mem   box_loss   cls_loss   dfl_loss  Instances       Size\n"
     ]
    },
    {
     "name": "stderr",
     "output_type": "stream",
     "text": [
      "     66/100      22.3G      1.078     0.7284      1.084        186        576: 100%|██████████| 89/89 [00:06<00:00, 13.46it/s]\n",
      "                 Class     Images  Instances      Box(P          R      mAP50  mAP50-95): 100%|██████████| 58/58 [00:02<00:00, 22.82it/s]\n"
     ]
    },
    {
     "name": "stdout",
     "output_type": "stream",
     "text": [
      "                   all        458      69565      0.729      0.388      0.431       0.31\n",
      "\n",
      "      Epoch    GPU_mem   box_loss   cls_loss   dfl_loss  Instances       Size\n"
     ]
    },
    {
     "name": "stderr",
     "output_type": "stream",
     "text": [
      "     67/100      22.3G      1.107     0.7421      1.104         49        864: 100%|██████████| 89/89 [00:07<00:00, 12.52it/s]\n",
      "                 Class     Images  Instances      Box(P          R      mAP50  mAP50-95): 100%|██████████| 58/58 [00:02<00:00, 22.66it/s]\n"
     ]
    },
    {
     "name": "stdout",
     "output_type": "stream",
     "text": [
      "                   all        458      69565      0.728      0.384       0.43       0.31\n",
      "\n",
      "      Epoch    GPU_mem   box_loss   cls_loss   dfl_loss  Instances       Size\n"
     ]
    },
    {
     "name": "stderr",
     "output_type": "stream",
     "text": [
      "     68/100      22.3G      1.117     0.7616      1.091        277        544: 100%|██████████| 89/89 [00:06<00:00, 13.57it/s]\n",
      "                 Class     Images  Instances      Box(P          R      mAP50  mAP50-95): 100%|██████████| 58/58 [00:02<00:00, 22.56it/s]\n"
     ]
    },
    {
     "name": "stdout",
     "output_type": "stream",
     "text": [
      "                   all        458      69565      0.742      0.379      0.429       0.31\n",
      "\n",
      "      Epoch    GPU_mem   box_loss   cls_loss   dfl_loss  Instances       Size\n"
     ]
    },
    {
     "name": "stderr",
     "output_type": "stream",
     "text": [
      "     69/100      22.4G      1.114     0.7603        1.1          3        960: 100%|██████████| 89/89 [00:06<00:00, 13.29it/s]\n",
      "                 Class     Images  Instances      Box(P          R      mAP50  mAP50-95): 100%|██████████| 58/58 [00:02<00:00, 22.16it/s]\n"
     ]
    },
    {
     "name": "stdout",
     "output_type": "stream",
     "text": [
      "                   all        458      69565      0.737       0.39      0.433      0.311\n",
      "\n",
      "      Epoch    GPU_mem   box_loss   cls_loss   dfl_loss  Instances       Size\n"
     ]
    },
    {
     "name": "stderr",
     "output_type": "stream",
     "text": [
      "     70/100      22.4G      1.091     0.7538      1.082        103        480: 100%|██████████| 89/89 [00:06<00:00, 13.73it/s]\n",
      "                 Class     Images  Instances      Box(P          R      mAP50  mAP50-95): 100%|██████████| 58/58 [00:02<00:00, 22.00it/s]\n"
     ]
    },
    {
     "name": "stdout",
     "output_type": "stream",
     "text": [
      "                   all        458      69565      0.746      0.387      0.433      0.312\n",
      "\n",
      "      Epoch    GPU_mem   box_loss   cls_loss   dfl_loss  Instances       Size\n"
     ]
    },
    {
     "name": "stderr",
     "output_type": "stream",
     "text": [
      "     71/100      22.4G      1.094      0.734      1.089        380        672: 100%|██████████| 89/89 [00:07<00:00, 11.54it/s]\n",
      "                 Class     Images  Instances      Box(P          R      mAP50  mAP50-95): 100%|██████████| 58/58 [00:02<00:00, 22.92it/s]\n"
     ]
    },
    {
     "name": "stdout",
     "output_type": "stream",
     "text": [
      "                   all        458      69565      0.727      0.393      0.437      0.314\n",
      "\n",
      "      Epoch    GPU_mem   box_loss   cls_loss   dfl_loss  Instances       Size\n"
     ]
    },
    {
     "name": "stderr",
     "output_type": "stream",
     "text": [
      "     72/100      22.4G      1.073     0.7273      1.083         10        960: 100%|██████████| 89/89 [00:06<00:00, 13.65it/s]\n",
      "                 Class     Images  Instances      Box(P          R      mAP50  mAP50-95): 100%|██████████| 58/58 [00:02<00:00, 22.18it/s]\n"
     ]
    },
    {
     "name": "stdout",
     "output_type": "stream",
     "text": [
      "                   all        458      69565      0.761      0.382      0.436      0.313\n",
      "\n",
      "      Epoch    GPU_mem   box_loss   cls_loss   dfl_loss  Instances       Size\n"
     ]
    },
    {
     "name": "stderr",
     "output_type": "stream",
     "text": [
      "     73/100      22.4G      1.097     0.7421      1.111         72        832: 100%|██████████| 89/89 [00:06<00:00, 13.91it/s]\n",
      "                 Class     Images  Instances      Box(P          R      mAP50  mAP50-95): 100%|██████████| 58/58 [00:02<00:00, 21.79it/s]\n"
     ]
    },
    {
     "name": "stdout",
     "output_type": "stream",
     "text": [
      "                   all        458      69565      0.725      0.384      0.431       0.31\n",
      "\n",
      "      Epoch    GPU_mem   box_loss   cls_loss   dfl_loss  Instances       Size\n"
     ]
    },
    {
     "name": "stderr",
     "output_type": "stream",
     "text": [
      "     74/100      22.4G      1.095     0.7546      1.122         21        576: 100%|██████████| 89/89 [00:07<00:00, 12.19it/s]\n",
      "                 Class     Images  Instances      Box(P          R      mAP50  mAP50-95): 100%|██████████| 58/58 [00:02<00:00, 22.52it/s]\n"
     ]
    },
    {
     "name": "stdout",
     "output_type": "stream",
     "text": [
      "                   all        458      69565      0.727      0.395      0.439      0.314\n",
      "\n",
      "      Epoch    GPU_mem   box_loss   cls_loss   dfl_loss  Instances       Size\n"
     ]
    },
    {
     "name": "stderr",
     "output_type": "stream",
     "text": [
      "     75/100      22.5G      1.099     0.7456      1.105         33        832: 100%|██████████| 89/89 [00:06<00:00, 13.48it/s]\n",
      "                 Class     Images  Instances      Box(P          R      mAP50  mAP50-95): 100%|██████████| 58/58 [00:02<00:00, 22.09it/s]\n"
     ]
    },
    {
     "name": "stdout",
     "output_type": "stream",
     "text": [
      "                   all        458      69565      0.745       0.38      0.433      0.313\n",
      "\n",
      "      Epoch    GPU_mem   box_loss   cls_loss   dfl_loss  Instances       Size\n"
     ]
    },
    {
     "name": "stderr",
     "output_type": "stream",
     "text": [
      "     76/100      22.5G      1.095     0.7322      1.081        473        480: 100%|██████████| 89/89 [00:06<00:00, 13.74it/s]\n",
      "                 Class     Images  Instances      Box(P          R      mAP50  mAP50-95): 100%|██████████| 58/58 [00:02<00:00, 22.35it/s]\n"
     ]
    },
    {
     "name": "stdout",
     "output_type": "stream",
     "text": [
      "                   all        458      69565      0.729      0.383      0.432      0.311\n",
      "\n",
      "      Epoch    GPU_mem   box_loss   cls_loss   dfl_loss  Instances       Size\n"
     ]
    },
    {
     "name": "stderr",
     "output_type": "stream",
     "text": [
      "     77/100      22.5G      1.096     0.7529      1.104         72        800: 100%|██████████| 89/89 [00:06<00:00, 12.89it/s]\n",
      "                 Class     Images  Instances      Box(P          R      mAP50  mAP50-95): 100%|██████████| 58/58 [00:02<00:00, 22.06it/s]\n"
     ]
    },
    {
     "name": "stdout",
     "output_type": "stream",
     "text": [
      "                   all        458      69565      0.709      0.391      0.432      0.313\n",
      "\n",
      "      Epoch    GPU_mem   box_loss   cls_loss   dfl_loss  Instances       Size\n"
     ]
    },
    {
     "name": "stderr",
     "output_type": "stream",
     "text": [
      "     78/100      22.5G      1.083     0.7302      1.094         18        672: 100%|██████████| 89/89 [00:06<00:00, 13.88it/s]\n",
      "                 Class     Images  Instances      Box(P          R      mAP50  mAP50-95): 100%|██████████| 58/58 [00:02<00:00, 22.72it/s]\n"
     ]
    },
    {
     "name": "stdout",
     "output_type": "stream",
     "text": [
      "                   all        458      69565      0.722       0.39      0.433      0.313\n",
      "\n",
      "      Epoch    GPU_mem   box_loss   cls_loss   dfl_loss  Instances       Size\n"
     ]
    },
    {
     "name": "stderr",
     "output_type": "stream",
     "text": [
      "     79/100      22.5G      1.083     0.7435      1.075        158        544: 100%|██████████| 89/89 [00:06<00:00, 13.66it/s]\n",
      "                 Class     Images  Instances      Box(P          R      mAP50  mAP50-95): 100%|██████████| 58/58 [00:02<00:00, 22.08it/s]\n"
     ]
    },
    {
     "name": "stdout",
     "output_type": "stream",
     "text": [
      "                   all        458      69565       0.74      0.391      0.437      0.314\n",
      "\n",
      "      Epoch    GPU_mem   box_loss   cls_loss   dfl_loss  Instances       Size\n"
     ]
    },
    {
     "name": "stderr",
     "output_type": "stream",
     "text": [
      "     80/100      22.5G      1.054     0.7258      1.084          3        672: 100%|██████████| 89/89 [00:06<00:00, 13.20it/s]\n",
      "                 Class     Images  Instances      Box(P          R      mAP50  mAP50-95): 100%|██████████| 58/58 [00:02<00:00, 21.48it/s]\n"
     ]
    },
    {
     "name": "stdout",
     "output_type": "stream",
     "text": [
      "                   all        458      69565      0.766      0.376      0.433      0.312\n",
      "\n",
      "      Epoch    GPU_mem   box_loss   cls_loss   dfl_loss  Instances       Size\n"
     ]
    },
    {
     "name": "stderr",
     "output_type": "stream",
     "text": [
      "     81/100      22.5G      1.046     0.7085      1.109        107        960: 100%|██████████| 89/89 [00:06<00:00, 14.25it/s]\n",
      "                 Class     Images  Instances      Box(P          R      mAP50  mAP50-95): 100%|██████████| 58/58 [00:02<00:00, 21.98it/s]\n"
     ]
    },
    {
     "name": "stdout",
     "output_type": "stream",
     "text": [
      "                   all        458      69565      0.723       0.39      0.433      0.314\n",
      "\n",
      "      Epoch    GPU_mem   box_loss   cls_loss   dfl_loss  Instances       Size\n"
     ]
    },
    {
     "name": "stderr",
     "output_type": "stream",
     "text": [
      "     82/100      22.6G       1.06     0.7467      1.089        415        320: 100%|██████████| 89/89 [00:06<00:00, 13.45it/s]\n",
      "                 Class     Images  Instances      Box(P          R      mAP50  mAP50-95): 100%|██████████| 58/58 [00:02<00:00, 21.96it/s]\n"
     ]
    },
    {
     "name": "stdout",
     "output_type": "stream",
     "text": [
      "                   all        458      69565      0.721      0.392      0.435      0.315\n",
      "\n",
      "      Epoch    GPU_mem   box_loss   cls_loss   dfl_loss  Instances       Size\n"
     ]
    },
    {
     "name": "stderr",
     "output_type": "stream",
     "text": [
      "     83/100      22.6G      1.082     0.7224      1.086        634        736: 100%|██████████| 89/89 [00:07<00:00, 12.12it/s]\n",
      "                 Class     Images  Instances      Box(P          R      mAP50  mAP50-95): 100%|██████████| 58/58 [00:02<00:00, 21.96it/s]\n"
     ]
    },
    {
     "name": "stdout",
     "output_type": "stream",
     "text": [
      "                   all        458      69565      0.732      0.391      0.434      0.313\n",
      "\n",
      "      Epoch    GPU_mem   box_loss   cls_loss   dfl_loss  Instances       Size\n"
     ]
    },
    {
     "name": "stderr",
     "output_type": "stream",
     "text": [
      "     84/100      22.6G      1.095     0.7381      1.073        244        544: 100%|██████████| 89/89 [00:06<00:00, 13.71it/s]\n",
      "                 Class     Images  Instances      Box(P          R      mAP50  mAP50-95): 100%|██████████| 58/58 [00:02<00:00, 22.28it/s]\n"
     ]
    },
    {
     "name": "stdout",
     "output_type": "stream",
     "text": [
      "                   all        458      69565      0.754      0.389      0.442      0.319\n",
      "\n",
      "      Epoch    GPU_mem   box_loss   cls_loss   dfl_loss  Instances       Size\n"
     ]
    },
    {
     "name": "stderr",
     "output_type": "stream",
     "text": [
      "     85/100      22.6G       1.08     0.7351       1.09        335        672: 100%|██████████| 89/89 [00:06<00:00, 13.93it/s]\n",
      "                 Class     Images  Instances      Box(P          R      mAP50  mAP50-95): 100%|██████████| 58/58 [00:02<00:00, 22.52it/s]\n"
     ]
    },
    {
     "name": "stdout",
     "output_type": "stream",
     "text": [
      "                   all        458      69565      0.735      0.389      0.437      0.316\n",
      "\n",
      "      Epoch    GPU_mem   box_loss   cls_loss   dfl_loss  Instances       Size\n"
     ]
    },
    {
     "name": "stderr",
     "output_type": "stream",
     "text": [
      "     86/100      22.6G      1.077     0.7332      1.086         25        416: 100%|██████████| 89/89 [00:06<00:00, 13.27it/s]\n",
      "                 Class     Images  Instances      Box(P          R      mAP50  mAP50-95): 100%|██████████| 58/58 [00:02<00:00, 22.78it/s]\n"
     ]
    },
    {
     "name": "stdout",
     "output_type": "stream",
     "text": [
      "                   all        458      69565      0.752      0.388      0.439      0.318\n",
      "\n",
      "      Epoch    GPU_mem   box_loss   cls_loss   dfl_loss  Instances       Size\n"
     ]
    },
    {
     "name": "stderr",
     "output_type": "stream",
     "text": [
      "     87/100      22.6G      1.105     0.7499      1.096         90        704: 100%|██████████| 89/89 [00:06<00:00, 13.89it/s]\n",
      "                 Class     Images  Instances      Box(P          R      mAP50  mAP50-95): 100%|██████████| 58/58 [00:02<00:00, 22.90it/s]\n"
     ]
    },
    {
     "name": "stdout",
     "output_type": "stream",
     "text": [
      "                   all        458      69565      0.741      0.388      0.436      0.316\n",
      "\n",
      "      Epoch    GPU_mem   box_loss   cls_loss   dfl_loss  Instances       Size\n"
     ]
    },
    {
     "name": "stderr",
     "output_type": "stream",
     "text": [
      "     88/100      22.7G       1.09     0.7521      1.102          9        704: 100%|██████████| 89/89 [00:06<00:00, 12.99it/s]\n",
      "                 Class     Images  Instances      Box(P          R      mAP50  mAP50-95): 100%|██████████| 58/58 [00:02<00:00, 22.66it/s]\n"
     ]
    },
    {
     "name": "stdout",
     "output_type": "stream",
     "text": [
      "                   all        458      69565      0.762      0.385      0.438      0.317\n",
      "\n",
      "      Epoch    GPU_mem   box_loss   cls_loss   dfl_loss  Instances       Size\n"
     ]
    },
    {
     "name": "stderr",
     "output_type": "stream",
     "text": [
      "     89/100      22.7G      1.085     0.7498      1.095         39        736: 100%|██████████| 89/89 [00:06<00:00, 13.19it/s]\n",
      "                 Class     Images  Instances      Box(P          R      mAP50  mAP50-95): 100%|██████████| 58/58 [00:02<00:00, 22.60it/s]\n"
     ]
    },
    {
     "name": "stdout",
     "output_type": "stream",
     "text": [
      "                   all        458      69565      0.749      0.387      0.437      0.316\n",
      "\n",
      "      Epoch    GPU_mem   box_loss   cls_loss   dfl_loss  Instances       Size\n"
     ]
    },
    {
     "name": "stderr",
     "output_type": "stream",
     "text": [
      "     90/100      22.7G      1.072     0.7213      1.082         36        640: 100%|██████████| 89/89 [00:06<00:00, 13.62it/s]\n",
      "                 Class     Images  Instances      Box(P          R      mAP50  mAP50-95): 100%|██████████| 58/58 [00:02<00:00, 22.62it/s]\n"
     ]
    },
    {
     "name": "stdout",
     "output_type": "stream",
     "text": [
      "                   all        458      69565      0.734      0.393      0.438      0.317\n",
      "Closing dataloader mosaic\n",
      "\n",
      "      Epoch    GPU_mem   box_loss   cls_loss   dfl_loss  Instances       Size\n"
     ]
    },
    {
     "name": "stderr",
     "output_type": "stream",
     "text": [
      "     91/100      22.7G       1.04     0.7152      1.094         56        320: 100%|██████████| 89/89 [00:07<00:00, 11.99it/s]\n",
      "                 Class     Images  Instances      Box(P          R      mAP50  mAP50-95): 100%|██████████| 58/58 [00:02<00:00, 21.42it/s]\n"
     ]
    },
    {
     "name": "stdout",
     "output_type": "stream",
     "text": [
      "                   all        458      69565      0.704      0.378      0.423      0.305\n",
      "\n",
      "      Epoch    GPU_mem   box_loss   cls_loss   dfl_loss  Instances       Size\n"
     ]
    },
    {
     "name": "stderr",
     "output_type": "stream",
     "text": [
      "     92/100      22.7G      1.019     0.7142      1.098         53        864: 100%|██████████| 89/89 [00:06<00:00, 13.94it/s]\n",
      "                 Class     Images  Instances      Box(P          R      mAP50  mAP50-95): 100%|██████████| 58/58 [00:02<00:00, 21.46it/s]\n"
     ]
    },
    {
     "name": "stdout",
     "output_type": "stream",
     "text": [
      "                   all        458      69565      0.708      0.384      0.427      0.308\n",
      "\n",
      "      Epoch    GPU_mem   box_loss   cls_loss   dfl_loss  Instances       Size\n"
     ]
    },
    {
     "name": "stderr",
     "output_type": "stream",
     "text": [
      "     93/100      22.7G     0.9927      0.672      1.095          7        832: 100%|██████████| 89/89 [00:06<00:00, 14.16it/s]\n",
      "                 Class     Images  Instances      Box(P          R      mAP50  mAP50-95): 100%|██████████| 58/58 [00:02<00:00, 22.63it/s]\n"
     ]
    },
    {
     "name": "stdout",
     "output_type": "stream",
     "text": [
      "                   all        458      69565      0.696      0.391      0.431      0.312\n",
      "\n",
      "      Epoch    GPU_mem   box_loss   cls_loss   dfl_loss  Instances       Size\n"
     ]
    },
    {
     "name": "stderr",
     "output_type": "stream",
     "text": [
      "     94/100      22.7G      1.072     0.7188      1.093         23        928: 100%|██████████| 89/89 [00:06<00:00, 14.43it/s]\n",
      "                 Class     Images  Instances      Box(P          R      mAP50  mAP50-95): 100%|██████████| 58/58 [00:02<00:00, 22.35it/s]\n"
     ]
    },
    {
     "name": "stdout",
     "output_type": "stream",
     "text": [
      "                   all        458      69565      0.714      0.383      0.429       0.31\n",
      "\n",
      "      Epoch    GPU_mem   box_loss   cls_loss   dfl_loss  Instances       Size\n"
     ]
    },
    {
     "name": "stderr",
     "output_type": "stream",
     "text": [
      "     95/100      22.8G      1.025     0.7157      1.121         39        928: 100%|██████████| 89/89 [00:06<00:00, 14.50it/s]\n",
      "                 Class     Images  Instances      Box(P          R      mAP50  mAP50-95): 100%|██████████| 58/58 [00:02<00:00, 22.66it/s]\n"
     ]
    },
    {
     "name": "stdout",
     "output_type": "stream",
     "text": [
      "                   all        458      69565      0.714      0.387      0.431      0.311\n",
      "\n",
      "      Epoch    GPU_mem   box_loss   cls_loss   dfl_loss  Instances       Size\n"
     ]
    },
    {
     "name": "stderr",
     "output_type": "stream",
     "text": [
      "     96/100      22.8G     0.9858     0.6865      1.084          4        448: 100%|██████████| 89/89 [00:05<00:00, 15.06it/s]\n",
      "                 Class     Images  Instances      Box(P          R      mAP50  mAP50-95): 100%|██████████| 58/58 [00:02<00:00, 22.54it/s]\n"
     ]
    },
    {
     "name": "stdout",
     "output_type": "stream",
     "text": [
      "                   all        458      69565      0.735      0.386      0.433      0.313\n",
      "\n",
      "      Epoch    GPU_mem   box_loss   cls_loss   dfl_loss  Instances       Size\n"
     ]
    },
    {
     "name": "stderr",
     "output_type": "stream",
     "text": [
      "     97/100      22.8G      1.027     0.7031      1.095        386        832: 100%|██████████| 89/89 [00:06<00:00, 14.48it/s]\n",
      "                 Class     Images  Instances      Box(P          R      mAP50  mAP50-95): 100%|██████████| 58/58 [00:02<00:00, 22.43it/s]\n"
     ]
    },
    {
     "name": "stdout",
     "output_type": "stream",
     "text": [
      "                   all        458      69565      0.746      0.386      0.435      0.315\n",
      "\n",
      "      Epoch    GPU_mem   box_loss   cls_loss   dfl_loss  Instances       Size\n"
     ]
    },
    {
     "name": "stderr",
     "output_type": "stream",
     "text": [
      "     98/100      22.8G     0.9854      0.817      1.082          2        896: 100%|██████████| 89/89 [00:06<00:00, 14.54it/s]\n",
      "                 Class     Images  Instances      Box(P          R      mAP50  mAP50-95): 100%|██████████| 58/58 [00:02<00:00, 22.44it/s]\n"
     ]
    },
    {
     "name": "stdout",
     "output_type": "stream",
     "text": [
      "                   all        458      69565      0.749      0.385      0.436      0.315\n",
      "\n",
      "      Epoch    GPU_mem   box_loss   cls_loss   dfl_loss  Instances       Size\n"
     ]
    },
    {
     "name": "stderr",
     "output_type": "stream",
     "text": [
      "     99/100      22.8G      1.039     0.7075      1.091          3        352: 100%|██████████| 89/89 [00:06<00:00, 14.21it/s]\n",
      "                 Class     Images  Instances      Box(P          R      mAP50  mAP50-95): 100%|██████████| 58/58 [00:02<00:00, 22.58it/s]\n"
     ]
    },
    {
     "name": "stdout",
     "output_type": "stream",
     "text": [
      "                   all        458      69565      0.743      0.391      0.437      0.316\n",
      "\u001b[34m\u001b[1mEarlyStopping: \u001b[0mTraining stopped early as no improvement observed in last 15 epochs. Best results observed at epoch 84, best model saved as best.pt.\n",
      "To update EarlyStopping(patience=15) pass a new patience value, i.e. `patience=300` or use `patience=0` to disable EarlyStopping.\n",
      "\n",
      "99 epochs completed in 0.271 hours.\n",
      "Optimizer stripped from test_yolo/experiment_14/weights/last.pt, 5.6MB\n",
      "Optimizer stripped from test_yolo/experiment_14/weights/best.pt, 5.6MB\n",
      "\n",
      "Validating test_yolo/experiment_14/weights/best.pt...\n",
      "Ultralytics 8.3.121 🚀 Python-3.10.17 torch-2.7.0+cu126 CUDA:0 (NVIDIA RTX 6000 Ada Generation, 48625MiB)\n",
      "                                                        CUDA:1 (NVIDIA RTX 6000 Ada Generation, 48647MiB)\n",
      "YOLO11n-obb summary (fused): 109 layers, 2,656,843 parameters, 0 gradients, 6.6 GFLOPs\n"
     ]
    },
    {
     "name": "stderr",
     "output_type": "stream",
     "text": [
      "                 Class     Images  Instances      Box(P          R      mAP50  mAP50-95): 100%|██████████| 58/58 [00:07<00:00,  8.05it/s]\n"
     ]
    },
    {
     "name": "stdout",
     "output_type": "stream",
     "text": [
      "                   all        458      69565       0.75       0.39      0.442      0.319\n",
      "                 plane         71       2550      0.838      0.673      0.732      0.554\n",
      "                  ship        138      10765      0.796      0.441      0.528      0.332\n",
      "          storage tank         60       2940       0.87      0.223      0.343      0.226\n",
      "      baseball diamond         53        213      0.781      0.446       0.55      0.384\n",
      "          tennis court         93        763      0.879      0.898      0.925       0.87\n",
      "      basketball court         39        143      0.696      0.378      0.444      0.391\n",
      "    ground track field         71        145      0.584      0.421      0.422      0.341\n",
      "                harbor        116       2102      0.734      0.695      0.705      0.384\n",
      "                bridge         75        466      0.578      0.103      0.139      0.055\n",
      "         large vehicle        158       5139      0.791      0.693       0.73      0.547\n",
      "         small vehicle        275      43337      0.746      0.114      0.219      0.131\n",
      "            helicopter         16         78       0.93      0.269      0.398      0.259\n",
      "            roundabout         67        185      0.575      0.124      0.136      0.111\n",
      "     soccer ball field         59        149      0.497      0.362      0.331      0.279\n",
      "         swimming pool         62        576      0.702      0.398      0.461      0.236\n",
      "       container crane          2         14          1          0          0          0\n",
      "Speed: 0.1ms preprocess, 1.0ms inference, 0.0ms loss, 1.8ms postprocess per image\n",
      "Results saved to \u001b[1mtest_yolo/experiment_14\u001b[0m\n"
     ]
    }
   ],
   "source": [
    "results = model.train(\n",
    "    data=\"dotav1.yml\",  # Path to custom dataset YAML\n",
    "    epochs=100,                          # Total number of training epochs\n",
    "    imgsz=640,                           # Input image size for training\n",
    "    patience=15,                         # patience: Number of epochs with no improvement before early stopping\n",
    "    batch=16,                            # batch: Batch size (use -1 or a fraction for auto GPU memory utilization)\n",
    "    save=True,                           # save: Save training checkpoints and final model weights\n",
    "    save_period=-1,                      # save_period: Frequency (in epochs) for saving checkpoints; -1 disables\n",
    "    cache=False,                         # cache: Enable caching of dataset images (True for RAM, 'disk' for disk caching)\n",
    "    device='0, 1',                       # device: Specify the computational device (e.g., 0, \"cpu\", or list of GPUs)\n",
    "    workers=8,                           # workers: Number of worker threads for data loading\n",
    "    project=\"test_yolo\",                 # project: Name of the project directory for saving outputs\n",
    "    name=\"experiment_1\",                 # name: Name of the training run\n",
    "    exist_ok=False,                      # exist_ok: Allow overwriting an existing project/name directory if True\n",
    "    pretrained=True,                     # pretrained: Start from a pretrained model or provide a path to one\n",
    "    optimizer=\"auto\",                    # optimizer: Choice of optimizer (e.g., 'SGD', 'Adam', or 'auto')\n",
    "    seed=18,                             # seed: Random seed for reproducibility\n",
    "    single_cls=False,                    # single_cls: Treat all classes as a single class (useful for binary tasks)\n",
    "    classes=None,                        # classes: List of class IDs to train on; None uses all classes\n",
    "    rect=False,                          # rect: Enable rectangular training to minimize padding in batches\n",
    "    multi_scale=True,                    # multi_scale: Enable multi-scale training by varying the imgsz during training\n",
    "    cos_lr=False,                        # cos_lr: Use a cosine learning rate scheduler\n",
    "    close_mosaic=10,                     # close_mosaic: Disable mosaic augmentation in the last N epochs\n",
    "    resume=False,                        # resume: Resume training from the last checkpoint if available\n",
    "    amp=True,                            # amp: Enable Automatic Mixed Precision training\n",
    "    #fraction=1.0,                       # fraction: Fraction of the dataset to use for training\n",
    "    freeze=None,                         # freeze: Freeze the first N layers or specify list of layers to freeze\n",
    "    lr0=0.01,                            # lr0: Initial learning rate\n",
    "    lrf=0.001,                           # lrf: Final learning rate as a fraction of lr0 (lr0 * lrf)\n",
    "    momentum=0.937,                      # momentum: Momentum factor for the optimizer\n",
    "    weight_decay=0.0005,                 # weight_decay: L2 regularization coefficient to prevent overfitting\n",
    "    warmup_epochs=3.0,                   # warmup_epochs: Number of epochs for learning rate warmup\n",
    "    warmup_momentum=0.8,                 # warmup_momentum: Initial momentum value during the warmup phase\n",
    "    warmup_bias_lr=0.1,                  # warmup_bias_lr: Learning rate for bias parameters during warmup\n",
    "    box=7.5,                             # box: Weight of the box loss component (bounding box regression)\n",
    "    cls=0.5,                             # cls: Weight of the classification loss component\n",
    "    dfl=1.5,                             # dfl: Weight of the distribution focal loss for fine-grained classification\n",
    "    pose=12.0,                           # pose: Weight of the pose loss for keypoint or pose estimation tasks\n",
    "    kobj=2.0,                            # kobj: Weight of the keypoint objectness loss in pose estimation models\n",
    "    nbs=64,                              # nbs: Nominal batch size for loss normalization\n",
    "    overlap_mask=True,                   # overlap_mask: Merge overlapping masks into a single mask if True\n",
    "    mask_ratio=4,                        # mask_ratio: Downsample ratio for segmentation masks\n",
    "    dropout=0.0,                         # dropout: Dropout rate for regularization\n",
    "    val=True,                            # val: Enable validation during training\n",
    "    plots=True,                          # plots: Generate and save plots of training and validation metrics\n",
    "    hsv_h=0.015,  # Adjusts the hue of the image by a fraction of the color wheel\n",
    "    hsv_s=0.7,    # Alters the saturation for varied color intensity\n",
    "    hsv_v=0.4,    # Modifies brightness to simulate different lighting conditions\n",
    "    degrees=0.0,  # Rotates the image 0° (no rotation); adjust between 0 and 180 for random rotation\n",
    "    translate=0.1,  # Translates the image by 10% of its size\n",
    "    scale=0.5,    # Scales the image, simulating objects at different distances\n",
    "    shear=0.0,    # Shears the image 0° (no shearing); modify between -180 and 180 for effect\n",
    "    perspective=0.0,  # Applies no perspective transformation; use values up to 0.001 if needed\n",
    "    flipud=0.0,   # Probability (0%) of flipping the image upside down\n",
    "    fliplr=0.5,   # 50% chance to horizontally flip the image\n",
    "    bgr=0.0,      # No conversion from RGB to BGR (0% chance)\n",
    "    mosaic=1.0,   # Enables mosaic augmentation by merging four images into one\n",
    "    mixup=0.0,    # Disables mixup augmentation (blends two images)\n",
    "    cutmix=0.0,   # Disables cutmix augmentation (combines portions of two images)\n",
    "    copy_paste=0.0,  # Disables copy-paste augmentation for segmentation\n",
    "    copy_paste_mode=\"flip\",  # Use 'flip' strategy if copy-paste is enabled\n",
    "    auto_augment=\"randaugment\",  # Applies RandAugment, a random augmentation policy for classification\n",
    "    erasing=0.4    # Randomly erases regions (40% probability) to encourage robust feature extraction\n",
    ")"
   ]
  },
  {
   "cell_type": "markdown",
   "id": "cce90fdb",
   "metadata": {},
   "source": [
    "### Validated Model"
   ]
  },
  {
   "cell_type": "code",
   "execution_count": 12,
   "id": "15ba0924",
   "metadata": {},
   "outputs": [
    {
     "name": "stdout",
     "output_type": "stream",
     "text": [
      "Ultralytics 8.3.121 🚀 Python-3.10.17 torch-2.7.0+cu126 CUDA:0 (NVIDIA RTX 6000 Ada Generation, 48625MiB)\n",
      "YOLO11n-obb summary (fused): 109 layers, 2,656,843 parameters, 0 gradients, 6.6 GFLOPs\n",
      "\u001b[34m\u001b[1mval: \u001b[0mFast image access ✅ (ping: 0.0±0.0 ms, read: 3591.6±1738.3 MB/s, size: 16405.2 KB)\n"
     ]
    },
    {
     "name": "stderr",
     "output_type": "stream",
     "text": [
      "\u001b[34m\u001b[1mval: \u001b[0mScanning /home/jupyter-dai7591/yolo/DOTAv1.5/labels/val... 3 images, 0 backgrounds, 0 corrupt:   1%|          | 3/395 [00:00<00:16, 23.28it/s]"
     ]
    },
    {
     "name": "stderr",
     "output_type": "stream",
     "text": [
      "\u001b[34m\u001b[1mval: \u001b[0mScanning /home/jupyter-dai7591/yolo/DOTAv1.5/labels/val... 395 images, 0 backgrounds, 0 corrupt: 100%|██████████| 395/395 [00:07<00:00, 50.16it/s] "
     ]
    },
    {
     "name": "stdout",
     "output_type": "stream",
     "text": [
      "\u001b[34m\u001b[1mval: \u001b[0mNew cache created: /home/jupyter-dai7591/yolo/DOTAv1.5/labels/val.cache\n"
     ]
    },
    {
     "name": "stderr",
     "output_type": "stream",
     "text": [
      "\n",
      "                 Class     Images  Instances      Box(P          R      mAP50  mAP50-95): 100%|██████████| 25/25 [00:11<00:00,  2.15it/s]\n"
     ]
    },
    {
     "name": "stdout",
     "output_type": "stream",
     "text": [
      "                   all        395      51217      0.695      0.427      0.459      0.243\n",
      "                 plane         67       2432      0.833       0.67      0.729      0.474\n",
      "                  ship        126      10015      0.784      0.444      0.512      0.167\n",
      "          storage tank         44        711      0.904      0.279      0.404      0.281\n",
      "      baseball diamond         50        209      0.807      0.459      0.557      0.325\n",
      "          tennis court         80        656       0.91      0.912       0.95      0.567\n",
      "      basketball court         34        122      0.721      0.443      0.484      0.273\n",
      "    ground track field         48         74      0.567      0.595      0.601      0.322\n",
      "                harbor        109       2032      0.606      0.606      0.519      0.165\n",
      "                bridge         58        386      0.372     0.0675     0.0777     0.0203\n",
      "         large vehicle        133       4271      0.565      0.529      0.409      0.147\n",
      "         small vehicle        245      29487       0.75      0.158      0.265      0.107\n",
      "            helicopter         15         76          1      0.295      0.405      0.239\n",
      "            roundabout         46        144      0.458     0.0833        0.1     0.0875\n",
      "     soccer ball field         38         64      0.451      0.422      0.369      0.239\n",
      "         swimming pool         56        538      0.699      0.439      0.508      0.237\n",
      "Speed: 0.1ms preprocess, 3.6ms inference, 0.0ms loss, 2.9ms postprocess per image\n",
      "Results saved to \u001b[1mruns/obb/val2\u001b[0m\n"
     ]
    },
    {
     "data": {
      "text/plain": [
       "array([    0.47361,     0.16705,     0.28117,      0.3246,     0.56738,     0.27285,      0.3218,     0.16539,    0.020274,     0.14662,     0.10721,      0.2391,    0.087511,     0.23862,     0.23657,     0.24332])"
      ]
     },
     "execution_count": 12,
     "metadata": {},
     "output_type": "execute_result"
    }
   ],
   "source": [
    "# Validate the model\n",
    "model = YOLO(\"test_yolo/experiment_14/weights/best.pt\") # n for nano, x for huge\n",
    "metrics = model.val(data=\"dotav1.yml\")  # no arguments needed, dataset and settings remembered\n",
    "metrics.box.map  # map50-95\n",
    "metrics.box.map50  # map50\n",
    "metrics.box.map75  # map75\n",
    "metrics.box.maps  # a list contains map50-95 of each category\n",
    "\n"
   ]
  }
 ],
 "metadata": {
  "kernelspec": {
   "display_name": "Python 3 (ipykernel)",
   "language": "python",
   "name": "python3"
  },
  "language_info": {
   "codemirror_mode": {
    "name": "ipython",
    "version": 3
   },
   "file_extension": ".py",
   "mimetype": "text/x-python",
   "name": "python",
   "nbconvert_exporter": "python",
   "pygments_lexer": "ipython3",
   "version": "3.10.14"
  }
 },
 "nbformat": 4,
 "nbformat_minor": 5
}
